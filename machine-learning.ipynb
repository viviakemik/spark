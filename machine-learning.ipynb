{
  "nbformat": 4,
  "nbformat_minor": 0,
  "metadata": {
    "colab": {
      "name": "machine-learning.ipynb",
      "provenance": [],
      "authorship_tag": "ABX9TyO6+SbUfB56LQMxMFlOW47j",
      "include_colab_link": true
    },
    "kernelspec": {
      "display_name": "Python 3",
      "name": "python3"
    },
    "language_info": {
      "name": "python"
    }
  },
  "cells": [
    {
      "cell_type": "markdown",
      "metadata": {
        "id": "view-in-github",
        "colab_type": "text"
      },
      "source": [
        "<a href=\"https://colab.research.google.com/github/viviakemik/spark/blob/main/machine-learning.ipynb\" target=\"_parent\"><img src=\"https://colab.research.google.com/assets/colab-badge.svg\" alt=\"Open In Colab\"/></a>"
      ]
    },
    {
      "cell_type": "code",
      "metadata": {
        "colab": {
          "base_uri": "https://localhost:8080/"
        },
        "id": "V8AsSUFKdvVi",
        "outputId": "143dd0c9-32d2-4a5f-f329-e8661d272381"
      },
      "source": [
        "pip install pyspark"
      ],
      "execution_count": 1,
      "outputs": [
        {
          "output_type": "stream",
          "name": "stdout",
          "text": [
            "Collecting pyspark\n",
            "  Downloading pyspark-3.2.0.tar.gz (281.3 MB)\n",
            "\u001b[K     |████████████████████████████████| 281.3 MB 37 kB/s \n",
            "\u001b[?25hCollecting py4j==0.10.9.2\n",
            "  Downloading py4j-0.10.9.2-py2.py3-none-any.whl (198 kB)\n",
            "\u001b[K     |████████████████████████████████| 198 kB 63.2 MB/s \n",
            "\u001b[?25hBuilding wheels for collected packages: pyspark\n",
            "  Building wheel for pyspark (setup.py) ... \u001b[?25l\u001b[?25hdone\n",
            "  Created wheel for pyspark: filename=pyspark-3.2.0-py2.py3-none-any.whl size=281805912 sha256=eb81f2e61e66d2f8829fa7ad68c476238b17856c25e1ffaaa6c5db0cca6007f4\n",
            "  Stored in directory: /root/.cache/pip/wheels/0b/de/d2/9be5d59d7331c6c2a7c1b6d1a4f463ce107332b1ecd4e80718\n",
            "Successfully built pyspark\n",
            "Installing collected packages: py4j, pyspark\n",
            "Successfully installed py4j-0.10.9.2 pyspark-3.2.0\n"
          ]
        }
      ]
    },
    {
      "cell_type": "code",
      "metadata": {
        "id": "ny4CQApXcwEn"
      },
      "source": [
        "from pyspark.sql import SparkSession\n",
        "from pyspark.ml.feature import RegexTokenizer, VectorAssembler, Normalizer, StandardScaler\n",
        "from pyspark.sql.functions import udf\n",
        "from pyspark.sql.types import IntegerType\n",
        "\n",
        "import re"
      ],
      "execution_count": 2,
      "outputs": []
    },
    {
      "cell_type": "code",
      "metadata": {
        "id": "ppEh63rvd7jg"
      },
      "source": [
        "spark = SparkSession.builder \\\n",
        "    .master(\"local\") \\\n",
        "    .appName(\"Word Count\") \\\n",
        "    .getOrCreate()"
      ],
      "execution_count": 3,
      "outputs": []
    },
    {
      "cell_type": "code",
      "metadata": {
        "colab": {
          "base_uri": "https://localhost:8080/"
        },
        "id": "gKqGQBlyeJ8G",
        "outputId": "635ea724-281d-48f8-b573-6b1ace701997"
      },
      "source": [
        "from google.colab import drive\n",
        "drive.mount('/content/drive')"
      ],
      "execution_count": 4,
      "outputs": [
        {
          "output_type": "stream",
          "name": "stdout",
          "text": [
            "Mounted at /content/drive\n"
          ]
        }
      ]
    },
    {
      "cell_type": "code",
      "metadata": {
        "id": "fp99mZNVeAHv"
      },
      "source": [
        "stack_overflow_data = 'drive/MyDrive/Github/spark/data/Train_onetag_small.json'"
      ],
      "execution_count": 5,
      "outputs": []
    },
    {
      "cell_type": "code",
      "metadata": {
        "id": "eA5IGvYOeiQB"
      },
      "source": [
        "df = spark.read.json(stack_overflow_data)"
      ],
      "execution_count": 6,
      "outputs": []
    },
    {
      "cell_type": "code",
      "metadata": {
        "colab": {
          "base_uri": "https://localhost:8080/"
        },
        "id": "iDv320uSelBK",
        "outputId": "bf2f9491-9d59-4ff7-c931-3846801db01e"
      },
      "source": [
        "df.head()"
      ],
      "execution_count": 7,
      "outputs": [
        {
          "output_type": "execute_result",
          "data": {
            "text/plain": [
              "Row(Body=\"<p>I'd like to check if an uploaded file is an image file (e.g png, jpg, jpeg, gif, bmp) or another file. The problem is that I'm using Uploadify to upload the files, which changes the mime type and gives a 'text/octal' or something as the mime type, no matter which file type you upload.</p>\\n\\n<p>Is there a way to check if the uploaded file is an image apart from checking the file extension using PHP?</p>\\n\", Id=1, Tags='php image-processing file-upload upload mime-types', Title='How to check if an uploaded file is an image without mime type?', oneTag='php')"
            ]
          },
          "metadata": {},
          "execution_count": 7
        }
      ]
    },
    {
      "cell_type": "markdown",
      "metadata": {
        "id": "rd1MjpPFepeA"
      },
      "source": [
        "# **Tokenization**"
      ]
    },
    {
      "cell_type": "code",
      "metadata": {
        "colab": {
          "base_uri": "https://localhost:8080/"
        },
        "id": "AFyXf_2Let8A",
        "outputId": "9477150e-1a1e-43dc-96d7-9403fe87f6d4"
      },
      "source": [
        "regexTokenizer = RegexTokenizer(inputCol=\"Body\", outputCol=\"words\", pattern=\"\\\\W\")\n",
        "df = regexTokenizer.transform(df)\n",
        "df.head()"
      ],
      "execution_count": 8,
      "outputs": [
        {
          "output_type": "execute_result",
          "data": {
            "text/plain": [
              "Row(Body=\"<p>I'd like to check if an uploaded file is an image file (e.g png, jpg, jpeg, gif, bmp) or another file. The problem is that I'm using Uploadify to upload the files, which changes the mime type and gives a 'text/octal' or something as the mime type, no matter which file type you upload.</p>\\n\\n<p>Is there a way to check if the uploaded file is an image apart from checking the file extension using PHP?</p>\\n\", Id=1, Tags='php image-processing file-upload upload mime-types', Title='How to check if an uploaded file is an image without mime type?', oneTag='php', words=['p', 'i', 'd', 'like', 'to', 'check', 'if', 'an', 'uploaded', 'file', 'is', 'an', 'image', 'file', 'e', 'g', 'png', 'jpg', 'jpeg', 'gif', 'bmp', 'or', 'another', 'file', 'the', 'problem', 'is', 'that', 'i', 'm', 'using', 'uploadify', 'to', 'upload', 'the', 'files', 'which', 'changes', 'the', 'mime', 'type', 'and', 'gives', 'a', 'text', 'octal', 'or', 'something', 'as', 'the', 'mime', 'type', 'no', 'matter', 'which', 'file', 'type', 'you', 'upload', 'p', 'p', 'is', 'there', 'a', 'way', 'to', 'check', 'if', 'the', 'uploaded', 'file', 'is', 'an', 'image', 'apart', 'from', 'checking', 'the', 'file', 'extension', 'using', 'php', 'p'])"
            ]
          },
          "metadata": {},
          "execution_count": 8
        }
      ]
    },
    {
      "cell_type": "code",
      "metadata": {
        "id": "4cBItHike94E"
      },
      "source": [
        "body_length = udf(lambda x: len(x), IntegerType())\n",
        "df = df.withColumn(\"BodyLength\", body_length(df.words))"
      ],
      "execution_count": 9,
      "outputs": []
    },
    {
      "cell_type": "code",
      "metadata": {
        "id": "KOg-f-ZcfA5p"
      },
      "source": [
        "number_of_paragraphs = udf(lambda x: len(re.findall(\"</p>\", x)), IntegerType())\n",
        "number_of_links = udf(lambda x: len(re.findall(\"</a>\", x)), IntegerType())"
      ],
      "execution_count": 10,
      "outputs": []
    },
    {
      "cell_type": "code",
      "metadata": {
        "id": "ZhDA56KYfPjD"
      },
      "source": [
        "df = df.withColumn(\"NumParagraphs\", number_of_paragraphs(df.Body))\n",
        "df = df.withColumn(\"NumLinks\", number_of_links(df.Body))"
      ],
      "execution_count": 11,
      "outputs": []
    },
    {
      "cell_type": "code",
      "metadata": {
        "colab": {
          "base_uri": "https://localhost:8080/"
        },
        "id": "PL5WHdAcfRrU",
        "outputId": "ec9f537c-8826-4e00-9d8c-e1c0f46442ea"
      },
      "source": [
        "df.head(2)"
      ],
      "execution_count": 12,
      "outputs": [
        {
          "output_type": "execute_result",
          "data": {
            "text/plain": [
              "[Row(Body=\"<p>I'd like to check if an uploaded file is an image file (e.g png, jpg, jpeg, gif, bmp) or another file. The problem is that I'm using Uploadify to upload the files, which changes the mime type and gives a 'text/octal' or something as the mime type, no matter which file type you upload.</p>\\n\\n<p>Is there a way to check if the uploaded file is an image apart from checking the file extension using PHP?</p>\\n\", Id=1, Tags='php image-processing file-upload upload mime-types', Title='How to check if an uploaded file is an image without mime type?', oneTag='php', words=['p', 'i', 'd', 'like', 'to', 'check', 'if', 'an', 'uploaded', 'file', 'is', 'an', 'image', 'file', 'e', 'g', 'png', 'jpg', 'jpeg', 'gif', 'bmp', 'or', 'another', 'file', 'the', 'problem', 'is', 'that', 'i', 'm', 'using', 'uploadify', 'to', 'upload', 'the', 'files', 'which', 'changes', 'the', 'mime', 'type', 'and', 'gives', 'a', 'text', 'octal', 'or', 'something', 'as', 'the', 'mime', 'type', 'no', 'matter', 'which', 'file', 'type', 'you', 'upload', 'p', 'p', 'is', 'there', 'a', 'way', 'to', 'check', 'if', 'the', 'uploaded', 'file', 'is', 'an', 'image', 'apart', 'from', 'checking', 'the', 'file', 'extension', 'using', 'php', 'p'], BodyLength=83, NumParagraphs=2, NumLinks=0),\n",
              " Row(Body='<p>In my favorite editor (vim), I regularly use ctrl-w to execute a certain action. Now, it quite often happens to me that firefox is the active window (on windows) while I still look at vim (thinking vim is the active window) and press ctrl-w which closes firefox. This is not what I want. Is there a way to stop ctrl-w from closing firefox?</p>\\n\\n<p>Rene</p>\\n', Id=2, Tags='firefox', Title='How can I prevent firefox from closing when I press ctrl-w', oneTag='firefox', words=['p', 'in', 'my', 'favorite', 'editor', 'vim', 'i', 'regularly', 'use', 'ctrl', 'w', 'to', 'execute', 'a', 'certain', 'action', 'now', 'it', 'quite', 'often', 'happens', 'to', 'me', 'that', 'firefox', 'is', 'the', 'active', 'window', 'on', 'windows', 'while', 'i', 'still', 'look', 'at', 'vim', 'thinking', 'vim', 'is', 'the', 'active', 'window', 'and', 'press', 'ctrl', 'w', 'which', 'closes', 'firefox', 'this', 'is', 'not', 'what', 'i', 'want', 'is', 'there', 'a', 'way', 'to', 'stop', 'ctrl', 'w', 'from', 'closing', 'firefox', 'p', 'p', 'rene', 'p'], BodyLength=71, NumParagraphs=2, NumLinks=0)]"
            ]
          },
          "metadata": {},
          "execution_count": 12
        }
      ]
    },
    {
      "cell_type": "markdown",
      "metadata": {
        "id": "KxzEMZG9fiZn"
      },
      "source": [
        "## **VectorAssembler**\n",
        "\n",
        "Combine the body length, number of paragraphs, and number of links columns into a vector"
      ]
    },
    {
      "cell_type": "code",
      "metadata": {
        "id": "YtVqymEgfhuy"
      },
      "source": [
        "assembler = VectorAssembler(inputCols=[\"BodyLength\", \"NumParagraphs\", \"NumLinks\"], outputCol=\"NumFeatures\")\n",
        "df = assembler.transform(df)"
      ],
      "execution_count": 13,
      "outputs": []
    },
    {
      "cell_type": "code",
      "metadata": {
        "colab": {
          "base_uri": "https://localhost:8080/"
        },
        "id": "j8BCUr94ftx1",
        "outputId": "dd7d1635-b070-4848-ec68-40d2f856c9a6"
      },
      "source": [
        "df.head()"
      ],
      "execution_count": 14,
      "outputs": [
        {
          "output_type": "execute_result",
          "data": {
            "text/plain": [
              "Row(Body=\"<p>I'd like to check if an uploaded file is an image file (e.g png, jpg, jpeg, gif, bmp) or another file. The problem is that I'm using Uploadify to upload the files, which changes the mime type and gives a 'text/octal' or something as the mime type, no matter which file type you upload.</p>\\n\\n<p>Is there a way to check if the uploaded file is an image apart from checking the file extension using PHP?</p>\\n\", Id=1, Tags='php image-processing file-upload upload mime-types', Title='How to check if an uploaded file is an image without mime type?', oneTag='php', words=['p', 'i', 'd', 'like', 'to', 'check', 'if', 'an', 'uploaded', 'file', 'is', 'an', 'image', 'file', 'e', 'g', 'png', 'jpg', 'jpeg', 'gif', 'bmp', 'or', 'another', 'file', 'the', 'problem', 'is', 'that', 'i', 'm', 'using', 'uploadify', 'to', 'upload', 'the', 'files', 'which', 'changes', 'the', 'mime', 'type', 'and', 'gives', 'a', 'text', 'octal', 'or', 'something', 'as', 'the', 'mime', 'type', 'no', 'matter', 'which', 'file', 'type', 'you', 'upload', 'p', 'p', 'is', 'there', 'a', 'way', 'to', 'check', 'if', 'the', 'uploaded', 'file', 'is', 'an', 'image', 'apart', 'from', 'checking', 'the', 'file', 'extension', 'using', 'php', 'p'], BodyLength=83, NumParagraphs=2, NumLinks=0, NumFeatures=DenseVector([83.0, 2.0, 0.0]))"
            ]
          },
          "metadata": {},
          "execution_count": 14
        }
      ]
    },
    {
      "cell_type": "markdown",
      "metadata": {
        "id": "8JeUn6abfzuv"
      },
      "source": [
        "## **Normalize the Vectors**"
      ]
    },
    {
      "cell_type": "code",
      "metadata": {
        "id": "-zLoFbIEf21v"
      },
      "source": [
        "scaler = Normalizer(inputCol=\"NumFeatures\", outputCol=\"ScaledNumFeatures\")\n",
        "df = scaler.transform(df)"
      ],
      "execution_count": 15,
      "outputs": []
    },
    {
      "cell_type": "code",
      "metadata": {
        "colab": {
          "base_uri": "https://localhost:8080/"
        },
        "id": "cHUEPujhf47I",
        "outputId": "53fcbaeb-1237-4f04-f945-9b8e94632778"
      },
      "source": [
        "df.head(2)"
      ],
      "execution_count": 16,
      "outputs": [
        {
          "output_type": "execute_result",
          "data": {
            "text/plain": [
              "[Row(Body=\"<p>I'd like to check if an uploaded file is an image file (e.g png, jpg, jpeg, gif, bmp) or another file. The problem is that I'm using Uploadify to upload the files, which changes the mime type and gives a 'text/octal' or something as the mime type, no matter which file type you upload.</p>\\n\\n<p>Is there a way to check if the uploaded file is an image apart from checking the file extension using PHP?</p>\\n\", Id=1, Tags='php image-processing file-upload upload mime-types', Title='How to check if an uploaded file is an image without mime type?', oneTag='php', words=['p', 'i', 'd', 'like', 'to', 'check', 'if', 'an', 'uploaded', 'file', 'is', 'an', 'image', 'file', 'e', 'g', 'png', 'jpg', 'jpeg', 'gif', 'bmp', 'or', 'another', 'file', 'the', 'problem', 'is', 'that', 'i', 'm', 'using', 'uploadify', 'to', 'upload', 'the', 'files', 'which', 'changes', 'the', 'mime', 'type', 'and', 'gives', 'a', 'text', 'octal', 'or', 'something', 'as', 'the', 'mime', 'type', 'no', 'matter', 'which', 'file', 'type', 'you', 'upload', 'p', 'p', 'is', 'there', 'a', 'way', 'to', 'check', 'if', 'the', 'uploaded', 'file', 'is', 'an', 'image', 'apart', 'from', 'checking', 'the', 'file', 'extension', 'using', 'php', 'p'], BodyLength=83, NumParagraphs=2, NumLinks=0, NumFeatures=DenseVector([83.0, 2.0, 0.0]), ScaledNumFeatures=DenseVector([0.9997, 0.0241, 0.0])),\n",
              " Row(Body='<p>In my favorite editor (vim), I regularly use ctrl-w to execute a certain action. Now, it quite often happens to me that firefox is the active window (on windows) while I still look at vim (thinking vim is the active window) and press ctrl-w which closes firefox. This is not what I want. Is there a way to stop ctrl-w from closing firefox?</p>\\n\\n<p>Rene</p>\\n', Id=2, Tags='firefox', Title='How can I prevent firefox from closing when I press ctrl-w', oneTag='firefox', words=['p', 'in', 'my', 'favorite', 'editor', 'vim', 'i', 'regularly', 'use', 'ctrl', 'w', 'to', 'execute', 'a', 'certain', 'action', 'now', 'it', 'quite', 'often', 'happens', 'to', 'me', 'that', 'firefox', 'is', 'the', 'active', 'window', 'on', 'windows', 'while', 'i', 'still', 'look', 'at', 'vim', 'thinking', 'vim', 'is', 'the', 'active', 'window', 'and', 'press', 'ctrl', 'w', 'which', 'closes', 'firefox', 'this', 'is', 'not', 'what', 'i', 'want', 'is', 'there', 'a', 'way', 'to', 'stop', 'ctrl', 'w', 'from', 'closing', 'firefox', 'p', 'p', 'rene', 'p'], BodyLength=71, NumParagraphs=2, NumLinks=0, NumFeatures=DenseVector([71.0, 2.0, 0.0]), ScaledNumFeatures=DenseVector([0.9996, 0.0282, 0.0]))]"
            ]
          },
          "metadata": {},
          "execution_count": 16
        }
      ]
    },
    {
      "cell_type": "markdown",
      "metadata": {
        "id": "LxHK6beagBx6"
      },
      "source": [
        "## **Scale the Vectors**"
      ]
    },
    {
      "cell_type": "code",
      "metadata": {
        "id": "RjEneCKDgBBP"
      },
      "source": [
        "scaler2 = StandardScaler(inputCol=\"NumFeatures\", outputCol=\"ScaledNumFeatures2\", withStd=True)\n",
        "scalerModel = scaler2.fit(df)\n",
        "df = scalerModel.transform(df)"
      ],
      "execution_count": 17,
      "outputs": []
    },
    {
      "cell_type": "code",
      "metadata": {
        "colab": {
          "base_uri": "https://localhost:8080/"
        },
        "id": "6RAC2IkVgKIt",
        "outputId": "36bb32e3-f3e9-4627-85a3-9033b78f1028"
      },
      "source": [
        "df.head(2)"
      ],
      "execution_count": 18,
      "outputs": [
        {
          "output_type": "execute_result",
          "data": {
            "text/plain": [
              "[Row(Body=\"<p>I'd like to check if an uploaded file is an image file (e.g png, jpg, jpeg, gif, bmp) or another file. The problem is that I'm using Uploadify to upload the files, which changes the mime type and gives a 'text/octal' or something as the mime type, no matter which file type you upload.</p>\\n\\n<p>Is there a way to check if the uploaded file is an image apart from checking the file extension using PHP?</p>\\n\", Id=1, Tags='php image-processing file-upload upload mime-types', Title='How to check if an uploaded file is an image without mime type?', oneTag='php', words=['p', 'i', 'd', 'like', 'to', 'check', 'if', 'an', 'uploaded', 'file', 'is', 'an', 'image', 'file', 'e', 'g', 'png', 'jpg', 'jpeg', 'gif', 'bmp', 'or', 'another', 'file', 'the', 'problem', 'is', 'that', 'i', 'm', 'using', 'uploadify', 'to', 'upload', 'the', 'files', 'which', 'changes', 'the', 'mime', 'type', 'and', 'gives', 'a', 'text', 'octal', 'or', 'something', 'as', 'the', 'mime', 'type', 'no', 'matter', 'which', 'file', 'type', 'you', 'upload', 'p', 'p', 'is', 'there', 'a', 'way', 'to', 'check', 'if', 'the', 'uploaded', 'file', 'is', 'an', 'image', 'apart', 'from', 'checking', 'the', 'file', 'extension', 'using', 'php', 'p'], BodyLength=83, NumParagraphs=2, NumLinks=0, NumFeatures=DenseVector([83.0, 2.0, 0.0]), ScaledNumFeatures=DenseVector([0.9997, 0.0241, 0.0]), ScaledNumFeatures2=DenseVector([0.4325, 0.7037, 0.0])),\n",
              " Row(Body='<p>In my favorite editor (vim), I regularly use ctrl-w to execute a certain action. Now, it quite often happens to me that firefox is the active window (on windows) while I still look at vim (thinking vim is the active window) and press ctrl-w which closes firefox. This is not what I want. Is there a way to stop ctrl-w from closing firefox?</p>\\n\\n<p>Rene</p>\\n', Id=2, Tags='firefox', Title='How can I prevent firefox from closing when I press ctrl-w', oneTag='firefox', words=['p', 'in', 'my', 'favorite', 'editor', 'vim', 'i', 'regularly', 'use', 'ctrl', 'w', 'to', 'execute', 'a', 'certain', 'action', 'now', 'it', 'quite', 'often', 'happens', 'to', 'me', 'that', 'firefox', 'is', 'the', 'active', 'window', 'on', 'windows', 'while', 'i', 'still', 'look', 'at', 'vim', 'thinking', 'vim', 'is', 'the', 'active', 'window', 'and', 'press', 'ctrl', 'w', 'which', 'closes', 'firefox', 'this', 'is', 'not', 'what', 'i', 'want', 'is', 'there', 'a', 'way', 'to', 'stop', 'ctrl', 'w', 'from', 'closing', 'firefox', 'p', 'p', 'rene', 'p'], BodyLength=71, NumParagraphs=2, NumLinks=0, NumFeatures=DenseVector([71.0, 2.0, 0.0]), ScaledNumFeatures=DenseVector([0.9996, 0.0282, 0.0]), ScaledNumFeatures2=DenseVector([0.3699, 0.7037, 0.0]))]"
            ]
          },
          "metadata": {},
          "execution_count": 18
        }
      ]
    },
    {
      "cell_type": "markdown",
      "metadata": {
        "id": "B_GzTP75hJpt"
      },
      "source": [
        "## **CountVectorizer**"
      ]
    },
    {
      "cell_type": "code",
      "metadata": {
        "id": "R4nWZ7_0hUJL"
      },
      "source": [
        "from pyspark.ml.feature import CountVectorizer, IDF, StringIndexer"
      ],
      "execution_count": 19,
      "outputs": []
    },
    {
      "cell_type": "code",
      "metadata": {
        "colab": {
          "base_uri": "https://localhost:8080/"
        },
        "id": "_34yBwkmhNwm",
        "outputId": "b022bb83-7206-4a36-ad39-155615264aeb"
      },
      "source": [
        "# find the term frequencies of the words\n",
        "cv = CountVectorizer(inputCol=\"words\", outputCol=\"TF\", vocabSize=1000)\n",
        "cvmodel = cv.fit(df)\n",
        "df = cvmodel.transform(df)\n",
        "df.take(1)"
      ],
      "execution_count": 20,
      "outputs": [
        {
          "output_type": "execute_result",
          "data": {
            "text/plain": [
              "[Row(Body=\"<p>I'd like to check if an uploaded file is an image file (e.g png, jpg, jpeg, gif, bmp) or another file. The problem is that I'm using Uploadify to upload the files, which changes the mime type and gives a 'text/octal' or something as the mime type, no matter which file type you upload.</p>\\n\\n<p>Is there a way to check if the uploaded file is an image apart from checking the file extension using PHP?</p>\\n\", Id=1, Tags='php image-processing file-upload upload mime-types', Title='How to check if an uploaded file is an image without mime type?', oneTag='php', words=['p', 'i', 'd', 'like', 'to', 'check', 'if', 'an', 'uploaded', 'file', 'is', 'an', 'image', 'file', 'e', 'g', 'png', 'jpg', 'jpeg', 'gif', 'bmp', 'or', 'another', 'file', 'the', 'problem', 'is', 'that', 'i', 'm', 'using', 'uploadify', 'to', 'upload', 'the', 'files', 'which', 'changes', 'the', 'mime', 'type', 'and', 'gives', 'a', 'text', 'octal', 'or', 'something', 'as', 'the', 'mime', 'type', 'no', 'matter', 'which', 'file', 'type', 'you', 'upload', 'p', 'p', 'is', 'there', 'a', 'way', 'to', 'check', 'if', 'the', 'uploaded', 'file', 'is', 'an', 'image', 'apart', 'from', 'checking', 'the', 'file', 'extension', 'using', 'php', 'p'], BodyLength=83, NumParagraphs=2, NumLinks=0, NumFeatures=DenseVector([83.0, 2.0, 0.0]), ScaledNumFeatures=DenseVector([0.9997, 0.0241, 0.0]), ScaledNumFeatures2=DenseVector([0.4325, 0.7037, 0.0]), TF=SparseVector(1000, {0: 4.0, 1: 6.0, 2: 2.0, 3: 3.0, 5: 2.0, 8: 4.0, 9: 1.0, 15: 1.0, 21: 2.0, 28: 1.0, 31: 1.0, 35: 3.0, 36: 1.0, 43: 2.0, 45: 2.0, 48: 1.0, 51: 1.0, 57: 6.0, 61: 2.0, 71: 1.0, 78: 1.0, 84: 3.0, 86: 1.0, 94: 1.0, 97: 1.0, 99: 1.0, 100: 1.0, 115: 1.0, 147: 2.0, 152: 1.0, 169: 1.0, 241: 1.0, 283: 1.0, 306: 1.0, 350: 2.0, 490: 1.0, 578: 1.0, 759: 1.0, 832: 2.0}))]"
            ]
          },
          "metadata": {},
          "execution_count": 20
        }
      ]
    },
    {
      "cell_type": "code",
      "metadata": {
        "colab": {
          "base_uri": "https://localhost:8080/"
        },
        "id": "3RkjyV74hjJe",
        "outputId": "07b712e8-9250-4fdc-c6c0-e653425456c8"
      },
      "source": [
        "cvmodel.vocabulary"
      ],
      "execution_count": 21,
      "outputs": [
        {
          "output_type": "execute_result",
          "data": {
            "text/plain": [
              "['p',\n",
              " 'the',\n",
              " 'i',\n",
              " 'to',\n",
              " 'code',\n",
              " 'a',\n",
              " 'gt',\n",
              " 'lt',\n",
              " 'is',\n",
              " 'and',\n",
              " 'pre',\n",
              " 'in',\n",
              " 'this',\n",
              " 'of',\n",
              " 'it',\n",
              " 'that',\n",
              " 'for',\n",
              " '0',\n",
              " '1',\n",
              " 'have',\n",
              " 'my',\n",
              " 'if',\n",
              " 'on',\n",
              " 'but',\n",
              " 'with',\n",
              " 'can',\n",
              " 'not',\n",
              " 'be',\n",
              " 'as',\n",
              " 't',\n",
              " 'li',\n",
              " 'from',\n",
              " '2',\n",
              " 's',\n",
              " 'http',\n",
              " 'an',\n",
              " 'm',\n",
              " 'strong',\n",
              " 'new',\n",
              " 'how',\n",
              " 'do',\n",
              " 'com',\n",
              " 'so',\n",
              " 'or',\n",
              " 'at',\n",
              " 'using',\n",
              " 'when',\n",
              " 'am',\n",
              " 'like',\n",
              " 'class',\n",
              " 'id',\n",
              " 'there',\n",
              " 'get',\n",
              " 'are',\n",
              " 'name',\n",
              " 'what',\n",
              " 'any',\n",
              " 'file',\n",
              " 'string',\n",
              " 'data',\n",
              " 'all',\n",
              " 'which',\n",
              " 'want',\n",
              " 'would',\n",
              " 'amp',\n",
              " 'use',\n",
              " 'java',\n",
              " 'function',\n",
              " 'public',\n",
              " 'some',\n",
              " '3',\n",
              " 'text',\n",
              " 'error',\n",
              " 'android',\n",
              " 'value',\n",
              " 'c',\n",
              " 'x',\n",
              " 'href',\n",
              " 'you',\n",
              " 'one',\n",
              " 'by',\n",
              " 'user',\n",
              " 'me',\n",
              " 'server',\n",
              " 'type',\n",
              " 'here',\n",
              " 'way',\n",
              " 'return',\n",
              " 'int',\n",
              " 'will',\n",
              " 'div',\n",
              " 'need',\n",
              " 'then',\n",
              " 'set',\n",
              " 'e',\n",
              " 'system',\n",
              " 'has',\n",
              " 'problem',\n",
              " 'out',\n",
              " 'php',\n",
              " 'no',\n",
              " 'just',\n",
              " '4',\n",
              " 'org',\n",
              " 'know',\n",
              " 'html',\n",
              " 'only',\n",
              " 'where',\n",
              " 'page',\n",
              " 'application',\n",
              " '5',\n",
              " 'thanks',\n",
              " 'var',\n",
              " 'br',\n",
              " 'we',\n",
              " 'd',\n",
              " 'should',\n",
              " 'does',\n",
              " 'add',\n",
              " 'n',\n",
              " 'true',\n",
              " 've',\n",
              " 'void',\n",
              " 'em',\n",
              " 'was',\n",
              " 'rel',\n",
              " 'work',\n",
              " 'time',\n",
              " 'other',\n",
              " '10',\n",
              " 'app',\n",
              " 'null',\n",
              " 'method',\n",
              " 'b',\n",
              " 'table',\n",
              " 'list',\n",
              " 'now',\n",
              " 'into',\n",
              " 'help',\n",
              " 'end',\n",
              " 'trying',\n",
              " 'following',\n",
              " 'object',\n",
              " 'view',\n",
              " 'nofollow',\n",
              " 'up',\n",
              " 'example',\n",
              " 'image',\n",
              " 'same',\n",
              " 'create',\n",
              " 'also',\n",
              " 'each',\n",
              " 'something',\n",
              " 'www',\n",
              " 'web',\n",
              " 'first',\n",
              " 'array',\n",
              " 'line',\n",
              " 'script',\n",
              " 'find',\n",
              " 'don',\n",
              " 'run',\n",
              " 'could',\n",
              " 'select',\n",
              " 'about',\n",
              " 'test',\n",
              " 'make',\n",
              " 'form',\n",
              " 'r',\n",
              " 'files',\n",
              " 'tried',\n",
              " 'ul',\n",
              " 'net',\n",
              " 'url',\n",
              " 'td',\n",
              " 'self',\n",
              " 'input',\n",
              " 'windows',\n",
              " 'button',\n",
              " 'see',\n",
              " 'blockquote',\n",
              " 'database',\n",
              " 'question',\n",
              " 'content',\n",
              " 'else',\n",
              " 'more',\n",
              " 'works',\n",
              " 'xml',\n",
              " '6',\n",
              " '00',\n",
              " 'two',\n",
              " '8',\n",
              " 'after',\n",
              " 'they',\n",
              " 'possible',\n",
              " 'false',\n",
              " 'right',\n",
              " 'them',\n",
              " 'y',\n",
              " 'working',\n",
              " '7',\n",
              " 'width',\n",
              " 'main',\n",
              " 'src',\n",
              " 'try',\n",
              " 'private',\n",
              " 'however',\n",
              " 'version',\n",
              " 'number',\n",
              " 'f',\n",
              " 'result',\n",
              " 'these',\n",
              " 'because',\n",
              " 'project',\n",
              " 'key',\n",
              " 'message',\n",
              " 'why',\n",
              " 'doesn',\n",
              " 'used',\n",
              " 'please',\n",
              " 'query',\n",
              " 'import',\n",
              " 'size',\n",
              " 'item',\n",
              " 'call',\n",
              " 'show',\n",
              " 'while',\n",
              " 'title',\n",
              " 'found',\n",
              " 'been',\n",
              " 'anyone',\n",
              " 'change',\n",
              " 'post',\n",
              " 'document',\n",
              " 'users',\n",
              " 'different',\n",
              " 'its',\n",
              " 'start',\n",
              " 'able',\n",
              " 'log',\n",
              " 'access',\n",
              " 'another',\n",
              " 'event',\n",
              " 'case',\n",
              " 'request',\n",
              " 'values',\n",
              " 'update',\n",
              " 'client',\n",
              " 'edit',\n",
              " 'index',\n",
              " '9',\n",
              " 'service',\n",
              " 'read',\n",
              " 'without',\n",
              " 'source',\n",
              " 'javascript',\n",
              " 'left',\n",
              " 'style',\n",
              " 'open',\n",
              " 'jquery',\n",
              " 'img',\n",
              " 'running',\n",
              " 'row',\n",
              " 'h',\n",
              " 'display',\n",
              " 'fine',\n",
              " 'write',\n",
              " 'site',\n",
              " 'google',\n",
              " 'seems',\n",
              " 'height',\n",
              " 'click',\n",
              " 'date',\n",
              " '12',\n",
              " 'static',\n",
              " 'etc',\n",
              " 'option',\n",
              " 'path',\n",
              " 'output',\n",
              " 'property',\n",
              " '20',\n",
              " 'doing',\n",
              " 'model',\n",
              " 'g',\n",
              " 'default',\n",
              " 'link',\n",
              " 'than',\n",
              " 'through',\n",
              " 'echo',\n",
              " 'below',\n",
              " 'include',\n",
              " 'even',\n",
              " 'solution',\n",
              " 'lib',\n",
              " '11',\n",
              " 'sql',\n",
              " 'questions',\n",
              " 'still',\n",
              " 'program',\n",
              " 'such',\n",
              " 'library',\n",
              " 'getting',\n",
              " 'exception',\n",
              " 'created',\n",
              " 'simple',\n",
              " 'context',\n",
              " 'png',\n",
              " 'your',\n",
              " 'very',\n",
              " 'before',\n",
              " 'apache',\n",
              " 'both',\n",
              " 'ol',\n",
              " 'sure',\n",
              " '100',\n",
              " 'order',\n",
              " 'asp',\n",
              " 'command',\n",
              " 'field',\n",
              " 'color',\n",
              " 'window',\n",
              " 'images',\n",
              " 'column',\n",
              " 'load',\n",
              " 'having',\n",
              " 'thread',\n",
              " 'background',\n",
              " 'think',\n",
              " 'js',\n",
              " 'wrong',\n",
              " 'go',\n",
              " 'point',\n",
              " 'element',\n",
              " 'process',\n",
              " 'length',\n",
              " 'really',\n",
              " 'tr',\n",
              " 'span',\n",
              " 'being',\n",
              " 'every',\n",
              " 'back',\n",
              " 'current',\n",
              " 'called',\n",
              " 'css',\n",
              " 'label',\n",
              " 'action',\n",
              " 'issue',\n",
              " 'many',\n",
              " 'info',\n",
              " 'stack',\n",
              " 'check',\n",
              " 'got',\n",
              " 'top',\n",
              " 'since',\n",
              " 'connection',\n",
              " 'looking',\n",
              " 'put',\n",
              " 'second',\n",
              " 'search',\n",
              " 'db',\n",
              " 'local',\n",
              " 'over',\n",
              " 'email',\n",
              " 'above',\n",
              " 'password',\n",
              " 'done',\n",
              " 'api',\n",
              " 'between',\n",
              " 'response',\n",
              " 'build',\n",
              " 'cannot',\n",
              " 'alt',\n",
              " 'print',\n",
              " 'j',\n",
              " 'well',\n",
              " 'body',\n",
              " 'directory',\n",
              " 'count',\n",
              " 'description',\n",
              " 'location',\n",
              " 'information',\n",
              " 'next',\n",
              " 'address',\n",
              " 'root',\n",
              " 'good',\n",
              " '01',\n",
              " 'let',\n",
              " 'control',\n",
              " 'o',\n",
              " 'microsoft',\n",
              " 'part',\n",
              " 'map',\n",
              " 'advance',\n",
              " 'instead',\n",
              " 'our',\n",
              " 'v',\n",
              " 'much',\n",
              " 'their',\n",
              " 'best',\n",
              " 'position',\n",
              " '2012',\n",
              " 'idea',\n",
              " 'custom',\n",
              " 'format',\n",
              " 'mysql',\n",
              " 'already',\n",
              " 'say',\n",
              " 'long',\n",
              " 'instance',\n",
              " 'variable',\n",
              " 'send',\n",
              " '13',\n",
              " '16',\n",
              " 'may',\n",
              " 'currently',\n",
              " 'results',\n",
              " 'inside',\n",
              " '15',\n",
              " 'k',\n",
              " 'header',\n",
              " 'enter',\n",
              " 'items',\n",
              " 'correct',\n",
              " 'home',\n",
              " 'controller',\n",
              " 'domain',\n",
              " 'node',\n",
              " 'z',\n",
              " 'override',\n",
              " 'based',\n",
              " '30',\n",
              " 'seem',\n",
              " 'group',\n",
              " 'options',\n",
              " 'last',\n",
              " 'ui',\n",
              " 'added',\n",
              " 'screen',\n",
              " 'someone',\n",
              " 'folder',\n",
              " 'save',\n",
              " 'session',\n",
              " 'website',\n",
              " 'close',\n",
              " 'stackoverflow',\n",
              " 'better',\n",
              " 'username',\n",
              " 'python',\n",
              " 'bit',\n",
              " 'box',\n",
              " 'json',\n",
              " 'menu',\n",
              " 'login',\n",
              " 'console',\n",
              " 'via',\n",
              " 'l',\n",
              " 'usr',\n",
              " 'looks',\n",
              " 'anything',\n",
              " 'def',\n",
              " 'none',\n",
              " 'https',\n",
              " 'char',\n",
              " 'lang',\n",
              " 'within',\n",
              " 'multiple',\n",
              " 'activity',\n",
              " 'everything',\n",
              " 'appreciated',\n",
              " 'tag',\n",
              " 'insert',\n",
              " 'ajax',\n",
              " 'had',\n",
              " 'config',\n",
              " 'again',\n",
              " 'understand',\n",
              " 'parent',\n",
              " 'final',\n",
              " 'install',\n",
              " 'catch',\n",
              " 'browser',\n",
              " 'objects',\n",
              " 'store',\n",
              " 'os',\n",
              " 'ideas',\n",
              " 'double',\n",
              " 'thing',\n",
              " 'contains',\n",
              " 'look',\n",
              " 'given',\n",
              " 'jpg',\n",
              " 'template',\n",
              " 'font',\n",
              " 'reference',\n",
              " 'those',\n",
              " 'answer',\n",
              " 'going',\n",
              " 'connect',\n",
              " 'debug',\n",
              " 'frame',\n",
              " 'imgur',\n",
              " 'rows',\n",
              " 'down',\n",
              " 'ruby',\n",
              " 'foo',\n",
              " 'around',\n",
              " 'always',\n",
              " 'too',\n",
              " 'state',\n",
              " 'remove',\n",
              " 'block',\n",
              " 'status',\n",
              " 'intent',\n",
              " 'yes',\n",
              " 'must',\n",
              " 'errors',\n",
              " 'thank',\n",
              " '08',\n",
              " 'layout',\n",
              " 'en',\n",
              " 'did',\n",
              " 'far',\n",
              " 'u',\n",
              " 'core',\n",
              " 'memory',\n",
              " 'most',\n",
              " 'installed',\n",
              " 'single',\n",
              " 'w',\n",
              " 'framework',\n",
              " 'bar',\n",
              " 'linux',\n",
              " 'machine',\n",
              " 'specific',\n",
              " 'loop',\n",
              " 'give',\n",
              " '14',\n",
              " 'delete',\n",
              " 'begin',\n",
              " 'take',\n",
              " 'ip',\n",
              " 'lot',\n",
              " 'returns',\n",
              " '02',\n",
              " 'facebook',\n",
              " 'device',\n",
              " 're',\n",
              " 'things',\n",
              " 'creating',\n",
              " 'base',\n",
              " 'ok',\n",
              " 'nothing',\n",
              " 'missing',\n",
              " 'module',\n",
              " 'fields',\n",
              " 'host',\n",
              " 'own',\n",
              " 'uses',\n",
              " 'support',\n",
              " 'androidruntime',\n",
              " 'might',\n",
              " 'similar',\n",
              " 'integer',\n",
              " 'float',\n",
              " 'actually',\n",
              " 'figure',\n",
              " '50',\n",
              " 'configuration',\n",
              " '2010',\n",
              " 'alert',\n",
              " 'tell',\n",
              " 'us',\n",
              " 'execute',\n",
              " 'std',\n",
              " 'tostring',\n",
              " 'few',\n",
              " 'empty',\n",
              " 'note',\n",
              " 'changes',\n",
              " 'xmlns',\n",
              " 'pass',\n",
              " 'failed',\n",
              " 'off',\n",
              " 'settings',\n",
              " 'network',\n",
              " 'either',\n",
              " 'package',\n",
              " 'interface',\n",
              " '2011',\n",
              " 'eclipse',\n",
              " 'mode',\n",
              " 'plugin',\n",
              " '25',\n",
              " 'elements',\n",
              " 'methods',\n",
              " 'classes',\n",
              " 'rb',\n",
              " 'head',\n",
              " 'shows',\n",
              " 'properties',\n",
              " 'video',\n",
              " '18',\n",
              " 'const',\n",
              " 'port',\n",
              " 'pages',\n",
              " 'break',\n",
              " 'columns',\n",
              " 'made',\n",
              " 'bin',\n",
              " 'cell',\n",
              " 'functions',\n",
              " '23',\n",
              " 'allow',\n",
              " '21',\n",
              " 'nbsp',\n",
              " 'generated',\n",
              " 'q',\n",
              " 'submit',\n",
              " 'once',\n",
              " 'setup',\n",
              " 'product',\n",
              " 'grid',\n",
              " '22',\n",
              " 'reason',\n",
              " 'copy',\n",
              " 'h2',\n",
              " 'times',\n",
              " 'aspx',\n",
              " 'sub',\n",
              " 'auto',\n",
              " 'target',\n",
              " 'dev',\n",
              " 'available',\n",
              " '04',\n",
              " 'jar',\n",
              " 'keep',\n",
              " 'filter',\n",
              " 'required',\n",
              " 'side',\n",
              " 'convert',\n",
              " 'tables',\n",
              " 'handle',\n",
              " 'center',\n",
              " 'println',\n",
              " 'task',\n",
              " 'selected',\n",
              " 'join',\n",
              " 'setting',\n",
              " 'security',\n",
              " 'gets',\n",
              " 'category',\n",
              " '17',\n",
              " '05',\n",
              " 'lines',\n",
              " 'under',\n",
              " 'though',\n",
              " 'boolean',\n",
              " 'gems',\n",
              " 'localhost',\n",
              " 'entity',\n",
              " 'isn',\n",
              " 'space',\n",
              " 'admin',\n",
              " 'sun',\n",
              " 'fix',\n",
              " 'dll',\n",
              " 'implement',\n",
              " 'internal',\n",
              " 'wondering',\n",
              " 'nil',\n",
              " 'init',\n",
              " 'val',\n",
              " '09',\n",
              " 'parameters',\n",
              " '19',\n",
              " 'binding',\n",
              " 'rails',\n",
              " 'txt',\n",
              " 'maybe',\n",
              " 'level',\n",
              " 'super',\n",
              " 'defined',\n",
              " 'several',\n",
              " 'child',\n",
              " 'non',\n",
              " '03',\n",
              " 'parameter',\n",
              " 'place',\n",
              " '24',\n",
              " 'sort',\n",
              " 'needs',\n",
              " 'language',\n",
              " 'adding',\n",
              " 'py',\n",
              " 'dialog',\n",
              " 'cache',\n",
              " 'statement',\n",
              " 'section',\n",
              " 'kind',\n",
              " 'problems',\n",
              " 'total',\n",
              " '27',\n",
              " 'margin',\n",
              " 'utf',\n",
              " 'filename',\n",
              " 'nsstring',\n",
              " 'writing',\n",
              " 'border',\n",
              " 'account',\n",
              " 'changed',\n",
              " 'computer',\n",
              " 'correctly',\n",
              " 'match',\n",
              " '255',\n",
              " 'tab',\n",
              " 'bundle',\n",
              " 'define',\n",
              " 'didn',\n",
              " 'basically',\n",
              " 'warning',\n",
              " 'solve',\n",
              " 'release',\n",
              " 'protected',\n",
              " 'hr',\n",
              " 'structure',\n",
              " 'replace',\n",
              " 'frac',\n",
              " 'software',\n",
              " 'foreach',\n",
              " 'extends',\n",
              " 'thought',\n",
              " '29',\n",
              " 'full',\n",
              " 'byte',\n",
              " 'word',\n",
              " 'stored',\n",
              " 'ie',\n",
              " '_',\n",
              " 'day',\n",
              " 'sender',\n",
              " 'record',\n",
              " 'clear',\n",
              " 'never',\n",
              " 'services',\n",
              " 'were',\n",
              " 'pdf',\n",
              " '32',\n",
              " 'stop',\n",
              " '07',\n",
              " 'resources',\n",
              " 'models',\n",
              " 'springframework',\n",
              " 'move',\n",
              " 'alloc',\n",
              " 'people',\n",
              " 'started',\n",
              " 'checked',\n",
              " 'virtual',\n",
              " 'attribute',\n",
              " 'gives',\n",
              " 'suggestions',\n",
              " 'container',\n",
              " 'ubuntu',\n",
              " 'numbers',\n",
              " 'old',\n",
              " 'mail',\n",
              " 'sample',\n",
              " 'unknown',\n",
              " 'bool',\n",
              " 'small',\n",
              " 'align',\n",
              " 'collection',\n",
              " 'success',\n",
              " 'visual',\n",
              " 'person',\n",
              " 'compile',\n",
              " 'mean',\n",
              " 'encoding',\n",
              " 'standard',\n",
              " 'iphone',\n",
              " 'param',\n",
              " 'append',\n",
              " 'events',\n",
              " 'projects',\n",
              " 'bytes',\n",
              " 'str',\n",
              " '06',\n",
              " 'rather',\n",
              " 'written',\n",
              " 'resource',\n",
              " 'reading',\n",
              " 'wrap_content',\n",
              " 'exists',\n",
              " 'details',\n",
              " 'certain',\n",
              " 'widget',\n",
              " 'handler',\n",
              " 'download',\n",
              " 'parse',\n",
              " 'stuff',\n",
              " '40',\n",
              " 'until',\n",
              " 'expected',\n",
              " 'documentation',\n",
              " 'variables',\n",
              " 'socket',\n",
              " 'git',\n",
              " 'little',\n",
              " 'servlet',\n",
              " 'hello',\n",
              " 'th',\n",
              " 'modules',\n",
              " 'environment',\n",
              " 'generate',\n",
              " 'says',\n",
              " 'development',\n",
              " 'easy',\n",
              " 'simply',\n",
              " 'large',\n",
              " 'three',\n",
              " '31',\n",
              " 'exe',\n",
              " 'game',\n",
              " 'approach',\n",
              " 'calls',\n",
              " 'args',\n",
              " 'normal',\n",
              " 'bottom',\n",
              " 'global',\n",
              " 'views',\n",
              " 'types',\n",
              " 'javax',\n",
              " 'upload',\n",
              " 'invoke',\n",
              " 'tags',\n",
              " 'hibernate',\n",
              " 'switch',\n",
              " 'stream',\n",
              " 'onclick',\n",
              " 'making',\n",
              " 'remote',\n",
              " 'layout_width',\n",
              " 'entry',\n",
              " 'layout_height',\n",
              " 'im',\n",
              " 'namespace',\n",
              " 'll',\n",
              " 'whole',\n",
              " 'he',\n",
              " 'great',\n",
              " 'original',\n",
              " 'textview',\n",
              " 'io',\n",
              " 'hidden',\n",
              " 'component',\n",
              " 'internet',\n",
              " 'free',\n",
              " 'comment',\n",
              " 'obj',\n",
              " 'links',\n",
              " 'phone',\n",
              " 'happens',\n",
              " 'loaded',\n",
              " 'developer',\n",
              " 'messages',\n",
              " 'testing',\n",
              " 'names',\n",
              " 'automatically',\n",
              " 'whether',\n",
              " 'mvc',\n",
              " 'studio',\n",
              " '2008',\n",
              " 'come',\n",
              " 'play',\n",
              " 'course',\n",
              " 'points',\n",
              " '200',\n",
              " 'chrome',\n",
              " 'xsl',\n",
              " 'appears',\n",
              " 'related',\n",
              " 'pattern',\n",
              " 'loading',\n",
              " 'pretty',\n",
              " 'who',\n",
              " 'provide',\n",
              " 'basic',\n",
              " 'django',\n",
              " 'require',\n",
              " 'range',\n",
              " 'per',\n",
              " 'player',\n",
              " 'means',\n",
              " 'particular',\n",
              " 'padding',\n",
              " 'quite',\n",
              " 'real',\n",
              " 'tools',\n",
              " 'forms',\n",
              " 'util',\n",
              " 'datetime',\n",
              " 'character',\n",
              " 'buffer',\n",
              " 'random',\n",
              " '_post',\n",
              " 'vector',\n",
              " 'itself',\n",
              " 'ms',\n",
              " 'icon',\n",
              " 'valid',\n",
              " 'records',\n",
              " 'cursor',\n",
              " 'implementation',\n",
              " 'achieve',\n",
              " 'active',\n",
              " 'drive',\n",
              " 'yet',\n",
              " 'goes',\n",
              " 'calling',\n",
              " 'runat',\n",
              " 'max',\n",
              " 'maps',\n",
              " 'unable',\n",
              " 'bind',\n",
              " 'params',\n",
              " 'except',\n",
              " 'takes',\n",
              " 'displayed',\n",
              " 'hard',\n",
              " 'report',\n",
              " 'share',\n",
              " 'common',\n",
              " 'makes',\n",
              " 'issues',\n",
              " 'firefox',\n",
              " 'temp',\n",
              " 'runs',\n",
              " 'follows',\n",
              " 'seen',\n",
              " 'limit',\n",
              " 'properly',\n",
              " '64',\n",
              " 'company',\n",
              " 'characters',\n",
              " 'doc',\n",
              " 'applications',\n",
              " 'step',\n",
              " 'native',\n",
              " 'tool',\n",
              " 'h1',\n",
              " 'attr',\n",
              " 'sent',\n",
              " 'exist',\n",
              " 'external',\n",
              " 'duplicate',\n",
              " 'controls',\n",
              " 'complete',\n",
              " 'sum',\n",
              " 'exactly',\n",
              " 'directly',\n",
              " 'schema',\n",
              " 'panel',\n",
              " 'posts',\n",
              " 'min',\n",
              " 'performance',\n",
              " 'job',\n",
              " 'dim',\n",
              " 'difference',\n",
              " 'matrix',\n",
              " 'seconds',\n",
              " 'separate',\n",
              " 'expression',\n",
              " 'docs',\n",
              " 'syntax',\n",
              " 'examples',\n",
              " 'textbox',\n",
              " 'article',\n",
              " 'book',\n",
              " 'render',\n",
              " 'thinking',\n",
              " 'flash',\n",
              " 'mac',\n",
              " 'checkbox',\n",
              " 'printf',\n",
              " 'runtime',\n",
              " 'canvas',\n",
              " 'existing',\n",
              " '28',\n",
              " 'shared',\n",
              " 'servers',\n",
              " 'customer',\n",
              " 'desktop',\n",
              " 'buttons',\n",
              " 'previous',\n",
              " 'math',\n",
              " 'master',\n",
              " '000',\n",
              " 'blog',\n",
              " 'comes',\n",
              " 'wordpress']"
            ]
          },
          "metadata": {},
          "execution_count": 21
        }
      ]
    },
    {
      "cell_type": "code",
      "metadata": {
        "colab": {
          "base_uri": "https://localhost:8080/"
        },
        "id": "gQccUDuphxho",
        "outputId": "5aa893e3-1115-4100-a74a-a949f8725f89"
      },
      "source": [
        "# show the last 10 terms in the vocabulary\n",
        "cvmodel.vocabulary[-10:]"
      ],
      "execution_count": 22,
      "outputs": [
        {
          "output_type": "execute_result",
          "data": {
            "text/plain": [
              "['customer',\n",
              " 'desktop',\n",
              " 'buttons',\n",
              " 'previous',\n",
              " 'math',\n",
              " 'master',\n",
              " '000',\n",
              " 'blog',\n",
              " 'comes',\n",
              " 'wordpress']"
            ]
          },
          "metadata": {},
          "execution_count": 22
        }
      ]
    },
    {
      "cell_type": "markdown",
      "metadata": {
        "id": "62DHSfeIh7fK"
      },
      "source": [
        "## **Inter-document Frequency**"
      ]
    },
    {
      "cell_type": "code",
      "metadata": {
        "colab": {
          "base_uri": "https://localhost:8080/"
        },
        "id": "8Gv8M6UDh-v3",
        "outputId": "3e877429-4773-446d-d3a2-52690ff1e4fb"
      },
      "source": [
        "idf = IDF(inputCol=\"TF\", outputCol=\"TFIDF\")\n",
        "idfModel = idf.fit(df)\n",
        "df = idfModel.transform(df)\n",
        "df.head()"
      ],
      "execution_count": 23,
      "outputs": [
        {
          "output_type": "execute_result",
          "data": {
            "text/plain": [
              "Row(Body=\"<p>I'd like to check if an uploaded file is an image file (e.g png, jpg, jpeg, gif, bmp) or another file. The problem is that I'm using Uploadify to upload the files, which changes the mime type and gives a 'text/octal' or something as the mime type, no matter which file type you upload.</p>\\n\\n<p>Is there a way to check if the uploaded file is an image apart from checking the file extension using PHP?</p>\\n\", Id=1, Tags='php image-processing file-upload upload mime-types', Title='How to check if an uploaded file is an image without mime type?', oneTag='php', words=['p', 'i', 'd', 'like', 'to', 'check', 'if', 'an', 'uploaded', 'file', 'is', 'an', 'image', 'file', 'e', 'g', 'png', 'jpg', 'jpeg', 'gif', 'bmp', 'or', 'another', 'file', 'the', 'problem', 'is', 'that', 'i', 'm', 'using', 'uploadify', 'to', 'upload', 'the', 'files', 'which', 'changes', 'the', 'mime', 'type', 'and', 'gives', 'a', 'text', 'octal', 'or', 'something', 'as', 'the', 'mime', 'type', 'no', 'matter', 'which', 'file', 'type', 'you', 'upload', 'p', 'p', 'is', 'there', 'a', 'way', 'to', 'check', 'if', 'the', 'uploaded', 'file', 'is', 'an', 'image', 'apart', 'from', 'checking', 'the', 'file', 'extension', 'using', 'php', 'p'], BodyLength=83, NumParagraphs=2, NumLinks=0, NumFeatures=DenseVector([83.0, 2.0, 0.0]), ScaledNumFeatures=DenseVector([0.9997, 0.0241, 0.0]), ScaledNumFeatures2=DenseVector([0.4325, 0.7037, 0.0]), TF=SparseVector(1000, {0: 4.0, 1: 6.0, 2: 2.0, 3: 3.0, 5: 2.0, 8: 4.0, 9: 1.0, 15: 1.0, 21: 2.0, 28: 1.0, 31: 1.0, 35: 3.0, 36: 1.0, 43: 2.0, 45: 2.0, 48: 1.0, 51: 1.0, 57: 6.0, 61: 2.0, 71: 1.0, 78: 1.0, 84: 3.0, 86: 1.0, 94: 1.0, 97: 1.0, 99: 1.0, 100: 1.0, 115: 1.0, 147: 2.0, 152: 1.0, 169: 1.0, 241: 1.0, 283: 1.0, 306: 1.0, 350: 2.0, 490: 1.0, 578: 1.0, 759: 1.0, 832: 2.0}), TFIDF=SparseVector(1000, {0: 0.0026, 1: 0.7515, 2: 0.1374, 3: 0.3184, 5: 0.3823, 8: 1.0754, 9: 0.3344, 15: 0.5899, 21: 1.8551, 28: 1.1263, 31: 1.1113, 35: 3.3134, 36: 1.2545, 43: 2.3741, 45: 2.3753, 48: 1.2254, 51: 1.1879, 57: 11.0264, 61: 2.8957, 71: 2.1945, 78: 1.6947, 84: 6.5898, 86: 1.6136, 94: 2.3569, 97: 1.8218, 99: 2.6292, 100: 1.9206, 115: 2.3592, 147: 5.4841, 152: 2.1116, 169: 2.6328, 241: 2.5745, 283: 3.2325, 306: 3.2668, 350: 6.2367, 490: 3.8893, 578: 3.6182, 759: 3.7771, 832: 8.8964}))"
            ]
          },
          "metadata": {},
          "execution_count": 23
        }
      ]
    },
    {
      "cell_type": "markdown",
      "metadata": {
        "id": "vmn3P6hiiU-I"
      },
      "source": [
        "## **StringIndexer**"
      ]
    },
    {
      "cell_type": "code",
      "metadata": {
        "id": "W3dLUorLiYL0"
      },
      "source": [
        "indexer = StringIndexer(inputCol=\"oneTag\", outputCol=\"label\")\n",
        "df = indexer.fit(df).transform(df)"
      ],
      "execution_count": 24,
      "outputs": []
    },
    {
      "cell_type": "code",
      "metadata": {
        "colab": {
          "base_uri": "https://localhost:8080/"
        },
        "id": "RL0GjtEUibe_",
        "outputId": "184816f3-3a25-4f48-9b59-53ad1a720ae1"
      },
      "source": [
        "df.head()"
      ],
      "execution_count": 25,
      "outputs": [
        {
          "output_type": "execute_result",
          "data": {
            "text/plain": [
              "Row(Body=\"<p>I'd like to check if an uploaded file is an image file (e.g png, jpg, jpeg, gif, bmp) or another file. The problem is that I'm using Uploadify to upload the files, which changes the mime type and gives a 'text/octal' or something as the mime type, no matter which file type you upload.</p>\\n\\n<p>Is there a way to check if the uploaded file is an image apart from checking the file extension using PHP?</p>\\n\", Id=1, Tags='php image-processing file-upload upload mime-types', Title='How to check if an uploaded file is an image without mime type?', oneTag='php', words=['p', 'i', 'd', 'like', 'to', 'check', 'if', 'an', 'uploaded', 'file', 'is', 'an', 'image', 'file', 'e', 'g', 'png', 'jpg', 'jpeg', 'gif', 'bmp', 'or', 'another', 'file', 'the', 'problem', 'is', 'that', 'i', 'm', 'using', 'uploadify', 'to', 'upload', 'the', 'files', 'which', 'changes', 'the', 'mime', 'type', 'and', 'gives', 'a', 'text', 'octal', 'or', 'something', 'as', 'the', 'mime', 'type', 'no', 'matter', 'which', 'file', 'type', 'you', 'upload', 'p', 'p', 'is', 'there', 'a', 'way', 'to', 'check', 'if', 'the', 'uploaded', 'file', 'is', 'an', 'image', 'apart', 'from', 'checking', 'the', 'file', 'extension', 'using', 'php', 'p'], BodyLength=83, NumParagraphs=2, NumLinks=0, NumFeatures=DenseVector([83.0, 2.0, 0.0]), ScaledNumFeatures=DenseVector([0.9997, 0.0241, 0.0]), ScaledNumFeatures2=DenseVector([0.4325, 0.7037, 0.0]), TF=SparseVector(1000, {0: 4.0, 1: 6.0, 2: 2.0, 3: 3.0, 5: 2.0, 8: 4.0, 9: 1.0, 15: 1.0, 21: 2.0, 28: 1.0, 31: 1.0, 35: 3.0, 36: 1.0, 43: 2.0, 45: 2.0, 48: 1.0, 51: 1.0, 57: 6.0, 61: 2.0, 71: 1.0, 78: 1.0, 84: 3.0, 86: 1.0, 94: 1.0, 97: 1.0, 99: 1.0, 100: 1.0, 115: 1.0, 147: 2.0, 152: 1.0, 169: 1.0, 241: 1.0, 283: 1.0, 306: 1.0, 350: 2.0, 490: 1.0, 578: 1.0, 759: 1.0, 832: 2.0}), TFIDF=SparseVector(1000, {0: 0.0026, 1: 0.7515, 2: 0.1374, 3: 0.3184, 5: 0.3823, 8: 1.0754, 9: 0.3344, 15: 0.5899, 21: 1.8551, 28: 1.1263, 31: 1.1113, 35: 3.3134, 36: 1.2545, 43: 2.3741, 45: 2.3753, 48: 1.2254, 51: 1.1879, 57: 11.0264, 61: 2.8957, 71: 2.1945, 78: 1.6947, 84: 6.5898, 86: 1.6136, 94: 2.3569, 97: 1.8218, 99: 2.6292, 100: 1.9206, 115: 2.3592, 147: 5.4841, 152: 2.1116, 169: 2.6328, 241: 2.5745, 283: 3.2325, 306: 3.2668, 350: 6.2367, 490: 3.8893, 578: 3.6182, 759: 3.7771, 832: 8.8964}), label=3.0)"
            ]
          },
          "metadata": {},
          "execution_count": 25
        }
      ]
    },
    {
      "cell_type": "code",
      "metadata": {
        "colab": {
          "base_uri": "https://localhost:8080/"
        },
        "id": "mURnuo2Z1gpV",
        "outputId": "c6221946-a3f4-414a-c1d8-e372c9d7adbb"
      },
      "source": [
        "df.columns"
      ],
      "execution_count": 26,
      "outputs": [
        {
          "output_type": "execute_result",
          "data": {
            "text/plain": [
              "['Body',\n",
              " 'Id',\n",
              " 'Tags',\n",
              " 'Title',\n",
              " 'oneTag',\n",
              " 'words',\n",
              " 'BodyLength',\n",
              " 'NumParagraphs',\n",
              " 'NumLinks',\n",
              " 'NumFeatures',\n",
              " 'ScaledNumFeatures',\n",
              " 'ScaledNumFeatures2',\n",
              " 'TF',\n",
              " 'TFIDF',\n",
              " 'label']"
            ]
          },
          "metadata": {},
          "execution_count": 26
        }
      ]
    },
    {
      "cell_type": "markdown",
      "metadata": {
        "id": "TsDHVD_FjCE3"
      },
      "source": [
        "## **Question 1**\n",
        "Select the question with Id = 1112. How many words does its body contain (check the BodyLength column)?"
      ]
    },
    {
      "cell_type": "code",
      "metadata": {
        "colab": {
          "base_uri": "https://localhost:8080/"
        },
        "id": "AtUEjdIGjx30",
        "outputId": "28200dc2-ae82-45ac-fc6b-c58940c66bbe"
      },
      "source": [
        "df.where(df.Id == 1112).show()"
      ],
      "execution_count": 27,
      "outputs": [
        {
          "output_type": "stream",
          "name": "stdout",
          "text": [
            "+--------------------+----+--------------------+--------------------+------+--------------------+----------+-------------+--------+--------------+--------------------+--------------------+--------------------+--------------------+-----+\n",
            "|                Body|  Id|                Tags|               Title|oneTag|               words|BodyLength|NumParagraphs|NumLinks|   NumFeatures|   ScaledNumFeatures|  ScaledNumFeatures2|                  TF|               TFIDF|label|\n",
            "+--------------------+----+--------------------+--------------------+------+--------------------+----------+-------------+--------+--------------+--------------------+--------------------+--------------------+--------------------+-----+\n",
            "|<p>I submitted my...|1112|iphone app-store ...|iPhone app releas...|iphone|[p, i, submitted,...|        63|            1|       0|[63.0,1.0,0.0]|[0.99987404748359...|[0.32825169441613...|(1000,[0,1,2,3,8,...|(1000,[0,1,2,3,8,...|  7.0|\n",
            "+--------------------+----+--------------------+--------------------+------+--------------------+----------+-------------+--------+--------------+--------------------+--------------------+--------------------+--------------------+-----+\n",
            "\n"
          ]
        }
      ]
    },
    {
      "cell_type": "markdown",
      "metadata": {
        "id": "w1_9U_DX1efR"
      },
      "source": [
        "## **Question 2**\n",
        "Create a new column that concatenates the question title and body. Apply the same functions we used before to compute the number of words in this combined column. What's the value in this new column for Id = 5123?"
      ]
    },
    {
      "cell_type": "code",
      "metadata": {
        "id": "7Pki1EHZ2GML"
      },
      "source": [
        "from pyspark.sql.functions import col, lit, concat\n",
        "\n",
        "df = df.withColumn(\"TitleBody\", concat(col(\"Title\"), lit(' '), col(\"Body\")))"
      ],
      "execution_count": 28,
      "outputs": []
    },
    {
      "cell_type": "code",
      "metadata": {
        "id": "juTMX7Fi26rg"
      },
      "source": [
        "regexTokenizer2 = RegexTokenizer(inputCol=\"TitleBody\", outputCol=\"words2\", pattern=\"\\\\W\")\n",
        "df = regexTokenizer2.transform(df)\n",
        "df = df.withColumn(\"TitleBodyLength\", body_length(df.words2))"
      ],
      "execution_count": 29,
      "outputs": []
    },
    {
      "cell_type": "code",
      "metadata": {
        "colab": {
          "base_uri": "https://localhost:8080/"
        },
        "id": "QIn4xq5c3I0V",
        "outputId": "34f2bb0f-5ea6-4251-d485-bf0d3ddcf201"
      },
      "source": [
        "df.where(df.Id == 5123).show()"
      ],
      "execution_count": 30,
      "outputs": [
        {
          "output_type": "stream",
          "name": "stdout",
          "text": [
            "+--------------------+----+----------+--------------------+------+--------------------+----------+-------------+--------+---------------+--------------------+--------------------+--------------------+--------------------+-----+--------------------+--------------------+---------------+\n",
            "|                Body|  Id|      Tags|               Title|oneTag|               words|BodyLength|NumParagraphs|NumLinks|    NumFeatures|   ScaledNumFeatures|  ScaledNumFeatures2|                  TF|               TFIDF|label|           TitleBody|              words2|TitleBodyLength|\n",
            "+--------------------+----+----------+--------------------+------+--------------------+----------+-------------+--------+---------------+--------------------+--------------------+--------------------+--------------------+-----+--------------------+--------------------+---------------+\n",
            "|<p>Here's an inte...|5123|git branch|Git branch experi...|   git|[p, here, s, an, ...|       132|            3|       0|[132.0,3.0,0.0]|[0.99974183554494...|[0.68776545496714...|(1000,[0,1,2,3,4,...|(1000,[0,1,2,3,4,...| 30.0|Git branch experi...|[git, branch, exp...|            135|\n",
            "+--------------------+----+----------+--------------------+------+--------------------+----------+-------------+--------+---------------+--------------------+--------------------+--------------------+--------------------+-----+--------------------+--------------------+---------------+\n",
            "\n"
          ]
        }
      ]
    },
    {
      "cell_type": "markdown",
      "metadata": {
        "id": "_D0SgIGn3fcS"
      },
      "source": [
        "## **Question 3**\n",
        "Using the Normalizer method what's the normalized value for question Id = 512?"
      ]
    },
    {
      "cell_type": "code",
      "metadata": {
        "id": "L6shkxMK35bm"
      },
      "source": [
        "assembler2 = VectorAssembler(inputCols=[\"TitleBodyLength\"], outputCol=\"TitleBodyVec\")\n",
        "df = assembler2.transform(df)"
      ],
      "execution_count": 31,
      "outputs": []
    },
    {
      "cell_type": "code",
      "metadata": {
        "id": "d2woWETo3q4S"
      },
      "source": [
        "scaler = Normalizer(inputCol=\"TitleBodyVec\", outputCol=\"TitleBodyVecNorm\")\n",
        "df = scaler.transform(df)"
      ],
      "execution_count": 32,
      "outputs": []
    },
    {
      "cell_type": "code",
      "metadata": {
        "colab": {
          "base_uri": "https://localhost:8080/"
        },
        "id": "Hcu98q8M4HF8",
        "outputId": "8031392c-945e-47a4-d5ac-dbe1c4eb9585"
      },
      "source": [
        "df.where(df.Id == 512).show()"
      ],
      "execution_count": 33,
      "outputs": [
        {
          "output_type": "stream",
          "name": "stdout",
          "text": [
            "+--------------------+---+--------------------+--------------------+------+--------------------+----------+-------------+--------+--------------+--------------------+--------------------+--------------------+--------------------+-----+--------------------+--------------------+---------------+------------+----------------+\n",
            "|                Body| Id|                Tags|               Title|oneTag|               words|BodyLength|NumParagraphs|NumLinks|   NumFeatures|   ScaledNumFeatures|  ScaledNumFeatures2|                  TF|               TFIDF|label|           TitleBody|              words2|TitleBodyLength|TitleBodyVec|TitleBodyVecNorm|\n",
            "+--------------------+---+--------------------+--------------------+------+--------------------+----------+-------------+--------+--------------+--------------------+--------------------+--------------------+--------------------+-----+--------------------+--------------------+---------------+------------+----------------+\n",
            "|<p>I'd like to ha...|512|java optimization...|How can I see the...|  java|[p, i, d, like, t...|        46|            2|       0|[46.0,2.0,0.0]|[0.99905615835505...|[0.23967584036733...|(1000,[0,1,2,3,4,...|(1000,[0,1,2,3,4,...|  2.0|How can I see the...|[how, can, i, see...|             57|      [57.0]|           [1.0]|\n",
            "+--------------------+---+--------------------+--------------------+------+--------------------+----------+-------------+--------+--------------+--------------------+--------------------+--------------------+--------------------+-----+--------------------+--------------------+---------------+------------+----------------+\n",
            "\n"
          ]
        }
      ]
    },
    {
      "cell_type": "markdown",
      "metadata": {
        "id": "kNpOTDj14jyQ"
      },
      "source": [
        "## **Question 4**\n",
        "Using the StandardScaler method (scaling both the mean and the standard deviation) what's the normalized value for question Id = 512?"
      ]
    },
    {
      "cell_type": "code",
      "metadata": {
        "id": "P5UGKJX24jEZ"
      },
      "source": [
        "scaler3 = StandardScaler(inputCol=\"TitleBodyVec\", outputCol=\"TitleBodyVecNorm3\", withMean=True, withStd=True)\n",
        "scalerModel2 = scaler3.fit(df)\n",
        "df = scalerModel2.transform(df)"
      ],
      "execution_count": 34,
      "outputs": []
    },
    {
      "cell_type": "code",
      "metadata": {
        "colab": {
          "base_uri": "https://localhost:8080/"
        },
        "id": "wEk0rXX548w2",
        "outputId": "4cc76f2d-6b9a-41c1-85d3-50c5c424f3a1"
      },
      "source": [
        "df.where(df.Id == 512).show()"
      ],
      "execution_count": 35,
      "outputs": [
        {
          "output_type": "stream",
          "name": "stdout",
          "text": [
            "+--------------------+---+--------------------+--------------------+------+--------------------+----------+-------------+--------+--------------+--------------------+--------------------+--------------------+--------------------+-----+--------------------+--------------------+---------------+------------+----------------+--------------------+\n",
            "|                Body| Id|                Tags|               Title|oneTag|               words|BodyLength|NumParagraphs|NumLinks|   NumFeatures|   ScaledNumFeatures|  ScaledNumFeatures2|                  TF|               TFIDF|label|           TitleBody|              words2|TitleBodyLength|TitleBodyVec|TitleBodyVecNorm|   TitleBodyVecNorm3|\n",
            "+--------------------+---+--------------------+--------------------+------+--------------------+----------+-------------+--------+--------------+--------------------+--------------------+--------------------+--------------------+-----+--------------------+--------------------+---------------+------------+----------------+--------------------+\n",
            "|<p>I'd like to ha...|512|java optimization...|How can I see the...|  java|[p, i, d, like, t...|        46|            2|       0|[46.0,2.0,0.0]|[0.99905615835505...|[0.23967584036733...|(1000,[0,1,2,3,4,...|(1000,[0,1,2,3,4,...|  2.0|How can I see the...|[how, can, i, see...|             57|      [57.0]|           [1.0]|[-0.6417314460998...|\n",
            "+--------------------+---+--------------------+--------------------+------+--------------------+----------+-------------+--------+--------------+--------------------+--------------------+--------------------+--------------------+-----+--------------------+--------------------+---------------+------------+----------------+--------------------+\n",
            "\n"
          ]
        }
      ]
    },
    {
      "cell_type": "markdown",
      "metadata": {
        "id": "zn3tRCzX5LBS"
      },
      "source": [
        "## **Question 5**\n",
        "Using the MinMAxScaler method what's the normalized value for question Id = 512?"
      ]
    },
    {
      "cell_type": "code",
      "metadata": {
        "id": "1__0HLzc6X12"
      },
      "source": [
        "from pyspark.ml.feature import MinMaxScaler\n",
        "\n",
        "scaler_q3 = MinMaxScaler(inputCol=\"TitleBodyVec\", outputCol=\"TitleBodyVecMinMaxScaler\")\n",
        "scalerModel_q3 = scaler_q3.fit(df)\n",
        "df = scalerModel_q3.transform(df)"
      ],
      "execution_count": 36,
      "outputs": []
    },
    {
      "cell_type": "code",
      "metadata": {
        "colab": {
          "base_uri": "https://localhost:8080/"
        },
        "id": "NIRDmClC6fHL",
        "outputId": "ca265f44-28f4-4393-cfc2-3f90d46c7124"
      },
      "source": [
        "df.where(df.Id == 512).show()"
      ],
      "execution_count": 37,
      "outputs": [
        {
          "output_type": "stream",
          "name": "stdout",
          "text": [
            "+--------------------+---+--------------------+--------------------+------+--------------------+----------+-------------+--------+--------------+--------------------+--------------------+--------------------+--------------------+-----+--------------------+--------------------+---------------+------------+----------------+--------------------+------------------------+\n",
            "|                Body| Id|                Tags|               Title|oneTag|               words|BodyLength|NumParagraphs|NumLinks|   NumFeatures|   ScaledNumFeatures|  ScaledNumFeatures2|                  TF|               TFIDF|label|           TitleBody|              words2|TitleBodyLength|TitleBodyVec|TitleBodyVecNorm|   TitleBodyVecNorm3|TitleBodyVecMinMaxScaler|\n",
            "+--------------------+---+--------------------+--------------------+------+--------------------+----------+-------------+--------+--------------+--------------------+--------------------+--------------------+--------------------+-----+--------------------+--------------------+---------------+------------+----------------+--------------------+------------------------+\n",
            "|<p>I'd like to ha...|512|java optimization...|How can I see the...|  java|[p, i, d, like, t...|        46|            2|       0|[46.0,2.0,0.0]|[0.99905615835505...|[0.23967584036733...|(1000,[0,1,2,3,4,...|(1000,[0,1,2,3,4,...|  2.0|How can I see the...|[how, can, i, see...|             57|      [57.0]|           [1.0]|[-0.6417314460998...|    [0.00624833820792...|\n",
            "+--------------------+---+--------------------+--------------------+------+--------------------+----------+-------------+--------+--------------+--------------------+--------------------+--------------------+--------------------+-----+--------------------+--------------------+---------------+------------+----------------+--------------------+------------------------+\n",
            "\n"
          ]
        }
      ]
    },
    {
      "cell_type": "markdown",
      "metadata": {
        "id": "y1blmG-n7Qk0"
      },
      "source": [
        "# **PCA**\n",
        "\n",
        "PCA works well as long as the number of input columns is not too high"
      ]
    },
    {
      "cell_type": "code",
      "metadata": {
        "id": "Es6eRBmh7SKM"
      },
      "source": [
        "from pyspark.ml.feature import PCA\n",
        "\n",
        "pca = PCA(k=100, inputCol=\"TFIDF\", outputCol=\"pcaTFIDF\")\n",
        "model = pca.fit(df)\n",
        "df = model.transform(df)"
      ],
      "execution_count": 38,
      "outputs": []
    },
    {
      "cell_type": "code",
      "metadata": {
        "colab": {
          "base_uri": "https://localhost:8080/"
        },
        "id": "qYed2hb47vYX",
        "outputId": "64a828b1-3f49-4f67-ac84-9f64c42eaca8"
      },
      "source": [
        "df.head()"
      ],
      "execution_count": 39,
      "outputs": [
        {
          "output_type": "execute_result",
          "data": {
            "text/plain": [
              "Row(Body=\"<p>I'd like to check if an uploaded file is an image file (e.g png, jpg, jpeg, gif, bmp) or another file. The problem is that I'm using Uploadify to upload the files, which changes the mime type and gives a 'text/octal' or something as the mime type, no matter which file type you upload.</p>\\n\\n<p>Is there a way to check if the uploaded file is an image apart from checking the file extension using PHP?</p>\\n\", Id=1, Tags='php image-processing file-upload upload mime-types', Title='How to check if an uploaded file is an image without mime type?', oneTag='php', words=['p', 'i', 'd', 'like', 'to', 'check', 'if', 'an', 'uploaded', 'file', 'is', 'an', 'image', 'file', 'e', 'g', 'png', 'jpg', 'jpeg', 'gif', 'bmp', 'or', 'another', 'file', 'the', 'problem', 'is', 'that', 'i', 'm', 'using', 'uploadify', 'to', 'upload', 'the', 'files', 'which', 'changes', 'the', 'mime', 'type', 'and', 'gives', 'a', 'text', 'octal', 'or', 'something', 'as', 'the', 'mime', 'type', 'no', 'matter', 'which', 'file', 'type', 'you', 'upload', 'p', 'p', 'is', 'there', 'a', 'way', 'to', 'check', 'if', 'the', 'uploaded', 'file', 'is', 'an', 'image', 'apart', 'from', 'checking', 'the', 'file', 'extension', 'using', 'php', 'p'], BodyLength=83, NumParagraphs=2, NumLinks=0, NumFeatures=DenseVector([83.0, 2.0, 0.0]), ScaledNumFeatures=DenseVector([0.9997, 0.0241, 0.0]), ScaledNumFeatures2=DenseVector([0.4325, 0.7037, 0.0]), TF=SparseVector(1000, {0: 4.0, 1: 6.0, 2: 2.0, 3: 3.0, 5: 2.0, 8: 4.0, 9: 1.0, 15: 1.0, 21: 2.0, 28: 1.0, 31: 1.0, 35: 3.0, 36: 1.0, 43: 2.0, 45: 2.0, 48: 1.0, 51: 1.0, 57: 6.0, 61: 2.0, 71: 1.0, 78: 1.0, 84: 3.0, 86: 1.0, 94: 1.0, 97: 1.0, 99: 1.0, 100: 1.0, 115: 1.0, 147: 2.0, 152: 1.0, 169: 1.0, 241: 1.0, 283: 1.0, 306: 1.0, 350: 2.0, 490: 1.0, 578: 1.0, 759: 1.0, 832: 2.0}), TFIDF=SparseVector(1000, {0: 0.0026, 1: 0.7515, 2: 0.1374, 3: 0.3184, 5: 0.3823, 8: 1.0754, 9: 0.3344, 15: 0.5899, 21: 1.8551, 28: 1.1263, 31: 1.1113, 35: 3.3134, 36: 1.2545, 43: 2.3741, 45: 2.3753, 48: 1.2254, 51: 1.1879, 57: 11.0264, 61: 2.8957, 71: 2.1945, 78: 1.6947, 84: 6.5898, 86: 1.6136, 94: 2.3569, 97: 1.8218, 99: 2.6292, 100: 1.9206, 115: 2.3592, 147: 5.4841, 152: 2.1116, 169: 2.6328, 241: 2.5745, 283: 3.2325, 306: 3.2668, 350: 6.2367, 490: 3.8893, 578: 3.6182, 759: 3.7771, 832: 8.8964}), label=3.0, TitleBody=\"How to check if an uploaded file is an image without mime type? <p>I'd like to check if an uploaded file is an image file (e.g png, jpg, jpeg, gif, bmp) or another file. The problem is that I'm using Uploadify to upload the files, which changes the mime type and gives a 'text/octal' or something as the mime type, no matter which file type you upload.</p>\\n\\n<p>Is there a way to check if the uploaded file is an image apart from checking the file extension using PHP?</p>\\n\", words2=['how', 'to', 'check', 'if', 'an', 'uploaded', 'file', 'is', 'an', 'image', 'without', 'mime', 'type', 'p', 'i', 'd', 'like', 'to', 'check', 'if', 'an', 'uploaded', 'file', 'is', 'an', 'image', 'file', 'e', 'g', 'png', 'jpg', 'jpeg', 'gif', 'bmp', 'or', 'another', 'file', 'the', 'problem', 'is', 'that', 'i', 'm', 'using', 'uploadify', 'to', 'upload', 'the', 'files', 'which', 'changes', 'the', 'mime', 'type', 'and', 'gives', 'a', 'text', 'octal', 'or', 'something', 'as', 'the', 'mime', 'type', 'no', 'matter', 'which', 'file', 'type', 'you', 'upload', 'p', 'p', 'is', 'there', 'a', 'way', 'to', 'check', 'if', 'the', 'uploaded', 'file', 'is', 'an', 'image', 'apart', 'from', 'checking', 'the', 'file', 'extension', 'using', 'php', 'p'], TitleBodyLength=96, TitleBodyVec=DenseVector([96.0]), TitleBodyVecNorm=DenseVector([1.0]), TitleBodyVecNorm3=DenseVector([-0.4387]), TitleBodyVecMinMaxScaler=DenseVector([0.0114]), pcaTFIDF=DenseVector([-0.5291, -0.8217, 0.3129, 0.02, 0.0323, -0.1371, 0.1032, -0.1511, 0.4816, -0.2657, 0.9031, -0.1125, 3.1339, -0.4338, -0.1165, 0.3052, 0.9695, -0.7508, 0.1898, -1.0876, 0.5371, -0.8804, 1.5681, -0.3721, -0.4511, 0.6415, 0.5597, -0.0773, 0.4399, 1.0323, -0.8446, 0.7257, -0.6349, -1.3363, -0.9206, 1.5778, -1.8451, -0.2224, -1.1524, -0.0381, -0.0415, 0.3505, 1.2341, -0.4662, 0.8383, 0.772, 0.7149, -1.0151, 0.148, 0.1278, -0.946, -0.6953, -1.5553, -0.9866, 0.7846, -0.7185, 0.946, 0.6609, -0.0182, 1.3281, -0.4261, -0.6093, -0.8237, -0.5232, -0.5305, -0.4872, 0.1315, 0.8463, -1.1532, -1.2489, 0.3981, -1.4053, 0.4366, -0.931, 0.062, 0.9369, 0.8366, -0.7272, 1.5533, -1.9902, -0.4451, 0.9578, 0.364, -0.3055, -0.9719, -1.1939, 1.1266, -0.3546, 1.6776, 2.1847, -0.0966, -1.6945, -0.9625, -0.7207, 0.4287, -0.6703, 0.7134, 0.2583, -1.692, -0.4525]))"
            ]
          },
          "metadata": {},
          "execution_count": 39
        }
      ]
    },
    {
      "cell_type": "markdown",
      "metadata": {
        "id": "-qeKB3kT8xvz"
      },
      "source": [
        "# **Linear Regression**\n",
        "\n",
        "For Linear Regression we need continuous variable as target output.\n",
        "So, lets build a model to predict the number of tags\n"
      ]
    },
    {
      "cell_type": "code",
      "metadata": {
        "id": "tuIpc7-o8yTF"
      },
      "source": [
        "number_of_tags = udf(lambda x: len(x.split(\" \")), IntegerType())\n",
        "df = df.withColumn(\"NumTags\", number_of_tags(df.Tags))"
      ],
      "execution_count": 40,
      "outputs": []
    },
    {
      "cell_type": "code",
      "metadata": {
        "id": "_DRtMtdv86oA",
        "colab": {
          "base_uri": "https://localhost:8080/"
        },
        "outputId": "498bbd94-dd60-435f-a632-0a61a194b775"
      },
      "source": [
        "df.head()"
      ],
      "execution_count": 41,
      "outputs": [
        {
          "output_type": "execute_result",
          "data": {
            "text/plain": [
              "Row(Body=\"<p>I'd like to check if an uploaded file is an image file (e.g png, jpg, jpeg, gif, bmp) or another file. The problem is that I'm using Uploadify to upload the files, which changes the mime type and gives a 'text/octal' or something as the mime type, no matter which file type you upload.</p>\\n\\n<p>Is there a way to check if the uploaded file is an image apart from checking the file extension using PHP?</p>\\n\", Id=1, Tags='php image-processing file-upload upload mime-types', Title='How to check if an uploaded file is an image without mime type?', oneTag='php', words=['p', 'i', 'd', 'like', 'to', 'check', 'if', 'an', 'uploaded', 'file', 'is', 'an', 'image', 'file', 'e', 'g', 'png', 'jpg', 'jpeg', 'gif', 'bmp', 'or', 'another', 'file', 'the', 'problem', 'is', 'that', 'i', 'm', 'using', 'uploadify', 'to', 'upload', 'the', 'files', 'which', 'changes', 'the', 'mime', 'type', 'and', 'gives', 'a', 'text', 'octal', 'or', 'something', 'as', 'the', 'mime', 'type', 'no', 'matter', 'which', 'file', 'type', 'you', 'upload', 'p', 'p', 'is', 'there', 'a', 'way', 'to', 'check', 'if', 'the', 'uploaded', 'file', 'is', 'an', 'image', 'apart', 'from', 'checking', 'the', 'file', 'extension', 'using', 'php', 'p'], BodyLength=83, NumParagraphs=2, NumLinks=0, NumFeatures=DenseVector([83.0, 2.0, 0.0]), ScaledNumFeatures=DenseVector([0.9997, 0.0241, 0.0]), ScaledNumFeatures2=DenseVector([0.4325, 0.7037, 0.0]), TF=SparseVector(1000, {0: 4.0, 1: 6.0, 2: 2.0, 3: 3.0, 5: 2.0, 8: 4.0, 9: 1.0, 15: 1.0, 21: 2.0, 28: 1.0, 31: 1.0, 35: 3.0, 36: 1.0, 43: 2.0, 45: 2.0, 48: 1.0, 51: 1.0, 57: 6.0, 61: 2.0, 71: 1.0, 78: 1.0, 84: 3.0, 86: 1.0, 94: 1.0, 97: 1.0, 99: 1.0, 100: 1.0, 115: 1.0, 147: 2.0, 152: 1.0, 169: 1.0, 241: 1.0, 283: 1.0, 306: 1.0, 350: 2.0, 490: 1.0, 578: 1.0, 759: 1.0, 832: 2.0}), TFIDF=SparseVector(1000, {0: 0.0026, 1: 0.7515, 2: 0.1374, 3: 0.3184, 5: 0.3823, 8: 1.0754, 9: 0.3344, 15: 0.5899, 21: 1.8551, 28: 1.1263, 31: 1.1113, 35: 3.3134, 36: 1.2545, 43: 2.3741, 45: 2.3753, 48: 1.2254, 51: 1.1879, 57: 11.0264, 61: 2.8957, 71: 2.1945, 78: 1.6947, 84: 6.5898, 86: 1.6136, 94: 2.3569, 97: 1.8218, 99: 2.6292, 100: 1.9206, 115: 2.3592, 147: 5.4841, 152: 2.1116, 169: 2.6328, 241: 2.5745, 283: 3.2325, 306: 3.2668, 350: 6.2367, 490: 3.8893, 578: 3.6182, 759: 3.7771, 832: 8.8964}), label=3.0, TitleBody=\"How to check if an uploaded file is an image without mime type? <p>I'd like to check if an uploaded file is an image file (e.g png, jpg, jpeg, gif, bmp) or another file. The problem is that I'm using Uploadify to upload the files, which changes the mime type and gives a 'text/octal' or something as the mime type, no matter which file type you upload.</p>\\n\\n<p>Is there a way to check if the uploaded file is an image apart from checking the file extension using PHP?</p>\\n\", words2=['how', 'to', 'check', 'if', 'an', 'uploaded', 'file', 'is', 'an', 'image', 'without', 'mime', 'type', 'p', 'i', 'd', 'like', 'to', 'check', 'if', 'an', 'uploaded', 'file', 'is', 'an', 'image', 'file', 'e', 'g', 'png', 'jpg', 'jpeg', 'gif', 'bmp', 'or', 'another', 'file', 'the', 'problem', 'is', 'that', 'i', 'm', 'using', 'uploadify', 'to', 'upload', 'the', 'files', 'which', 'changes', 'the', 'mime', 'type', 'and', 'gives', 'a', 'text', 'octal', 'or', 'something', 'as', 'the', 'mime', 'type', 'no', 'matter', 'which', 'file', 'type', 'you', 'upload', 'p', 'p', 'is', 'there', 'a', 'way', 'to', 'check', 'if', 'the', 'uploaded', 'file', 'is', 'an', 'image', 'apart', 'from', 'checking', 'the', 'file', 'extension', 'using', 'php', 'p'], TitleBodyLength=96, TitleBodyVec=DenseVector([96.0]), TitleBodyVecNorm=DenseVector([1.0]), TitleBodyVecNorm3=DenseVector([-0.4387]), TitleBodyVecMinMaxScaler=DenseVector([0.0114]), pcaTFIDF=DenseVector([-0.5291, -0.8217, 0.3129, 0.02, 0.0323, -0.1371, 0.1032, -0.1511, 0.4816, -0.2657, 0.9031, -0.1125, 3.1339, -0.4338, -0.1165, 0.3052, 0.9695, -0.7508, 0.1898, -1.0876, 0.5371, -0.8804, 1.5681, -0.3721, -0.4511, 0.6415, 0.5597, -0.0773, 0.4399, 1.0323, -0.8446, 0.7257, -0.6349, -1.3363, -0.9206, 1.5778, -1.8451, -0.2224, -1.1524, -0.0381, -0.0415, 0.3505, 1.2341, -0.4662, 0.8383, 0.772, 0.7149, -1.0151, 0.148, 0.1278, -0.946, -0.6953, -1.5553, -0.9866, 0.7846, -0.7185, 0.946, 0.6609, -0.0182, 1.3281, -0.4261, -0.6093, -0.8237, -0.5232, -0.5305, -0.4872, 0.1315, 0.8463, -1.1532, -1.2489, 0.3981, -1.4053, 0.4366, -0.931, 0.062, 0.9369, 0.8366, -0.7272, 1.5533, -1.9902, -0.4451, 0.9578, 0.364, -0.3055, -0.9719, -1.1939, 1.1266, -0.3546, 1.6776, 2.1847, -0.0966, -1.6945, -0.9625, -0.7207, 0.4287, -0.6703, 0.7134, 0.2583, -1.692, -0.4525]), NumTags=5)"
            ]
          },
          "metadata": {},
          "execution_count": 41
        }
      ]
    },
    {
      "cell_type": "code",
      "metadata": {
        "id": "bLVRblp_qg-K",
        "colab": {
          "base_uri": "https://localhost:8080/"
        },
        "outputId": "c97bd4d1-b88e-4728-a3dd-211329ca179b"
      },
      "source": [
        "df.groupby(\"NumTags\").count().orderBy(\"NumTags\").show()"
      ],
      "execution_count": 42,
      "outputs": [
        {
          "output_type": "stream",
          "name": "stdout",
          "text": [
            "+-------+-----+\n",
            "|NumTags|count|\n",
            "+-------+-----+\n",
            "|      1|13858|\n",
            "|      2|26540|\n",
            "|      3|28769|\n",
            "|      4|19108|\n",
            "|      5|11725|\n",
            "+-------+-----+\n",
            "\n"
          ]
        }
      ]
    },
    {
      "cell_type": "code",
      "metadata": {
        "colab": {
          "base_uri": "https://localhost:8080/"
        },
        "id": "EHYQsMN-qxOi",
        "outputId": "b4ba4047-7552-4b4a-eac4-8af4a7c71082"
      },
      "source": [
        "from pyspark.sql.functions import avg\n",
        "\n",
        "df.groupby(\"NumTags\").agg(avg(col(\"BodyLength\"))).orderBy(\"NumTags\").show()"
      ],
      "execution_count": 43,
      "outputs": [
        {
          "output_type": "stream",
          "name": "stdout",
          "text": [
            "+-------+------------------+\n",
            "|NumTags|   avg(BodyLength)|\n",
            "+-------+------------------+\n",
            "|      1|135.41311877615817|\n",
            "|      2|153.82456669178598|\n",
            "|      3|172.73704334526747|\n",
            "|      4|192.67050450073268|\n",
            "|      5|218.54251599147122|\n",
            "+-------+------------------+\n",
            "\n"
          ]
        }
      ]
    },
    {
      "cell_type": "code",
      "metadata": {
        "id": "0sasEOjzrLsG"
      },
      "source": [
        "assembler = VectorAssembler(inputCols=[\"BodyLength\"], outputCol=\"LengthFeature\")\n",
        "df = assembler.transform(df)"
      ],
      "execution_count": 44,
      "outputs": []
    },
    {
      "cell_type": "code",
      "metadata": {
        "colab": {
          "base_uri": "https://localhost:8080/"
        },
        "id": "A0P1paU_rNdB",
        "outputId": "c1867fad-bc82-4be9-fc20-707206dc8b62"
      },
      "source": [
        "df.head()"
      ],
      "execution_count": 45,
      "outputs": [
        {
          "output_type": "execute_result",
          "data": {
            "text/plain": [
              "Row(Body=\"<p>I'd like to check if an uploaded file is an image file (e.g png, jpg, jpeg, gif, bmp) or another file. The problem is that I'm using Uploadify to upload the files, which changes the mime type and gives a 'text/octal' or something as the mime type, no matter which file type you upload.</p>\\n\\n<p>Is there a way to check if the uploaded file is an image apart from checking the file extension using PHP?</p>\\n\", Id=1, Tags='php image-processing file-upload upload mime-types', Title='How to check if an uploaded file is an image without mime type?', oneTag='php', words=['p', 'i', 'd', 'like', 'to', 'check', 'if', 'an', 'uploaded', 'file', 'is', 'an', 'image', 'file', 'e', 'g', 'png', 'jpg', 'jpeg', 'gif', 'bmp', 'or', 'another', 'file', 'the', 'problem', 'is', 'that', 'i', 'm', 'using', 'uploadify', 'to', 'upload', 'the', 'files', 'which', 'changes', 'the', 'mime', 'type', 'and', 'gives', 'a', 'text', 'octal', 'or', 'something', 'as', 'the', 'mime', 'type', 'no', 'matter', 'which', 'file', 'type', 'you', 'upload', 'p', 'p', 'is', 'there', 'a', 'way', 'to', 'check', 'if', 'the', 'uploaded', 'file', 'is', 'an', 'image', 'apart', 'from', 'checking', 'the', 'file', 'extension', 'using', 'php', 'p'], BodyLength=83, NumParagraphs=2, NumLinks=0, NumFeatures=DenseVector([83.0, 2.0, 0.0]), ScaledNumFeatures=DenseVector([0.9997, 0.0241, 0.0]), ScaledNumFeatures2=DenseVector([0.4325, 0.7037, 0.0]), TF=SparseVector(1000, {0: 4.0, 1: 6.0, 2: 2.0, 3: 3.0, 5: 2.0, 8: 4.0, 9: 1.0, 15: 1.0, 21: 2.0, 28: 1.0, 31: 1.0, 35: 3.0, 36: 1.0, 43: 2.0, 45: 2.0, 48: 1.0, 51: 1.0, 57: 6.0, 61: 2.0, 71: 1.0, 78: 1.0, 84: 3.0, 86: 1.0, 94: 1.0, 97: 1.0, 99: 1.0, 100: 1.0, 115: 1.0, 147: 2.0, 152: 1.0, 169: 1.0, 241: 1.0, 283: 1.0, 306: 1.0, 350: 2.0, 490: 1.0, 578: 1.0, 759: 1.0, 832: 2.0}), TFIDF=SparseVector(1000, {0: 0.0026, 1: 0.7515, 2: 0.1374, 3: 0.3184, 5: 0.3823, 8: 1.0754, 9: 0.3344, 15: 0.5899, 21: 1.8551, 28: 1.1263, 31: 1.1113, 35: 3.3134, 36: 1.2545, 43: 2.3741, 45: 2.3753, 48: 1.2254, 51: 1.1879, 57: 11.0264, 61: 2.8957, 71: 2.1945, 78: 1.6947, 84: 6.5898, 86: 1.6136, 94: 2.3569, 97: 1.8218, 99: 2.6292, 100: 1.9206, 115: 2.3592, 147: 5.4841, 152: 2.1116, 169: 2.6328, 241: 2.5745, 283: 3.2325, 306: 3.2668, 350: 6.2367, 490: 3.8893, 578: 3.6182, 759: 3.7771, 832: 8.8964}), label=3.0, TitleBody=\"How to check if an uploaded file is an image without mime type? <p>I'd like to check if an uploaded file is an image file (e.g png, jpg, jpeg, gif, bmp) or another file. The problem is that I'm using Uploadify to upload the files, which changes the mime type and gives a 'text/octal' or something as the mime type, no matter which file type you upload.</p>\\n\\n<p>Is there a way to check if the uploaded file is an image apart from checking the file extension using PHP?</p>\\n\", words2=['how', 'to', 'check', 'if', 'an', 'uploaded', 'file', 'is', 'an', 'image', 'without', 'mime', 'type', 'p', 'i', 'd', 'like', 'to', 'check', 'if', 'an', 'uploaded', 'file', 'is', 'an', 'image', 'file', 'e', 'g', 'png', 'jpg', 'jpeg', 'gif', 'bmp', 'or', 'another', 'file', 'the', 'problem', 'is', 'that', 'i', 'm', 'using', 'uploadify', 'to', 'upload', 'the', 'files', 'which', 'changes', 'the', 'mime', 'type', 'and', 'gives', 'a', 'text', 'octal', 'or', 'something', 'as', 'the', 'mime', 'type', 'no', 'matter', 'which', 'file', 'type', 'you', 'upload', 'p', 'p', 'is', 'there', 'a', 'way', 'to', 'check', 'if', 'the', 'uploaded', 'file', 'is', 'an', 'image', 'apart', 'from', 'checking', 'the', 'file', 'extension', 'using', 'php', 'p'], TitleBodyLength=96, TitleBodyVec=DenseVector([96.0]), TitleBodyVecNorm=DenseVector([1.0]), TitleBodyVecNorm3=DenseVector([-0.4387]), TitleBodyVecMinMaxScaler=DenseVector([0.0114]), pcaTFIDF=DenseVector([-0.5291, -0.8217, 0.3129, 0.02, 0.0323, -0.1371, 0.1032, -0.1511, 0.4816, -0.2657, 0.9031, -0.1125, 3.1339, -0.4338, -0.1165, 0.3052, 0.9695, -0.7508, 0.1898, -1.0876, 0.5371, -0.8804, 1.5681, -0.3721, -0.4511, 0.6415, 0.5597, -0.0773, 0.4399, 1.0323, -0.8446, 0.7257, -0.6349, -1.3363, -0.9206, 1.5778, -1.8451, -0.2224, -1.1524, -0.0381, -0.0415, 0.3505, 1.2341, -0.4662, 0.8383, 0.772, 0.7149, -1.0151, 0.148, 0.1278, -0.946, -0.6953, -1.5553, -0.9866, 0.7846, -0.7185, 0.946, 0.6609, -0.0182, 1.3281, -0.4261, -0.6093, -0.8237, -0.5232, -0.5305, -0.4872, 0.1315, 0.8463, -1.1532, -1.2489, 0.3981, -1.4053, 0.4366, -0.931, 0.062, 0.9369, 0.8366, -0.7272, 1.5533, -1.9902, -0.4451, 0.9578, 0.364, -0.3055, -0.9719, -1.1939, 1.1266, -0.3546, 1.6776, 2.1847, -0.0966, -1.6945, -0.9625, -0.7207, 0.4287, -0.6703, 0.7134, 0.2583, -1.692, -0.4525]), NumTags=5, LengthFeature=DenseVector([83.0]))"
            ]
          },
          "metadata": {},
          "execution_count": 45
        }
      ]
    },
    {
      "cell_type": "code",
      "metadata": {
        "id": "VWTfjc8MrfZo"
      },
      "source": [
        "from pyspark.ml.regression import LinearRegression\n",
        "\n",
        "lr = LinearRegression(maxIter=5, regParam=0.0, fitIntercept=False, solver=\"normal\")"
      ],
      "execution_count": 46,
      "outputs": []
    },
    {
      "cell_type": "code",
      "metadata": {
        "colab": {
          "base_uri": "https://localhost:8080/"
        },
        "id": "MVvC2s9jsGO1",
        "outputId": "9805b7d9-9c11-48b7-8887-ea94a2486502"
      },
      "source": [
        "data = df.select(col(\"NumTags\").alias(\"label\"), col(\"LengthFeature\").alias(\"features\"))\n",
        "data.head()"
      ],
      "execution_count": 47,
      "outputs": [
        {
          "output_type": "execute_result",
          "data": {
            "text/plain": [
              "Row(label=5, features=DenseVector([83.0]))"
            ]
          },
          "metadata": {},
          "execution_count": 47
        }
      ]
    },
    {
      "cell_type": "code",
      "metadata": {
        "id": "XG1nKVirsNbG"
      },
      "source": [
        "lrModel = lr.fit(data)"
      ],
      "execution_count": 48,
      "outputs": []
    },
    {
      "cell_type": "code",
      "metadata": {
        "colab": {
          "base_uri": "https://localhost:8080/"
        },
        "id": "WMUQAXaksTD1",
        "outputId": "b6556cfc-247c-4e8b-e721-f1737c65ccca"
      },
      "source": [
        "lrModel.coefficients"
      ],
      "execution_count": 49,
      "outputs": [
        {
          "output_type": "execute_result",
          "data": {
            "text/plain": [
              "DenseVector([0.0079])"
            ]
          },
          "metadata": {},
          "execution_count": 49
        }
      ]
    },
    {
      "cell_type": "code",
      "metadata": {
        "colab": {
          "base_uri": "https://localhost:8080/"
        },
        "id": "fiWtLEGesZuj",
        "outputId": "baac7a6f-41fb-4d66-e419-c050d6e23934"
      },
      "source": [
        "lrModel.intercept"
      ],
      "execution_count": 50,
      "outputs": [
        {
          "output_type": "execute_result",
          "data": {
            "text/plain": [
              "0.0"
            ]
          },
          "metadata": {},
          "execution_count": 50
        }
      ]
    },
    {
      "cell_type": "code",
      "metadata": {
        "id": "ZheDPMgesehp"
      },
      "source": [
        "lrModelSummary = lrModel.summary"
      ],
      "execution_count": 51,
      "outputs": []
    },
    {
      "cell_type": "code",
      "metadata": {
        "colab": {
          "base_uri": "https://localhost:8080/"
        },
        "id": "3u38vEH6s0Tw",
        "outputId": "64e94733-f406-4841-974c-03e9dfab07ad"
      },
      "source": [
        "lrModelSummary.r2"
      ],
      "execution_count": 52,
      "outputs": [
        {
          "output_type": "execute_result",
          "data": {
            "text/plain": [
              "0.42481762576079996"
            ]
          },
          "metadata": {},
          "execution_count": 52
        }
      ]
    },
    {
      "cell_type": "markdown",
      "metadata": {
        "id": "zYu-SmYTtDhq"
      },
      "source": [
        "It is not good => needs feature engineering and parameter tuning"
      ]
    },
    {
      "cell_type": "markdown",
      "metadata": {
        "id": "KHp_PVg-tX51"
      },
      "source": [
        "## **Question 1**\n",
        "\n",
        "Build a linear regression model using the length of the combined Title + Body fields. What is the value of r^2 when fitting a model with maxIter=5, regParam=0.0, fitIntercept=False, solver=\"normal\"?"
      ]
    },
    {
      "cell_type": "code",
      "metadata": {
        "colab": {
          "base_uri": "https://localhost:8080/"
        },
        "id": "4ZAAP_pKttMa",
        "outputId": "adecb064-c3d0-4014-c1c5-f7f17b19b03c"
      },
      "source": [
        "df.groupby(\"NumTags\").agg(avg(col(\"TitleBodyLength\"))).orderBy(\"NumTags\").show()"
      ],
      "execution_count": 53,
      "outputs": [
        {
          "output_type": "stream",
          "name": "stdout",
          "text": [
            "+-------+--------------------+\n",
            "|NumTags|avg(TitleBodyLength)|\n",
            "+-------+--------------------+\n",
            "|      1|  143.68776158175783|\n",
            "|      2|   162.1539186134137|\n",
            "|      3|  181.26021064340088|\n",
            "|      4|  201.46530249110322|\n",
            "|      5|  227.64375266524522|\n",
            "+-------+--------------------+\n",
            "\n"
          ]
        }
      ]
    },
    {
      "cell_type": "code",
      "metadata": {
        "colab": {
          "base_uri": "https://localhost:8080/"
        },
        "id": "uzOQJCeOt2qR",
        "outputId": "9cff8e4b-c7b2-409a-a673-8576b4d8ef47"
      },
      "source": [
        "data = df.select(col(\"NumTags\").alias(\"label\"), col(\"TitleBodyVec\").alias(\"features\"))\n",
        "data.head()"
      ],
      "execution_count": 54,
      "outputs": [
        {
          "output_type": "execute_result",
          "data": {
            "text/plain": [
              "Row(label=5, features=DenseVector([96.0]))"
            ]
          },
          "metadata": {},
          "execution_count": 54
        }
      ]
    },
    {
      "cell_type": "code",
      "metadata": {
        "id": "LRa5sSebuFMM"
      },
      "source": [
        "lrModel_q1 = lr.fit(data)"
      ],
      "execution_count": 55,
      "outputs": []
    },
    {
      "cell_type": "code",
      "metadata": {
        "colab": {
          "base_uri": "https://localhost:8080/"
        },
        "id": "NCiUEGD_uMk2",
        "outputId": "6db913ab-2c80-4b25-9b34-ec1e4aaea94c"
      },
      "source": [
        "lrModel_q1.summary.r2"
      ],
      "execution_count": 56,
      "outputs": [
        {
          "output_type": "execute_result",
          "data": {
            "text/plain": [
              "0.4455149596308462"
            ]
          },
          "metadata": {},
          "execution_count": 56
        }
      ]
    },
    {
      "cell_type": "markdown",
      "metadata": {
        "id": "KtYkSRGRubZS"
      },
      "source": [
        "# **Logistic Regression**\n",
        "\n",
        "Predict a tag for the questions. The one tag is the most common tag a question has. It is a multiclass classification problem, but you can simplify to single target classification"
      ]
    },
    {
      "cell_type": "code",
      "metadata": {
        "colab": {
          "base_uri": "https://localhost:8080/"
        },
        "id": "g2l6jwVuveX4",
        "outputId": "cf5802a6-3baf-48a7-98e0-59f351cb82b1"
      },
      "source": [
        "data2 = df.select(col(\"label\").alias(\"label\"), col(\"TFIDF\").alias(\"features\"))\n",
        "data2.head()"
      ],
      "execution_count": 57,
      "outputs": [
        {
          "output_type": "execute_result",
          "data": {
            "text/plain": [
              "Row(label=3.0, features=SparseVector(1000, {0: 0.0026, 1: 0.7515, 2: 0.1374, 3: 0.3184, 5: 0.3823, 8: 1.0754, 9: 0.3344, 15: 0.5899, 21: 1.8551, 28: 1.1263, 31: 1.1113, 35: 3.3134, 36: 1.2545, 43: 2.3741, 45: 2.3753, 48: 1.2254, 51: 1.1879, 57: 11.0264, 61: 2.8957, 71: 2.1945, 78: 1.6947, 84: 6.5898, 86: 1.6136, 94: 2.3569, 97: 1.8218, 99: 2.6292, 100: 1.9206, 115: 2.3592, 147: 5.4841, 152: 2.1116, 169: 2.6328, 241: 2.5745, 283: 3.2325, 306: 3.2668, 350: 6.2367, 490: 3.8893, 578: 3.6182, 759: 3.7771, 832: 8.8964}))"
            ]
          },
          "metadata": {},
          "execution_count": 57
        }
      ]
    },
    {
      "cell_type": "code",
      "metadata": {
        "id": "spya1sj4vk7F"
      },
      "source": [
        "from pyspark.ml.classification import LogisticRegression\n",
        "\n",
        "lr2 = LogisticRegression(maxIter=10, regParam=0.0)"
      ],
      "execution_count": 58,
      "outputs": []
    },
    {
      "cell_type": "code",
      "metadata": {
        "id": "DQzHby9Av322"
      },
      "source": [
        "lrModel2 = lr2.fit(data2)"
      ],
      "execution_count": 59,
      "outputs": []
    },
    {
      "cell_type": "code",
      "metadata": {
        "colab": {
          "base_uri": "https://localhost:8080/"
        },
        "id": "SgXh6pbav7NL",
        "outputId": "463c6687-0e86-4621-a930-d13aeb6158f0"
      },
      "source": [
        "lrModel2.coefficientMatrix"
      ],
      "execution_count": 60,
      "outputs": [
        {
          "output_type": "execute_result",
          "data": {
            "text/plain": [
              "DenseMatrix(301, 1000, [-3.366, -0.0027, 0.0564, 0.0879, -0.0873, 0.0537, 0.0028, 0.0011, ..., -0.0012, -0.002, -0.0007, -0.0005, -0.0001, -0.0007, -0.0033, -0.0011], 1)"
            ]
          },
          "metadata": {},
          "execution_count": 60
        }
      ]
    },
    {
      "cell_type": "code",
      "metadata": {
        "colab": {
          "base_uri": "https://localhost:8080/"
        },
        "id": "xkWNNeajv-ys",
        "outputId": "47e8f9de-b07a-48f2-f0be-5bb003ff2fc1"
      },
      "source": [
        "lrModel2.interceptVector"
      ],
      "execution_count": 61,
      "outputs": [
        {
          "output_type": "execute_result",
          "data": {
            "text/plain": [
              "DenseVector([5.0349, 3.3699, 4.2743, 4.0637, 4.3092, 4.1958, 3.4761, 3.7129, 3.1161, 2.8859, 3.2474, 2.9347, 3.1001, 2.8214, 2.7538, 3.0578, 3.2807, 3.0748, 3.0897, 2.7948, 2.6887, 3.0541, 2.9388, 2.1495, 3.1079, 2.0982, 2.6243, 1.7693, 2.122, 1.8288, 2.2967, 2.2808, 1.5032, 2.3648, 2.6052, 1.3411, 2.2037, 0.8171, 1.7048, 1.877, 1.5355, 1.322, 1.796, 0.885, 1.0449, 1.3353, 1.1925, 0.9448, 0.8333, 0.9393, 0.8649, 1.0534, 0.4789, -0.091, 0.5386, 0.7571, 0.9612, 1.8785, 1.3878, 2.2508, -0.3393, 1.0961, 0.8168, 0.5892, 1.659, 0.802, 0.5494, 0.663, 0.1311, 0.203, -0.1665, 0.6357, 0.9036, 0.6988, -0.0894, 0.4273, 1.3243, 0.1655, 0.7225, 1.1429, 0.0385, 0.3549, 0.0286, -0.2136, 0.4241, 0.3773, -0.5959, -0.0354, -0.3957, -0.1694, 0.0864, 0.6522, -0.1645, 0.1155, -0.1603, 0.8341, 0.1882, 0.2458, 0.3807, -0.6794, -0.4357, -0.3846, 0.2361, 0.2743, -0.4891, -0.1413, 0.8849, -0.0908, 0.2604, -0.0706, -0.367, 0.5003, 0.161, 0.2303, -0.3059, 0.343, 0.4042, 0.1672, -0.416, -0.0833, -0.0584, -0.4839, -0.6202, -0.1889, -0.5862, -0.6298, -0.0827, -0.1709, -0.3383, -0.5932, 0.2324, -0.5653, -0.2652, -0.5661, -0.1617, -0.4865, -0.6058, -0.3696, -0.23, -0.5858, -0.4367, -0.2582, -0.7758, -0.2481, -0.5592, -0.2774, 0.017, -0.4624, -0.6735, 0.0428, -0.3306, -0.4996, 0.2839, -0.538, -0.2481, -0.4522, -0.5305, -0.1039, -1.0212, -0.941, -0.3989, -0.5087, -0.5818, -0.0004, -0.1356, -0.2193, -0.3833, -1.0913, -0.4743, -0.3254, -0.5984, -0.8316, -0.0097, -0.3908, -0.8485, -0.5743, -0.8236, -0.6963, -0.5612, -0.4104, -0.4938, -0.5511, -1.0018, -0.5326, -1.3288, -0.6339, -0.9584, -0.4157, -0.0946, -0.9888, -0.5858, -0.7769, -0.3786, -0.6263, -0.5096, -0.6796, -0.7361, -0.6767, -0.7403, -1.0942, -0.7389, -0.5206, -0.8323, -1.1755, -0.9009, -1.1109, -1.0631, -0.9812, -0.7349, -1.2068, -0.9687, -0.7206, -0.6547, -1.368, -0.843, -0.9186, -0.9744, -1.0655, -1.3913, -0.9675, -0.702, -0.9835, -0.7419, -0.9457, -1.0996, -1.124, -0.6576, -1.3025, -0.764, -1.1037, -0.7995, -0.4137, -0.7566, -0.9924, -1.4606, -1.4878, -0.9228, -0.6743, -1.078, -1.3917, -0.7198, -0.9354, -1.0857, -1.011, -0.8895, -0.9675, -1.1579, -0.7989, -1.0291, -1.1113, -0.8575, -1.3083, -1.4792, -1.1941, -0.9358, -0.9303, -0.7577, -1.2939, -1.4636, -0.975, -1.2095, -1.1867, -0.9942, -0.9518, -1.2713, -1.2625, -1.1025, -0.7471, -0.7429, -0.8238, -0.9751, -1.2239, -1.0499, -0.9654, -0.8472, -0.7604, -0.995, -1.1365, -1.3526, -1.0514, -1.1445, -0.9527, -1.525, -1.1418, -1.0924, -1.3176, -1.4551, -1.2906, -1.307, -1.5746, -1.3136, -1.5306, -1.5004, -1.3471, -1.2447, -1.248, -1.5358, -1.5703, -1.3462, -1.7369, -1.5029])"
            ]
          },
          "metadata": {},
          "execution_count": 61
        }
      ]
    },
    {
      "cell_type": "code",
      "metadata": {
        "colab": {
          "base_uri": "https://localhost:8080/"
        },
        "id": "Xg3v-8SMwCOJ",
        "outputId": "2c4c630f-c51a-4726-f446-8d2db25d5509"
      },
      "source": [
        "lrModel2.summary.accuracy"
      ],
      "execution_count": 62,
      "outputs": [
        {
          "output_type": "execute_result",
          "data": {
            "text/plain": [
              "0.39128"
            ]
          },
          "metadata": {},
          "execution_count": 62
        }
      ]
    },
    {
      "cell_type": "markdown",
      "metadata": {
        "id": "fxQtZvYuynv_"
      },
      "source": [
        "# **Unsupervised Learning**\n",
        "\n",
        "We might want to take a look at the distribution of the Title+Body length feature we used before and instead of using the raw number of words create categories based on this length: short, longer,..., super long."
      ]
    },
    {
      "cell_type": "markdown",
      "metadata": {
        "id": "lIcdlv3oy8fh"
      },
      "source": [
        "## **Question 1**\n",
        "\n",
        "How many times greater is the Description Length of the longest question than the Description Length of the shortest question (rounded to the nearest whole number)?\n",
        "\n",
        "Tip: Don't forget to import Spark SQL's aggregate functions that can operate on DataFrame columns."
      ]
    },
    {
      "cell_type": "code",
      "metadata": {
        "colab": {
          "base_uri": "https://localhost:8080/"
        },
        "id": "w56dZgoWzNvQ",
        "outputId": "104662ce-6442-46a2-b7e0-50354d252da3"
      },
      "source": [
        "from pyspark.sql.functions import min, max, stddev\n",
        "\n",
        "df.agg(min(\"TitleBodyLength\")).show()"
      ],
      "execution_count": 63,
      "outputs": [
        {
          "output_type": "stream",
          "name": "stdout",
          "text": [
            "+--------------------+\n",
            "|min(TitleBodyLength)|\n",
            "+--------------------+\n",
            "|                  10|\n",
            "+--------------------+\n",
            "\n"
          ]
        }
      ]
    },
    {
      "cell_type": "code",
      "metadata": {
        "colab": {
          "base_uri": "https://localhost:8080/"
        },
        "id": "HWHycX6O0KKm",
        "outputId": "26dfa025-ecac-4596-f1be-9b9042efd46a"
      },
      "source": [
        "df.agg(max(\"TitleBodyLength\")).show()"
      ],
      "execution_count": 64,
      "outputs": [
        {
          "output_type": "stream",
          "name": "stdout",
          "text": [
            "+--------------------+\n",
            "|max(TitleBodyLength)|\n",
            "+--------------------+\n",
            "|                7532|\n",
            "+--------------------+\n",
            "\n"
          ]
        }
      ]
    },
    {
      "cell_type": "markdown",
      "metadata": {
        "id": "x57-pVPI0ynI"
      },
      "source": [
        "## **Question 2**\n",
        "\n",
        "What is the mean and standard deviation of the Description length?"
      ]
    },
    {
      "cell_type": "code",
      "metadata": {
        "colab": {
          "base_uri": "https://localhost:8080/"
        },
        "id": "wFd7l1L70IQf",
        "outputId": "a3ed7d3f-8f46-452f-c55d-12f75f57621d"
      },
      "source": [
        "df.agg(avg(\"TitleBodyLength\"), stddev(\"TitleBodyLength\")).show()"
      ],
      "execution_count": 65,
      "outputs": [
        {
          "output_type": "stream",
          "name": "stdout",
          "text": [
            "+--------------------+----------------------------+\n",
            "|avg(TitleBodyLength)|stddev_samp(TitleBodyLength)|\n",
            "+--------------------+----------------------------+\n",
            "|           180.28187|          192.10819533505023|\n",
            "+--------------------+----------------------------+\n",
            "\n"
          ]
        }
      ]
    },
    {
      "cell_type": "markdown",
      "metadata": {
        "id": "9bkOyldT1BpN"
      },
      "source": [
        "## **Question 3**\n",
        "\n",
        "Let's use K-means to create 5 clusters of Description Lengths. Set the random seed to 42 and fit a 5-class K-means model on the Description Length column (you can use KMeans().setParams(...) ). What length is the center of the cluster representing the longest questions?"
      ]
    },
    {
      "cell_type": "code",
      "metadata": {
        "id": "CIcW9sSuympv"
      },
      "source": [
        "from pyspark.ml.clustering import KMeans\n",
        "\n",
        "kmeans = KMeans().setParams(featuresCol=\"TitleBodyVec\", predictionCol=\"TitleBodyGroup\", k=5, seed=42)\n",
        "model = kmeans.fit(df)\n",
        "df = model.transform(df)"
      ],
      "execution_count": 66,
      "outputs": []
    },
    {
      "cell_type": "code",
      "metadata": {
        "colab": {
          "base_uri": "https://localhost:8080/"
        },
        "id": "QK6oM_pW1SGj",
        "outputId": "3635d6d5-f235-462d-8082-e22dc36a7626"
      },
      "source": [
        "from pyspark.sql.functions import count\n",
        "\n",
        "df.groupby(\"TitleBodyGroup\").agg(avg(col(\"TitleBodyLength\")), avg(col(\"NumTags\")), count(col(\"TitleBodyLength\"))).orderBy(\"avg(TitleBodyLength)\").show()"
      ],
      "execution_count": 67,
      "outputs": [
        {
          "output_type": "stream",
          "name": "stdout",
          "text": [
            "+--------------+--------------------+------------------+----------------------+\n",
            "|TitleBodyGroup|avg(TitleBodyLength)|      avg(NumTags)|count(TitleBodyLength)|\n",
            "+--------------+--------------------+------------------+----------------------+\n",
            "|             0|   96.02297592997812|2.7428884026258205|                 63066|\n",
            "|             4|  238.22969197457567|3.0864357058042886|                 28634|\n",
            "|             1|  492.97406340057637|3.2337175792507207|                  6940|\n",
            "|             3|   1064.769101595298| 3.292191435768262|                  1191|\n",
            "|             2|  2731.0828402366865|  3.42603550295858|                   169|\n",
            "+--------------+--------------------+------------------+----------------------+\n",
            "\n"
          ]
        }
      ]
    },
    {
      "cell_type": "markdown",
      "metadata": {
        "id": "XNO0NSXf3INW"
      },
      "source": [
        "# **Pipelines**"
      ]
    },
    {
      "cell_type": "code",
      "metadata": {
        "colab": {
          "base_uri": "https://localhost:8080/"
        },
        "id": "N3JTMJFP3RIL",
        "outputId": "aa2c4400-0ce0-42d6-bf35-ead10e2059db"
      },
      "source": [
        "print(type(lrModel2))"
      ],
      "execution_count": 68,
      "outputs": [
        {
          "output_type": "stream",
          "name": "stdout",
          "text": [
            "<class 'pyspark.ml.classification.LogisticRegressionModel'>\n"
          ]
        }
      ]
    },
    {
      "cell_type": "markdown",
      "metadata": {
        "id": "np82n2Es3drk"
      },
      "source": [
        "It is a transformer"
      ]
    },
    {
      "cell_type": "code",
      "metadata": {
        "colab": {
          "base_uri": "https://localhost:8080/"
        },
        "id": "4a-JIA0T4GLv",
        "outputId": "2560aa2d-c7d1-4014-dfe4-d5511642d0b9"
      },
      "source": [
        "print(type(lr2))"
      ],
      "execution_count": 69,
      "outputs": [
        {
          "output_type": "stream",
          "name": "stdout",
          "text": [
            "<class 'pyspark.ml.classification.LogisticRegression'>\n"
          ]
        }
      ]
    },
    {
      "cell_type": "markdown",
      "metadata": {
        "id": "ks7_y24P4JSf"
      },
      "source": [
        "It is a estimator, but it does not really say that\n",
        "\n",
        "Let's build a pipeline using the same example in Logistic Regression (chain Transformers and Estimators => the steps need to form a DAG)"
      ]
    },
    {
      "cell_type": "code",
      "metadata": {
        "colab": {
          "base_uri": "https://localhost:8080/"
        },
        "id": "bnqt09Ey396Z",
        "outputId": "51984f5e-3ede-4fa6-bbca-0ebcd410791c"
      },
      "source": [
        "df2 = spark.read.json(stack_overflow_data)\n",
        "df2.persist()"
      ],
      "execution_count": 70,
      "outputs": [
        {
          "output_type": "execute_result",
          "data": {
            "text/plain": [
              "DataFrame[Body: string, Id: bigint, Tags: string, Title: string, oneTag: string]"
            ]
          },
          "metadata": {},
          "execution_count": 70
        }
      ]
    },
    {
      "cell_type": "code",
      "metadata": {
        "id": "zBn4sE6K4jj7"
      },
      "source": [
        "from pyspark.ml import Pipeline\n",
        "\n",
        "#turn body in the list of words\n",
        "regexTokenizer = RegexTokenizer(inputCol=\"Body\", outputCol=\"words\", pattern=\"\\\\W\")\n",
        "#transform words into term of frequencies\n",
        "cv = CountVectorizer(inputCol=\"words\", outputCol=\"TF\", vocabSize=10000)\n",
        "#turns frequencies into TF-IDF\n",
        "idf = IDF(inputCol=\"TF\", outputCol=\"features\")\n",
        "#transform string tags into numeric values - independent can be anywhere in Pipeline\n",
        "indexer = StringIndexer(inputCol=\"oneTag\", outputCol=\"label\")\n",
        "\n",
        "lr =  LogisticRegression(maxIter=10, regParam=0.0, elasticNetParam=0)\n",
        "\n",
        "pipeline = Pipeline(stages=[regexTokenizer, cv, idf, indexer, lr])"
      ],
      "execution_count": 71,
      "outputs": []
    },
    {
      "cell_type": "code",
      "metadata": {
        "id": "S2C3RhNf1ezK"
      },
      "source": [
        "plrModel = pipeline.fit(df2)"
      ],
      "execution_count": null,
      "outputs": []
    },
    {
      "cell_type": "code",
      "metadata": {
        "colab": {
          "background_save": true
        },
        "id": "ZK4xSMTO6MSF"
      },
      "source": [
        "df3 = plrModel.transform(df2)"
      ],
      "execution_count": null,
      "outputs": []
    },
    {
      "cell_type": "code",
      "metadata": {
        "id": "InT1dVWf6QkT"
      },
      "source": [
        "df3.head()"
      ],
      "execution_count": null,
      "outputs": []
    },
    {
      "cell_type": "code",
      "metadata": {
        "id": "fSEGFOWd6p-G"
      },
      "source": [
        "df3.filter(df3.label == df3.prediction).count()"
      ],
      "execution_count": null,
      "outputs": []
    }
  ]
}