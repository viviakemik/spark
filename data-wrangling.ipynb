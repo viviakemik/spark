{
  "nbformat": 4,
  "nbformat_minor": 0,
  "metadata": {
    "colab": {
      "name": "data-wrangling.ipynb",
      "provenance": [],
      "authorship_tag": "ABX9TyNayaBY3T/X2wLzYCAHQqmF",
      "include_colab_link": true
    },
    "kernelspec": {
      "name": "python3",
      "display_name": "Python 3"
    },
    "language_info": {
      "name": "python"
    }
  },
  "cells": [
    {
      "cell_type": "markdown",
      "metadata": {
        "id": "view-in-github",
        "colab_type": "text"
      },
      "source": [
        "<a href=\"https://colab.research.google.com/github/viviakemik/spark/blob/main/data-wrangling.ipynb\" target=\"_parent\"><img src=\"https://colab.research.google.com/assets/colab-badge.svg\" alt=\"Open In Colab\"/></a>"
      ]
    },
    {
      "cell_type": "markdown",
      "metadata": {
        "id": "ANzLAq8EMEiv"
      },
      "source": [
        "https://www.udacity.com/course/learn-spark-at-udacity--ud2002"
      ]
    },
    {
      "cell_type": "code",
      "metadata": {
        "colab": {
          "base_uri": "https://localhost:8080/"
        },
        "id": "aH-lILEgyDod",
        "outputId": "3025458a-abdd-495b-c5c4-a87be71ed5d2"
      },
      "source": [
        "pip install pyspark"
      ],
      "execution_count": 2,
      "outputs": [
        {
          "output_type": "stream",
          "name": "stdout",
          "text": [
            "Collecting pyspark\n",
            "  Downloading pyspark-3.2.0.tar.gz (281.3 MB)\n",
            "\u001b[K     |████████████████████████████████| 281.3 MB 41 kB/s \n",
            "\u001b[?25hCollecting py4j==0.10.9.2\n",
            "  Downloading py4j-0.10.9.2-py2.py3-none-any.whl (198 kB)\n",
            "\u001b[K     |████████████████████████████████| 198 kB 54.2 MB/s \n",
            "\u001b[?25hBuilding wheels for collected packages: pyspark\n",
            "  Building wheel for pyspark (setup.py) ... \u001b[?25l\u001b[?25hdone\n",
            "  Created wheel for pyspark: filename=pyspark-3.2.0-py2.py3-none-any.whl size=281805912 sha256=8fd13ccbcf45a122a61ca35cadedb65a5f057d84adbd34f5a0540ebc7c9ddf7e\n",
            "  Stored in directory: /root/.cache/pip/wheels/0b/de/d2/9be5d59d7331c6c2a7c1b6d1a4f463ce107332b1ecd4e80718\n",
            "Successfully built pyspark\n",
            "Installing collected packages: py4j, pyspark\n",
            "Successfully installed py4j-0.10.9.2 pyspark-3.2.0\n"
          ]
        }
      ]
    },
    {
      "cell_type": "markdown",
      "metadata": {
        "id": "CgWluYHYGrHP"
      },
      "source": [
        "# **Maps**\n",
        "In Spark, maps take data as input and then transform that data with whatever function you put in the map. They are like directions for the data telling how each input should get to the output."
      ]
    },
    {
      "cell_type": "code",
      "metadata": {
        "id": "oHEh_5_SGRql"
      },
      "source": [
        "import pyspark\n",
        "sc = pyspark.SparkContext(appName=\"maps_and_lazy_evaluation_example\")\n",
        "\n",
        "log_of_songs = [\n",
        "        \"Despacito\",\n",
        "        \"Nice for what\",\n",
        "        \"No tears left to cry\",\n",
        "        \"Despacito\",\n",
        "        \"Havana\",\n",
        "        \"In my feelings\",\n",
        "        \"Nice for what\",\n",
        "        \"despacito\",\n",
        "        \"All the stars\"\n",
        "]\n",
        "\n",
        "# parallelize the log_of_songs to use with Spark\n",
        "distributed_song_log = sc.parallelize(log_of_songs)"
      ],
      "execution_count": 3,
      "outputs": []
    },
    {
      "cell_type": "markdown",
      "metadata": {
        "id": "Qb1oD0aYLHNK"
      },
      "source": [
        "Spark Context is the main entry point for Spark functionality and connects the cluster with the application"
      ]
    },
    {
      "cell_type": "code",
      "metadata": {
        "colab": {
          "base_uri": "https://localhost:8080/",
          "height": 35
        },
        "id": "S0NOwG-DG87s",
        "outputId": "c5643c0e-3bf7-4f01-9f57-e5d7352e599e"
      },
      "source": [
        "def convert_song_to_lowercase(song):\n",
        "    return song.lower()\n",
        "\n",
        "convert_song_to_lowercase(\"Havana\")"
      ],
      "execution_count": 4,
      "outputs": [
        {
          "output_type": "execute_result",
          "data": {
            "application/vnd.google.colaboratory.intrinsic+json": {
              "type": "string"
            },
            "text/plain": [
              "'havana'"
            ]
          },
          "metadata": {},
          "execution_count": 4
        }
      ]
    },
    {
      "cell_type": "code",
      "metadata": {
        "colab": {
          "base_uri": "https://localhost:8080/"
        },
        "id": "bbFzjdduHCxw",
        "outputId": "ad2196be-1bf0-4709-f5a9-06a5532f4255"
      },
      "source": [
        "distributed_song_log.map(convert_song_to_lowercase)"
      ],
      "execution_count": 5,
      "outputs": [
        {
          "output_type": "execute_result",
          "data": {
            "text/plain": [
              "PythonRDD[1] at RDD at PythonRDD.scala:53"
            ]
          },
          "metadata": {},
          "execution_count": 5
        }
      ]
    },
    {
      "cell_type": "markdown",
      "metadata": {
        "id": "WxKIoH6jHIHW"
      },
      "source": [
        "* this code cell ran quite quickly. This is because of lazy evaluation. Spark does not actually execute the map step unless it needs to.\n",
        "* RDDs: fault-tolerant datasets distributed across a cluster\n",
        "* To get Spark to actually run the map step, you need to use an \"action\""
      ]
    },
    {
      "cell_type": "code",
      "metadata": {
        "colab": {
          "base_uri": "https://localhost:8080/"
        },
        "id": "dxr1DVegHXxU",
        "outputId": "fdc0d943-98b0-4b8f-b5d2-15440e3f1101"
      },
      "source": [
        "distributed_song_log.map(convert_song_to_lowercase).collect()"
      ],
      "execution_count": 6,
      "outputs": [
        {
          "output_type": "execute_result",
          "data": {
            "text/plain": [
              "['despacito',\n",
              " 'nice for what',\n",
              " 'no tears left to cry',\n",
              " 'despacito',\n",
              " 'havana',\n",
              " 'in my feelings',\n",
              " 'nice for what',\n",
              " 'despacito',\n",
              " 'all the stars']"
            ]
          },
          "metadata": {},
          "execution_count": 6
        }
      ]
    },
    {
      "cell_type": "markdown",
      "metadata": {
        "id": "bXpy3jasHw-K"
      },
      "source": [
        "Note as well that Spark is not changing the original data set"
      ]
    },
    {
      "cell_type": "code",
      "metadata": {
        "colab": {
          "base_uri": "https://localhost:8080/"
        },
        "id": "OdFxG5f6Hzq0",
        "outputId": "f7399830-e327-45a8-f722-30338f703928"
      },
      "source": [
        "distributed_song_log.collect()"
      ],
      "execution_count": 7,
      "outputs": [
        {
          "output_type": "execute_result",
          "data": {
            "text/plain": [
              "['Despacito',\n",
              " 'Nice for what',\n",
              " 'No tears left to cry',\n",
              " 'Despacito',\n",
              " 'Havana',\n",
              " 'In my feelings',\n",
              " 'Nice for what',\n",
              " 'despacito',\n",
              " 'All the stars']"
            ]
          },
          "metadata": {},
          "execution_count": 7
        }
      ]
    },
    {
      "cell_type": "code",
      "metadata": {
        "colab": {
          "base_uri": "https://localhost:8080/"
        },
        "id": "S3AY_dSLQiwH",
        "outputId": "6bc039ca-92d5-4531-827f-cb7be3d95475"
      },
      "source": [
        "print(type(distributed_song_log.collect()))"
      ],
      "execution_count": 8,
      "outputs": [
        {
          "output_type": "stream",
          "name": "stdout",
          "text": [
            "<class 'list'>\n"
          ]
        }
      ]
    },
    {
      "cell_type": "markdown",
      "metadata": {
        "id": "0VHxIwQ1IDLs"
      },
      "source": [
        "You can also use anonymous (lambda) functions as well as built-in Python functions like string.lower()"
      ]
    },
    {
      "cell_type": "code",
      "metadata": {
        "colab": {
          "base_uri": "https://localhost:8080/"
        },
        "id": "QPQGAOjvICc_",
        "outputId": "701cc1d4-918f-411e-fc0a-98d4c5d8d087"
      },
      "source": [
        "distributed_song_log.map(lambda song: song.lower()).collect()"
      ],
      "execution_count": 9,
      "outputs": [
        {
          "output_type": "execute_result",
          "data": {
            "text/plain": [
              "['despacito',\n",
              " 'nice for what',\n",
              " 'no tears left to cry',\n",
              " 'despacito',\n",
              " 'havana',\n",
              " 'in my feelings',\n",
              " 'nice for what',\n",
              " 'despacito',\n",
              " 'all the stars']"
            ]
          },
          "metadata": {},
          "execution_count": 9
        }
      ]
    },
    {
      "cell_type": "markdown",
      "metadata": {
        "id": "rVuhvRlCMlOz"
      },
      "source": [
        "# **Reading and Writing Data with Spark**\n",
        "\n",
        "* To read dataframes we need to use SparkSession"
      ]
    },
    {
      "cell_type": "code",
      "metadata": {
        "id": "e-9ZaDZ9MtIE"
      },
      "source": [
        "import pyspark\n",
        "from pyspark import SparkConf\n",
        "from pyspark.sql import SparkSession"
      ],
      "execution_count": 10,
      "outputs": []
    },
    {
      "cell_type": "code",
      "metadata": {
        "id": "wESbwmBWMyNU"
      },
      "source": [
        "spark = SparkSession \\\n",
        "    .builder \\\n",
        "    .appName(\"Our first Python Spark SQL example\") \\\n",
        "    .getOrCreate()"
      ],
      "execution_count": 11,
      "outputs": []
    },
    {
      "cell_type": "code",
      "metadata": {
        "colab": {
          "base_uri": "https://localhost:8080/"
        },
        "id": "rsOEdN2kM0Vy",
        "outputId": "57439c8b-9539-4ba0-8042-4aebc1de7ab0"
      },
      "source": [
        "spark.sparkContext.getConf().getAll()"
      ],
      "execution_count": 12,
      "outputs": [
        {
          "output_type": "execute_result",
          "data": {
            "text/plain": [
              "[('spark.app.id', 'local-1636211353086'),\n",
              " ('spark.rdd.compress', 'True'),\n",
              " ('spark.app.startTime', '1636211351180'),\n",
              " ('spark.serializer.objectStreamReset', '100'),\n",
              " ('spark.master', 'local[*]'),\n",
              " ('spark.submit.pyFiles', ''),\n",
              " ('spark.executor.id', 'driver'),\n",
              " ('spark.app.name', 'maps_and_lazy_evaluation_example'),\n",
              " ('spark.submit.deployMode', 'client'),\n",
              " ('spark.driver.host', 'a28b1161b8a2'),\n",
              " ('spark.driver.port', '44287'),\n",
              " ('spark.sql.warehouse.dir', 'file:/content/spark-warehouse'),\n",
              " ('spark.ui.showConsoleProgress', 'true')]"
            ]
          },
          "metadata": {},
          "execution_count": 12
        }
      ]
    },
    {
      "cell_type": "code",
      "metadata": {
        "colab": {
          "base_uri": "https://localhost:8080/",
          "height": 217
        },
        "id": "Dxv2DH4jM4Gp",
        "outputId": "4e55ce5f-197a-4f6c-f37e-356b153200d9"
      },
      "source": [
        "spark"
      ],
      "execution_count": 13,
      "outputs": [
        {
          "output_type": "execute_result",
          "data": {
            "text/html": [
              "\n",
              "            <div>\n",
              "                <p><b>SparkSession - in-memory</b></p>\n",
              "                \n",
              "        <div>\n",
              "            <p><b>SparkContext</b></p>\n",
              "\n",
              "            <p><a href=\"http://a28b1161b8a2:4040\">Spark UI</a></p>\n",
              "\n",
              "            <dl>\n",
              "              <dt>Version</dt>\n",
              "                <dd><code>v3.2.0</code></dd>\n",
              "              <dt>Master</dt>\n",
              "                <dd><code>local[*]</code></dd>\n",
              "              <dt>AppName</dt>\n",
              "                <dd><code>maps_and_lazy_evaluation_example</code></dd>\n",
              "            </dl>\n",
              "        </div>\n",
              "        \n",
              "            </div>\n",
              "        "
            ],
            "text/plain": [
              "<pyspark.sql.session.SparkSession at 0x7f4a5ee40c10>"
            ]
          },
          "metadata": {},
          "execution_count": 13
        }
      ]
    },
    {
      "cell_type": "code",
      "metadata": {
        "colab": {
          "base_uri": "https://localhost:8080/"
        },
        "id": "7-fqFEXuO5DP",
        "outputId": "a537b011-ae30-4692-d08f-30ebd16406ee"
      },
      "source": [
        "from google.colab import drive\n",
        "drive.mount('/content/drive')"
      ],
      "execution_count": 14,
      "outputs": [
        {
          "output_type": "stream",
          "name": "stdout",
          "text": [
            "Mounted at /content/drive\n"
          ]
        }
      ]
    },
    {
      "cell_type": "code",
      "metadata": {
        "id": "3Dk6RFSqNjJF"
      },
      "source": [
        "path = \"drive/MyDrive/Github/spark/data/sparkify_log_small.json\"\n",
        "user_log = spark.read.json(path)"
      ],
      "execution_count": 15,
      "outputs": []
    },
    {
      "cell_type": "code",
      "metadata": {
        "colab": {
          "base_uri": "https://localhost:8080/"
        },
        "id": "m-PFSFaQQnN4",
        "outputId": "a11310b0-858f-4ee2-b300-94a8cbdffea9"
      },
      "source": [
        "print(type(user_log))"
      ],
      "execution_count": 16,
      "outputs": [
        {
          "output_type": "stream",
          "name": "stdout",
          "text": [
            "<class 'pyspark.sql.dataframe.DataFrame'>\n"
          ]
        }
      ]
    },
    {
      "cell_type": "code",
      "metadata": {
        "colab": {
          "base_uri": "https://localhost:8080/"
        },
        "id": "kP1z-1wHPjjb",
        "outputId": "c43cac23-dada-4a43-95e3-e8850eccdd2c"
      },
      "source": [
        "user_log.printSchema()"
      ],
      "execution_count": 17,
      "outputs": [
        {
          "output_type": "stream",
          "name": "stdout",
          "text": [
            "root\n",
            " |-- _corrupt_record: string (nullable = true)\n",
            " |-- artist: string (nullable = true)\n",
            " |-- auth: string (nullable = true)\n",
            " |-- firstName: string (nullable = true)\n",
            " |-- gender: string (nullable = true)\n",
            " |-- itemInSession: long (nullable = true)\n",
            " |-- lastName: string (nullable = true)\n",
            " |-- length: double (nullable = true)\n",
            " |-- level: string (nullable = true)\n",
            " |-- location: string (nullable = true)\n",
            " |-- method: string (nullable = true)\n",
            " |-- page: string (nullable = true)\n",
            " |-- registration: long (nullable = true)\n",
            " |-- sessionId: long (nullable = true)\n",
            " |-- song: string (nullable = true)\n",
            " |-- status: long (nullable = true)\n",
            " |-- ts: long (nullable = true)\n",
            " |-- userAgent: string (nullable = true)\n",
            " |-- userId: string (nullable = true)\n",
            "\n"
          ]
        }
      ]
    },
    {
      "cell_type": "code",
      "metadata": {
        "colab": {
          "base_uri": "https://localhost:8080/"
        },
        "id": "60eHg5hdPmYM",
        "outputId": "d2aed372-6b12-4482-b2ab-f14a5fbefbd2"
      },
      "source": [
        "user_log.describe()"
      ],
      "execution_count": 18,
      "outputs": [
        {
          "output_type": "execute_result",
          "data": {
            "text/plain": [
              "DataFrame[summary: string, _corrupt_record: string, artist: string, auth: string, firstName: string, gender: string, itemInSession: string, lastName: string, length: string, level: string, location: string, method: string, page: string, registration: string, sessionId: string, song: string, status: string, ts: string, userAgent: string, userId: string]"
            ]
          },
          "metadata": {},
          "execution_count": 18
        }
      ]
    },
    {
      "cell_type": "code",
      "metadata": {
        "colab": {
          "base_uri": "https://localhost:8080/"
        },
        "id": "8xXEyAPSPqJQ",
        "outputId": "a59c2e94-61c6-4934-b168-df46e5992b7e"
      },
      "source": [
        "user_log.show(n=1)"
      ],
      "execution_count": 19,
      "outputs": [
        {
          "output_type": "stream",
          "name": "stdout",
          "text": [
            "+---------------+-------------+---------+---------+------+-------------+--------+---------+-----+--------------------+------+--------+-------------+---------+--------------------+------+-------------+--------------------+------+\n",
            "|_corrupt_record|       artist|     auth|firstName|gender|itemInSession|lastName|   length|level|            location|method|    page| registration|sessionId|                song|status|           ts|           userAgent|userId|\n",
            "+---------------+-------------+---------+---------+------+-------------+--------+---------+-----+--------------------+------+--------+-------------+---------+--------------------+------+-------------+--------------------+------+\n",
            "|           null|Showaddywaddy|Logged In|  Kenneth|     M|          112|Matthews|232.93342| paid|Charlotte-Concord...|   PUT|NextSong|1509380319284|     5132|Christmas Tears W...|   200|1513720872284|\"Mozilla/5.0 (Win...|  1046|\n",
            "+---------------+-------------+---------+---------+------+-------------+--------+---------+-----+--------------------+------+--------+-------------+---------+--------------------+------+-------------+--------------------+------+\n",
            "only showing top 1 row\n",
            "\n"
          ]
        }
      ]
    },
    {
      "cell_type": "code",
      "metadata": {
        "colab": {
          "base_uri": "https://localhost:8080/"
        },
        "id": "mnWOf_qEPsXb",
        "outputId": "32612ca1-4ff5-4dd9-d83b-3e1f10fd1b19"
      },
      "source": [
        "user_log.take(5)"
      ],
      "execution_count": 20,
      "outputs": [
        {
          "output_type": "execute_result",
          "data": {
            "text/plain": [
              "[Row(_corrupt_record=None, artist='Showaddywaddy', auth='Logged In', firstName='Kenneth', gender='M', itemInSession=112, lastName='Matthews', length=232.93342, level='paid', location='Charlotte-Concord-Gastonia, NC-SC', method='PUT', page='NextSong', registration=1509380319284, sessionId=5132, song='Christmas Tears Will Fall', status=200, ts=1513720872284, userAgent='\"Mozilla/5.0 (Windows NT 6.1) AppleWebKit/537.36 (KHTML, like Gecko) Chrome/36.0.1985.125 Safari/537.36\"', userId='1046'),\n",
              " Row(_corrupt_record=None, artist='Lily Allen', auth='Logged In', firstName='Elizabeth', gender='F', itemInSession=7, lastName='Chase', length=195.23873, level='free', location='Shreveport-Bossier City, LA', method='PUT', page='NextSong', registration=1512718541284, sessionId=5027, song='Cheryl Tweedy', status=200, ts=1513720878284, userAgent='\"Mozilla/5.0 (Windows NT 6.1) AppleWebKit/537.36 (KHTML, like Gecko) Chrome/36.0.1985.143 Safari/537.36\"', userId='1000'),\n",
              " Row(_corrupt_record=None, artist='Cobra Starship Featuring Leighton Meester', auth='Logged In', firstName='Vera', gender='F', itemInSession=6, lastName='Blackwell', length=196.20526, level='paid', location='Racine, WI', method='PUT', page='NextSong', registration=1499855749284, sessionId=5516, song='Good Girls Go Bad (Feat.Leighton Meester) (Album Version)', status=200, ts=1513720881284, userAgent='\"Mozilla/5.0 (Macintosh; Intel Mac OS X 10_9_4) AppleWebKit/537.78.2 (KHTML, like Gecko) Version/7.0.6 Safari/537.78.2\"', userId='2219'),\n",
              " Row(_corrupt_record=None, artist='Alex Smoke', auth='Logged In', firstName='Sophee', gender='F', itemInSession=8, lastName='Barker', length=405.99465, level='paid', location='San Luis Obispo-Paso Robles-Arroyo Grande, CA', method='PUT', page='NextSong', registration=1513009647284, sessionId=2372, song=\"Don't See The Point\", status=200, ts=1513720905284, userAgent='\"Mozilla/5.0 (Windows NT 6.1; WOW64) AppleWebKit/537.36 (KHTML, like Gecko) Chrome/36.0.1985.143 Safari/537.36\"', userId='2373'),\n",
              " Row(_corrupt_record=None, artist=None, auth='Logged In', firstName='Jordyn', gender='F', itemInSession=0, lastName='Jones', length=None, level='free', location='Syracuse, NY', method='GET', page='Home', registration=1513648531284, sessionId=1746, song=None, status=200, ts=1513720913284, userAgent='\"Mozilla/5.0 (Macintosh; Intel Mac OS X 10_9_4) AppleWebKit/537.36 (KHTML, like Gecko) Chrome/37.0.2062.94 Safari/537.36\"', userId='1747')]"
            ]
          },
          "metadata": {},
          "execution_count": 20
        }
      ]
    },
    {
      "cell_type": "code",
      "metadata": {
        "id": "5eyn1_VeQAYi"
      },
      "source": [
        "out_path = \"drive/MyDrive/Github/spark/data/sparkify_log_small.csv\""
      ],
      "execution_count": 21,
      "outputs": []
    },
    {
      "cell_type": "code",
      "metadata": {
        "id": "youvAaJXQDkc"
      },
      "source": [
        "user_log.write.save(out_path, format=\"csv\", header=True)"
      ],
      "execution_count": 27,
      "outputs": []
    },
    {
      "cell_type": "code",
      "metadata": {
        "id": "psgAapaFQPkA"
      },
      "source": [
        "user_log_2 = spark.read.csv(out_path, header=True)"
      ],
      "execution_count": 28,
      "outputs": []
    },
    {
      "cell_type": "code",
      "metadata": {
        "colab": {
          "base_uri": "https://localhost:8080/"
        },
        "id": "iyPMTfUtQSWm",
        "outputId": "975a2ac5-0487-4af7-afcc-d69ab2c52f47"
      },
      "source": [
        "user_log_2.printSchema()"
      ],
      "execution_count": 29,
      "outputs": [
        {
          "output_type": "stream",
          "name": "stdout",
          "text": [
            "root\n",
            " |-- _corrupt_record: string (nullable = true)\n",
            " |-- artist: string (nullable = true)\n",
            " |-- auth: string (nullable = true)\n",
            " |-- firstName: string (nullable = true)\n",
            " |-- gender: string (nullable = true)\n",
            " |-- itemInSession: string (nullable = true)\n",
            " |-- lastName: string (nullable = true)\n",
            " |-- length: string (nullable = true)\n",
            " |-- level: string (nullable = true)\n",
            " |-- location: string (nullable = true)\n",
            " |-- method: string (nullable = true)\n",
            " |-- page: string (nullable = true)\n",
            " |-- registration: string (nullable = true)\n",
            " |-- sessionId: string (nullable = true)\n",
            " |-- song: string (nullable = true)\n",
            " |-- status: string (nullable = true)\n",
            " |-- ts: string (nullable = true)\n",
            " |-- userAgent: string (nullable = true)\n",
            " |-- userId: string (nullable = true)\n",
            "\n"
          ]
        }
      ]
    },
    {
      "cell_type": "code",
      "metadata": {
        "colab": {
          "base_uri": "https://localhost:8080/"
        },
        "id": "X_ASQRcBQV20",
        "outputId": "cc43a0f0-ec12-49dc-d7c0-198267efb723"
      },
      "source": [
        "user_log_2.take(2)"
      ],
      "execution_count": 30,
      "outputs": [
        {
          "output_type": "execute_result",
          "data": {
            "text/plain": [
              "[Row(_corrupt_record='\"\",Showaddywaddy,Logged In,Kenneth,M,112,Matthews,232.93342,paid,\"Charlotte-Concord-Gastonia, NC-SC\",PUT,NextSong,1509380319284,5132,Christmas Tears Will Fall,200,1513720872284,\"\\\\\"Mozilla/5.0 (Windows NT 6.1) AppleWebKit/537.36 (KHTML, like Gecko) Chrome/36.0.1985.125 Safari/537.36\\\\\"\",1046', artist=None, auth='Showaddywaddy', firstName='Logged In', gender='Kenneth', itemInSession='M', lastName='112', length='Matthews', level='232.93342', location='paid', method='Charlotte-Concord-Gastonia, NC-SC', page='PUT', registration='NextSong', sessionId='1509380319284', song='5132', status='Christmas Tears Will Fall', ts='200', userAgent='1513720872284', userId='\"Mozilla/5.0 (Windows NT 6.1) AppleWebKit/537.36 (KHTML, like Gecko) Chrome/36.0.1985.125 Safari/537.36\"'),\n",
              " Row(_corrupt_record='\"\",Lily Allen,Logged In,Elizabeth,F,7,Chase,195.23873,free,\"Shreveport-Bossier City, LA\",PUT,NextSong,1512718541284,5027,Cheryl Tweedy,200,1513720878284,\"\\\\\"Mozilla/5.0 (Windows NT 6.1) AppleWebKit/537.36 (KHTML, like Gecko) Chrome/36.0.1985.143 Safari/537.36\\\\\"\",1000', artist=None, auth='Lily Allen', firstName='Logged In', gender='Elizabeth', itemInSession='F', lastName='7', length='Chase', level='195.23873', location='free', method='Shreveport-Bossier City, LA', page='PUT', registration='NextSong', sessionId='1512718541284', song='5027', status='Cheryl Tweedy', ts='200', userAgent='1513720878284', userId='\"Mozilla/5.0 (Windows NT 6.1) AppleWebKit/537.36 (KHTML, like Gecko) Chrome/36.0.1985.143 Safari/537.36\"')]"
            ]
          },
          "metadata": {},
          "execution_count": 30
        }
      ]
    },
    {
      "cell_type": "code",
      "metadata": {
        "colab": {
          "base_uri": "https://localhost:8080/"
        },
        "id": "k0e_mRygQYXR",
        "outputId": "83ede341-68c4-487e-b53d-47506104e2c9"
      },
      "source": [
        "user_log_2.select(\"userID\").show()"
      ],
      "execution_count": 31,
      "outputs": [
        {
          "output_type": "stream",
          "name": "stdout",
          "text": [
            "+--------------------+\n",
            "|              userID|\n",
            "+--------------------+\n",
            "|\"Mozilla/5.0 (Win...|\n",
            "|\"Mozilla/5.0 (Win...|\n",
            "|\"Mozilla/5.0 (Mac...|\n",
            "|\"Mozilla/5.0 (Win...|\n",
            "|\"Mozilla/5.0 (Mac...|\n",
            "|\"Mozilla/5.0 (Mac...|\n",
            "|\"Mozilla/5.0 (Mac...|\n",
            "|Mozilla/5.0 (Wind...|\n",
            "|Mozilla/5.0 (comp...|\n",
            "|\"Mozilla/5.0 (Win...|\n",
            "|\"Mozilla/5.0 (Win...|\n",
            "|Mozilla/5.0 (comp...|\n",
            "|\"Mozilla/5.0 (Win...|\n",
            "|\"Mozilla/5.0 (Mac...|\n",
            "|Mozilla/5.0 (Wind...|\n",
            "|\"Mozilla/5.0 (Mac...|\n",
            "|\"Mozilla/5.0 (Win...|\n",
            "|                null|\n",
            "|\"Mozilla/5.0 (Win...|\n",
            "|\"Mozilla/5.0 (Mac...|\n",
            "+--------------------+\n",
            "only showing top 20 rows\n",
            "\n"
          ]
        }
      ]
    },
    {
      "cell_type": "code",
      "metadata": {
        "colab": {
          "base_uri": "https://localhost:8080/"
        },
        "id": "Kt7I6PaPQbn6",
        "outputId": "00bbbe08-5a70-4894-a3cc-a2a02a564323"
      },
      "source": [
        "user_log_2.take(1)"
      ],
      "execution_count": 32,
      "outputs": [
        {
          "output_type": "execute_result",
          "data": {
            "text/plain": [
              "[Row(_corrupt_record='\"\",Showaddywaddy,Logged In,Kenneth,M,112,Matthews,232.93342,paid,\"Charlotte-Concord-Gastonia, NC-SC\",PUT,NextSong,1509380319284,5132,Christmas Tears Will Fall,200,1513720872284,\"\\\\\"Mozilla/5.0 (Windows NT 6.1) AppleWebKit/537.36 (KHTML, like Gecko) Chrome/36.0.1985.125 Safari/537.36\\\\\"\",1046', artist=None, auth='Showaddywaddy', firstName='Logged In', gender='Kenneth', itemInSession='M', lastName='112', length='Matthews', level='232.93342', location='paid', method='Charlotte-Concord-Gastonia, NC-SC', page='PUT', registration='NextSong', sessionId='1509380319284', song='5132', status='Christmas Tears Will Fall', ts='200', userAgent='1513720872284', userId='\"Mozilla/5.0 (Windows NT 6.1) AppleWebKit/537.36 (KHTML, like Gecko) Chrome/36.0.1985.125 Safari/537.36\"')]"
            ]
          },
          "metadata": {},
          "execution_count": 32
        }
      ]
    },
    {
      "cell_type": "markdown",
      "metadata": {
        "id": "pwLZG_EXWzlu"
      },
      "source": [
        "# **Data Wrangling with DataFrames**\n",
        "\n",
        "## **General functions**\n",
        "\n",
        "* select()\n",
        "* filter(): filters rows using the given condition\n",
        "* where(): is just an alias for filter()\n",
        "* groupBy(), sort()\n",
        "* dropDuplicates()\n",
        "* withColumn(): returns a new DataFrame by adding a column or replacing the existing column that has the same name. The first parameter is the name of the new column, the second is an expression of how to compute it.\n",
        "\n",
        "## **Aggregate functions**\n",
        "* count(), countDistinct(), avg(), max(), min()\n",
        "* groupBy() and agg(). For example agg({\"salary\": \"avg\", \"age\": \"max\"})\n",
        "\n",
        "## **User defined functions (UDF)**\n",
        "* In Spark SQL we can define our own functions with the udf method from the pyspark.sql.functions module\n",
        "\n",
        "## **Window functions**\n",
        "\n",
        "For further information see the [Spark SQL, DataFrames and Datasets Guide](https://spark.apache.org/docs/latest/sql-programming-guide.html) and the [Spark Python API Docs](https://spark.apache.org/docs/latest/api/python/index.html)."
      ]
    },
    {
      "cell_type": "code",
      "metadata": {
        "id": "nh8cU0WdYMO0"
      },
      "source": [
        "from pyspark.sql.functions import udf\n",
        "from pyspark.sql.types import StringType\n",
        "from pyspark.sql.types import IntegerType\n",
        "from pyspark.sql.functions import desc\n",
        "from pyspark.sql.functions import asc\n",
        "from pyspark.sql.functions import sum as Fsum\n",
        "\n",
        "import datetime\n",
        "\n",
        "import numpy as np\n",
        "import pandas as pd\n",
        "import matplotlib.pyplot as plt"
      ],
      "execution_count": 33,
      "outputs": []
    },
    {
      "cell_type": "code",
      "metadata": {
        "colab": {
          "base_uri": "https://localhost:8080/"
        },
        "id": "196M785-YhP8",
        "outputId": "3dc975f8-5cec-4dd8-aaf9-6fa50ff12cb7"
      },
      "source": [
        "user_log.describe().show()"
      ],
      "execution_count": 34,
      "outputs": [
        {
          "output_type": "stream",
          "name": "stdout",
          "text": [
            "+-------+--------------------+-------+----------+---------+------+------------------+--------+------------------+-----+------------+------+-------+--------------------+------------------+--------+------------------+--------------------+--------------------+------------------+\n",
            "|summary|     _corrupt_record| artist|      auth|firstName|gender|     itemInSession|lastName|            length|level|    location|method|   page|        registration|         sessionId|    song|            status|                  ts|           userAgent|            userId|\n",
            "+-------+--------------------+-------+----------+---------+------+------------------+--------+------------------+-----+------------+------+-------+--------------------+------------------+--------+------------------+--------------------+--------------------+------------------+\n",
            "|  count|                 404|   7943|      9596|     9260|  9260|              9596|    9260|              7943| 9596|        9260|  9596|   9596|                9260|              9596|    7943|              9596|                9596|                9260|              9596|\n",
            "|   mean|                null|  461.0|      null|     null|  null| 19.48051271363068|    null|249.08488527382522| null|        null|  null|   null|1.504676053166937...| 4438.376198416006|Infinity|203.02042517715714|1.513786038249610...|                null|1442.0211663066955|\n",
            "| stddev|                null|  300.0|      null|     null|  null|25.246741426784475|    null| 94.77114222897072| null|        null|  null|   null| 8.491204798815412E9|2043.6942640500952|     NaN| 18.40769260730667|3.2920120201460972E7|                null| 830.6960242090512|\n",
            "|    min|{\"ts\":15137210952...|    !!!|     Guest|   Aakash|     F|                 0| Acevedo|          11.10159| free|Aberdeen, WA|   GET|  About|       1463503881284|                 9|      #1|               200|       1513720872284|\"Mozilla/5.0 (Mac...|                  |\n",
            "|    max|{\"ts\":15138481932...|tobyMac|Logged Out|     Zoie|     M|               163|  Zuniga|         1806.8371| paid|    Yuma, AZ|   PUT|Upgrade|       1513760702284|              7144|wingless|               404|       1513848349284|Mozilla/5.0 (comp...|               999|\n",
            "+-------+--------------------+-------+----------+---------+------+------------------+--------+------------------+-----+------------+------+-------+--------------------+------------------+--------+------------------+--------------------+--------------------+------------------+\n",
            "\n"
          ]
        }
      ]
    },
    {
      "cell_type": "code",
      "metadata": {
        "colab": {
          "base_uri": "https://localhost:8080/"
        },
        "id": "9SA_H_j3Ykwa",
        "outputId": "7453f581-fecb-4a4e-99d2-aed423f0441c"
      },
      "source": [
        "user_log.describe(\"artist\").show()"
      ],
      "execution_count": 35,
      "outputs": [
        {
          "output_type": "stream",
          "name": "stdout",
          "text": [
            "+-------+-------+\n",
            "|summary| artist|\n",
            "+-------+-------+\n",
            "|  count|   7943|\n",
            "|   mean|  461.0|\n",
            "| stddev|  300.0|\n",
            "|    min|    !!!|\n",
            "|    max|tobyMac|\n",
            "+-------+-------+\n",
            "\n"
          ]
        }
      ]
    },
    {
      "cell_type": "code",
      "metadata": {
        "colab": {
          "base_uri": "https://localhost:8080/"
        },
        "id": "KO_3pOsNdatV",
        "outputId": "341f3913-8398-4018-e2df-b38aa81812b1"
      },
      "source": [
        "user_log.describe(\"sessionId\").show()"
      ],
      "execution_count": 36,
      "outputs": [
        {
          "output_type": "stream",
          "name": "stdout",
          "text": [
            "+-------+------------------+\n",
            "|summary|         sessionId|\n",
            "+-------+------------------+\n",
            "|  count|              9596|\n",
            "|   mean| 4438.376198416006|\n",
            "| stddev|2043.6942640500952|\n",
            "|    min|                 9|\n",
            "|    max|              7144|\n",
            "+-------+------------------+\n",
            "\n"
          ]
        }
      ]
    },
    {
      "cell_type": "code",
      "metadata": {
        "colab": {
          "base_uri": "https://localhost:8080/"
        },
        "id": "Nh3nxPx3ddi9",
        "outputId": "0a2379bb-013a-48e4-d2ae-1e52f9a648cb"
      },
      "source": [
        "user_log.count()"
      ],
      "execution_count": 37,
      "outputs": [
        {
          "output_type": "execute_result",
          "data": {
            "text/plain": [
              "10000"
            ]
          },
          "metadata": {},
          "execution_count": 37
        }
      ]
    },
    {
      "cell_type": "code",
      "metadata": {
        "colab": {
          "base_uri": "https://localhost:8080/"
        },
        "id": "MU6P5j-fdgu3",
        "outputId": "49c52baf-bbd7-431d-d1e4-fb6536bec4f3"
      },
      "source": [
        "user_log.select(\"page\").dropDuplicates().sort(\"page\").show()"
      ],
      "execution_count": 38,
      "outputs": [
        {
          "output_type": "stream",
          "name": "stdout",
          "text": [
            "+----------------+\n",
            "|            page|\n",
            "+----------------+\n",
            "|            null|\n",
            "|           About|\n",
            "|       Downgrade|\n",
            "|           Error|\n",
            "|            Help|\n",
            "|            Home|\n",
            "|           Login|\n",
            "|          Logout|\n",
            "|        NextSong|\n",
            "|   Save Settings|\n",
            "|        Settings|\n",
            "|Submit Downgrade|\n",
            "|  Submit Upgrade|\n",
            "|         Upgrade|\n",
            "+----------------+\n",
            "\n"
          ]
        }
      ]
    },
    {
      "cell_type": "code",
      "metadata": {
        "colab": {
          "base_uri": "https://localhost:8080/"
        },
        "id": "2pVPHBx8dpRZ",
        "outputId": "17403ea3-ad45-43bc-f90a-1b72e8fafed2"
      },
      "source": [
        "user_log.select([\"userId\", \"firstname\", \"page\", \"song\"]).where(user_log.userId == \"1046\").collect()"
      ],
      "execution_count": 39,
      "outputs": [
        {
          "output_type": "execute_result",
          "data": {
            "text/plain": [
              "[Row(userId='1046', firstname='Kenneth', page='NextSong', song='Christmas Tears Will Fall'),\n",
              " Row(userId='1046', firstname='Kenneth', page='NextSong', song='Be Wary Of A Woman'),\n",
              " Row(userId='1046', firstname='Kenneth', page='NextSong', song='Public Enemy No.1'),\n",
              " Row(userId='1046', firstname='Kenneth', page='NextSong', song='Reign Of The Tyrants'),\n",
              " Row(userId='1046', firstname='Kenneth', page='NextSong', song='Father And Son'),\n",
              " Row(userId='1046', firstname='Kenneth', page='NextSong', song='No. 5'),\n",
              " Row(userId='1046', firstname='Kenneth', page='NextSong', song='Seventeen'),\n",
              " Row(userId='1046', firstname='Kenneth', page='Home', song=None),\n",
              " Row(userId='1046', firstname='Kenneth', page='NextSong', song='War on war'),\n",
              " Row(userId='1046', firstname='Kenneth', page='NextSong', song='Killermont Street'),\n",
              " Row(userId='1046', firstname='Kenneth', page='NextSong', song='Black & Blue'),\n",
              " Row(userId='1046', firstname='Kenneth', page='Logout', song=None),\n",
              " Row(userId='1046', firstname='Kenneth', page='Home', song=None),\n",
              " Row(userId='1046', firstname='Kenneth', page='NextSong', song='Heads Will Roll'),\n",
              " Row(userId='1046', firstname='Kenneth', page='NextSong', song='Bleed It Out [Live At Milton Keynes]'),\n",
              " Row(userId='1046', firstname='Kenneth', page='NextSong', song='Clocks'),\n",
              " Row(userId='1046', firstname='Kenneth', page='NextSong', song='Love Rain'),\n",
              " Row(userId='1046', firstname='Kenneth', page='NextSong', song=\"Ry Ry's Song (Album Version)\"),\n",
              " Row(userId='1046', firstname='Kenneth', page='NextSong', song='The Invisible Man'),\n",
              " Row(userId='1046', firstname='Kenneth', page='NextSong', song='Catch You Baby (Steve Pitron & Max Sanna Radio Edit)'),\n",
              " Row(userId='1046', firstname='Kenneth', page='NextSong', song='Ask The Mountains'),\n",
              " Row(userId='1046', firstname='Kenneth', page='NextSong', song='Given Up (Album Version)'),\n",
              " Row(userId='1046', firstname='Kenneth', page='NextSong', song='El Cuatrero'),\n",
              " Row(userId='1046', firstname='Kenneth', page='NextSong', song='Hero/Heroine'),\n",
              " Row(userId='1046', firstname='Kenneth', page='NextSong', song='Spring'),\n",
              " Row(userId='1046', firstname='Kenneth', page='NextSong', song='Rising Moon'),\n",
              " Row(userId='1046', firstname='Kenneth', page='NextSong', song='Tough Little Boys'),\n",
              " Row(userId='1046', firstname='Kenneth', page='NextSong', song=\"Qu'Est-Ce Que T'Es Belle\"),\n",
              " Row(userId='1046', firstname='Kenneth', page='NextSong', song='Secrets'),\n",
              " Row(userId='1046', firstname='Kenneth', page='NextSong', song='Under The Gun')]"
            ]
          },
          "metadata": {},
          "execution_count": 39
        }
      ]
    },
    {
      "cell_type": "markdown",
      "metadata": {
        "id": "WUIujVpsdvyK"
      },
      "source": [
        "## **Calculating Statistics by Hour**"
      ]
    },
    {
      "cell_type": "code",
      "metadata": {
        "id": "-IWRG9W-du3B"
      },
      "source": [
        "get_hour = udf(lambda x: datetime.datetime.fromtimestamp(x / 1000.0).hour)"
      ],
      "execution_count": 40,
      "outputs": []
    },
    {
      "cell_type": "code",
      "metadata": {
        "id": "SyE7dOOlghwe"
      },
      "source": [
        "user_log = user_log.dropna(how = \"any\", subset = [\"ts\"])"
      ],
      "execution_count": 41,
      "outputs": []
    },
    {
      "cell_type": "code",
      "metadata": {
        "id": "aX_HHdOMd8kp"
      },
      "source": [
        "user_log = user_log.withColumn(\"hour\", get_hour(user_log.ts))"
      ],
      "execution_count": 42,
      "outputs": []
    },
    {
      "cell_type": "code",
      "metadata": {
        "colab": {
          "base_uri": "https://localhost:8080/"
        },
        "id": "qhcCZ_SQd_Kz",
        "outputId": "1c05af14-69d4-444e-b01c-e1ea538877c1"
      },
      "source": [
        "user_log.head()"
      ],
      "execution_count": 43,
      "outputs": [
        {
          "output_type": "execute_result",
          "data": {
            "text/plain": [
              "Row(_corrupt_record=None, artist='Showaddywaddy', auth='Logged In', firstName='Kenneth', gender='M', itemInSession=112, lastName='Matthews', length=232.93342, level='paid', location='Charlotte-Concord-Gastonia, NC-SC', method='PUT', page='NextSong', registration=1509380319284, sessionId=5132, song='Christmas Tears Will Fall', status=200, ts=1513720872284, userAgent='\"Mozilla/5.0 (Windows NT 6.1) AppleWebKit/537.36 (KHTML, like Gecko) Chrome/36.0.1985.125 Safari/537.36\"', userId='1046', hour='22')"
            ]
          },
          "metadata": {},
          "execution_count": 43
        }
      ]
    },
    {
      "cell_type": "code",
      "metadata": {
        "id": "z_PH39TuhIr1"
      },
      "source": [
        "songs_in_hour = user_log.filter(user_log.page == \"NextSong\").groupby(user_log.hour).count().orderBy(user_log.hour.cast(\"float\"))"
      ],
      "execution_count": 44,
      "outputs": []
    },
    {
      "cell_type": "code",
      "metadata": {
        "colab": {
          "base_uri": "https://localhost:8080/"
        },
        "id": "KYqPSrclhLSF",
        "outputId": "2a468bd6-dba6-41c4-ec35-e8a27339e334"
      },
      "source": [
        "songs_in_hour.show()"
      ],
      "execution_count": 45,
      "outputs": [
        {
          "output_type": "stream",
          "name": "stdout",
          "text": [
            "+----+-----+\n",
            "|hour|count|\n",
            "+----+-----+\n",
            "|   0|  436|\n",
            "|   1|  438|\n",
            "|   2|  361|\n",
            "|   3|  290|\n",
            "|   4|  338|\n",
            "|   5|  266|\n",
            "|   6|  327|\n",
            "|   7|  343|\n",
            "|   8|  361|\n",
            "|   9|  229|\n",
            "|  10|  205|\n",
            "|  11|  218|\n",
            "|  12|  238|\n",
            "|  13|  322|\n",
            "|  14|  442|\n",
            "|  15|  462|\n",
            "|  16|  451|\n",
            "|  17|  408|\n",
            "|  18|  345|\n",
            "|  19|  280|\n",
            "+----+-----+\n",
            "only showing top 20 rows\n",
            "\n"
          ]
        }
      ]
    },
    {
      "cell_type": "code",
      "metadata": {
        "id": "yDhHHRqAhO81"
      },
      "source": [
        "songs_in_hour_pd = songs_in_hour.toPandas()\n",
        "songs_in_hour_pd.hour = pd.to_numeric(songs_in_hour_pd.hour)"
      ],
      "execution_count": 46,
      "outputs": []
    },
    {
      "cell_type": "code",
      "metadata": {
        "colab": {
          "base_uri": "https://localhost:8080/",
          "height": 297
        },
        "id": "pEOIW0W9hQug",
        "outputId": "e4b59d48-47f7-4c15-df60-e5dd2605bbcc"
      },
      "source": [
        "plt.scatter(songs_in_hour_pd[\"hour\"], songs_in_hour_pd[\"count\"])\n",
        "plt.xlim(-1, 24);\n",
        "plt.ylim(0, 1.2 * max(songs_in_hour_pd[\"count\"]))\n",
        "plt.xlabel(\"Hour\")\n",
        "plt.ylabel(\"Songs played\")"
      ],
      "execution_count": 47,
      "outputs": [
        {
          "output_type": "execute_result",
          "data": {
            "text/plain": [
              "Text(0, 0.5, 'Songs played')"
            ]
          },
          "metadata": {},
          "execution_count": 47
        },
        {
          "output_type": "display_data",
          "data": {
            "image/png": "[encoded data removed]",
            "text/plain": [
              "<Figure size 432x288 with 1 Axes>"
            ]
          },
          "metadata": {
            "needs_background": "light"
          }
        }
      ]
    },
    {
      "cell_type": "markdown",
      "metadata": {
        "id": "sI-xeT6ehVeM"
      },
      "source": [
        "## **Drop Rows with Missing Values**"
      ]
    },
    {
      "cell_type": "code",
      "metadata": {
        "id": "u7rZUblphTwl"
      },
      "source": [
        "user_log_valid = user_log.dropna(how = \"any\", subset = [\"userId\", \"sessionId\"])"
      ],
      "execution_count": 49,
      "outputs": []
    },
    {
      "cell_type": "code",
      "metadata": {
        "colab": {
          "base_uri": "https://localhost:8080/"
        },
        "id": "sxnf1ZYLhbBx",
        "outputId": "d4854426-3799-4505-9a1e-6f6d2f6f0962"
      },
      "source": [
        "user_log_valid.count()"
      ],
      "execution_count": 50,
      "outputs": [
        {
          "output_type": "execute_result",
          "data": {
            "text/plain": [
              "9596"
            ]
          },
          "metadata": {},
          "execution_count": 50
        }
      ]
    },
    {
      "cell_type": "code",
      "metadata": {
        "colab": {
          "base_uri": "https://localhost:8080/"
        },
        "id": "koMPGvw2hc40",
        "outputId": "d6c5f928-0923-4f9c-f4a3-4bd0c0f65747"
      },
      "source": [
        "user_log.select(\"userId\").dropDuplicates().sort(\"userId\").show()"
      ],
      "execution_count": 51,
      "outputs": [
        {
          "output_type": "stream",
          "name": "stdout",
          "text": [
            "+------+\n",
            "|userId|\n",
            "+------+\n",
            "|      |\n",
            "|    10|\n",
            "|   100|\n",
            "|  1000|\n",
            "|  1003|\n",
            "|  1005|\n",
            "|  1006|\n",
            "|  1017|\n",
            "|  1019|\n",
            "|  1020|\n",
            "|  1022|\n",
            "|  1025|\n",
            "|  1030|\n",
            "|  1035|\n",
            "|  1037|\n",
            "|   104|\n",
            "|  1040|\n",
            "|  1042|\n",
            "|  1043|\n",
            "|  1046|\n",
            "+------+\n",
            "only showing top 20 rows\n",
            "\n"
          ]
        }
      ]
    },
    {
      "cell_type": "code",
      "metadata": {
        "id": "RgN-Fb1Qhf30"
      },
      "source": [
        "user_log_valid = user_log_valid.filter(user_log_valid[\"userId\"] != \"\")"
      ],
      "execution_count": 52,
      "outputs": []
    },
    {
      "cell_type": "code",
      "metadata": {
        "colab": {
          "base_uri": "https://localhost:8080/"
        },
        "id": "Wkde4iXKhh6E",
        "outputId": "1ec51159-c11d-4d4e-d3fd-77b03ac897db"
      },
      "source": [
        "user_log_valid.count()"
      ],
      "execution_count": 53,
      "outputs": [
        {
          "output_type": "execute_result",
          "data": {
            "text/plain": [
              "9260"
            ]
          },
          "metadata": {},
          "execution_count": 53
        }
      ]
    },
    {
      "cell_type": "markdown",
      "metadata": {
        "id": "U_FoWDfGhmrB"
      },
      "source": [
        "## **Users Downgrade Their Accounts**\n",
        "\n",
        "Find when users downgrade their accounts and then flag those log entries. Then use a window function and cumulative sum to distinguish each user's data as either pre or post downgrade events."
      ]
    },
    {
      "cell_type": "code",
      "metadata": {
        "colab": {
          "base_uri": "https://localhost:8080/"
        },
        "id": "kcgR1-G8hqTP",
        "outputId": "d7b15c2c-020b-412d-f165-dbedf761ed4d"
      },
      "source": [
        "user_log_valid.filter(\"page = 'Submit Downgrade'\").show()"
      ],
      "execution_count": 54,
      "outputs": [
        {
          "output_type": "stream",
          "name": "stdout",
          "text": [
            "+---------------+------+---------+---------+------+-------------+--------+------+-----+--------------------+------+----------------+-------------+---------+----+------+-------------+--------------------+------+----+\n",
            "|_corrupt_record|artist|     auth|firstName|gender|itemInSession|lastName|length|level|            location|method|            page| registration|sessionId|song|status|           ts|           userAgent|userId|hour|\n",
            "+---------------+------+---------+---------+------+-------------+--------+------+-----+--------------------+------+----------------+-------------+---------+----+------+-------------+--------------------+------+----+\n",
            "|           null|  null|Logged In|    Kelly|     F|           24|  Newton|  null| paid|Houston-The Woodl...|   PUT|Submit Downgrade|1513283366284|     5931|null|   307|1513768454284|Mozilla/5.0 (Wind...|  1138|  11|\n",
            "+---------------+------+---------+---------+------+-------------+--------+------+-----+--------------------+------+----------------+-------------+---------+----+------+-------------+--------------------+------+----+\n",
            "\n"
          ]
        }
      ]
    },
    {
      "cell_type": "code",
      "metadata": {
        "colab": {
          "base_uri": "https://localhost:8080/"
        },
        "id": "OgYCpjuUhsSc",
        "outputId": "60e1863b-51af-4c40-8073-794700f0d7d0"
      },
      "source": [
        "user_log.select([\"userId\", \"firstname\", \"page\", \"level\", \"song\"]).where(user_log.userId == \"1138\").collect()"
      ],
      "execution_count": 55,
      "outputs": [
        {
          "output_type": "execute_result",
          "data": {
            "text/plain": [
              "[Row(userId='1138', firstname='Kelly', page='Home', level='paid', song=None),\n",
              " Row(userId='1138', firstname='Kelly', page='NextSong', level='paid', song='Everybody Everybody'),\n",
              " Row(userId='1138', firstname='Kelly', page='NextSong', level='paid', song='Gears'),\n",
              " Row(userId='1138', firstname='Kelly', page='NextSong', level='paid', song='Use Somebody'),\n",
              " Row(userId='1138', firstname='Kelly', page='NextSong', level='paid', song='Love Of My Life (1993 Digital Remaster)'),\n",
              " Row(userId='1138', firstname='Kelly', page='NextSong', level='paid', song='Down In The Valley Woe'),\n",
              " Row(userId='1138', firstname='Kelly', page='NextSong', level='paid', song='Treat Her Like A Lady'),\n",
              " Row(userId='1138', firstname='Kelly', page='NextSong', level='paid', song=\"Everybody Thinks You're An Angel\"),\n",
              " Row(userId='1138', firstname='Kelly', page='NextSong', level='paid', song='Fourteen Wives'),\n",
              " Row(userId='1138', firstname='Kelly', page='NextSong', level='paid', song='Love On The Rocks'),\n",
              " Row(userId='1138', firstname='Kelly', page='NextSong', level='paid', song='Breakeven'),\n",
              " Row(userId='1138', firstname='Kelly', page='NextSong', level='paid', song='Leaf House'),\n",
              " Row(userId='1138', firstname='Kelly', page='NextSong', level='paid', song='NAISEN KANSSA'),\n",
              " Row(userId='1138', firstname='Kelly', page='NextSong', level='paid', song=\"You're In My Heart\"),\n",
              " Row(userId='1138', firstname='Kelly', page='NextSong', level='paid', song='Roll On Down The Highway'),\n",
              " Row(userId='1138', firstname='Kelly', page='NextSong', level='paid', song='Plasticities (Remix)'),\n",
              " Row(userId='1138', firstname='Kelly', page='NextSong', level='paid', song='Secrets'),\n",
              " Row(userId='1138', firstname='Kelly', page='NextSong', level='paid', song='Hello'),\n",
              " Row(userId='1138', firstname='Kelly', page='NextSong', level='paid', song='I Never Told You'),\n",
              " Row(userId='1138', firstname='Kelly', page='NextSong', level='paid', song='Love Break Me'),\n",
              " Row(userId='1138', firstname='Kelly', page='NextSong', level='paid', song='One Touch One Bounce'),\n",
              " Row(userId='1138', firstname='Kelly', page='NextSong', level='paid', song='Overdue (Blackbeard Remix)'),\n",
              " Row(userId='1138', firstname='Kelly', page='NextSong', level='paid', song='Slave To Love (1999 Digital Remaster)'),\n",
              " Row(userId='1138', firstname='Kelly', page='NextSong', level='paid', song='Stronger'),\n",
              " Row(userId='1138', firstname='Kelly', page='NextSong', level='paid', song='All Of Us (Album Version)'),\n",
              " Row(userId='1138', firstname='Kelly', page='NextSong', level='paid', song='Sehr kosmisch'),\n",
              " Row(userId='1138', firstname='Kelly', page='NextSong', level='paid', song='March Of The Celts'),\n",
              " Row(userId='1138', firstname='Kelly', page='NextSong', level='paid', song='Electricity'),\n",
              " Row(userId='1138', firstname='Kelly', page='NextSong', level='paid', song='Aces High'),\n",
              " Row(userId='1138', firstname='Kelly', page='NextSong', level='paid', song='Bananeira'),\n",
              " Row(userId='1138', firstname='Kelly', page='NextSong', level='paid', song='The General'),\n",
              " Row(userId='1138', firstname='Kelly', page='NextSong', level='paid', song=\"Don't Stop The Music\"),\n",
              " Row(userId='1138', firstname='Kelly', page='NextSong', level='paid', song=\"You're The One\"),\n",
              " Row(userId='1138', firstname='Kelly', page='NextSong', level='paid', song='Entering White Cecilia'),\n",
              " Row(userId='1138', firstname='Kelly', page='NextSong', level='paid', song='Piccolo Cesare'),\n",
              " Row(userId='1138', firstname='Kelly', page='Help', level='paid', song=None),\n",
              " Row(userId='1138', firstname='Kelly', page='NextSong', level='paid', song='Last Christmas (Album Version)'),\n",
              " Row(userId='1138', firstname='Kelly', page='NextSong', level='paid', song='You Shook Me'),\n",
              " Row(userId='1138', firstname='Kelly', page='NextSong', level='paid', song='Going Steady'),\n",
              " Row(userId='1138', firstname='Kelly', page='NextSong', level='paid', song='My Name Is'),\n",
              " Row(userId='1138', firstname='Kelly', page='NextSong', level='paid', song='Secrets'),\n",
              " Row(userId='1138', firstname='Kelly', page='NextSong', level='paid', song='Good Times Gone (Album Version)'),\n",
              " Row(userId='1138', firstname='Kelly', page='NextSong', level='paid', song='Angelito'),\n",
              " Row(userId='1138', firstname='Kelly', page='NextSong', level='paid', song='Batdance ( LP Version )'),\n",
              " Row(userId='1138', firstname='Kelly', page='Home', level='paid', song=None),\n",
              " Row(userId='1138', firstname='Kelly', page='NextSong', level='paid', song='Whirring'),\n",
              " Row(userId='1138', firstname='Kelly', page='NextSong', level='paid', song='Potholderz (feat. Count Bass D)'),\n",
              " Row(userId='1138', firstname='Kelly', page='NextSong', level='paid', song='Seaside'),\n",
              " Row(userId='1138', firstname='Kelly', page='NextSong', level='paid', song='Louder Than A Bomb'),\n",
              " Row(userId='1138', firstname='Kelly', page='NextSong', level='paid', song='Just Like You'),\n",
              " Row(userId='1138', firstname='Kelly', page='NextSong', level='paid', song=\"You're The One\"),\n",
              " Row(userId='1138', firstname='Kelly', page='NextSong', level='paid', song='Turn It Again (Album Version)'),\n",
              " Row(userId='1138', firstname='Kelly', page='NextSong', level='paid', song='Everywhere I Go'),\n",
              " Row(userId='1138', firstname='Kelly', page='NextSong', level='paid', song=\"Easy Skankin'\"),\n",
              " Row(userId='1138', firstname='Kelly', page='NextSong', level='paid', song='Roses'),\n",
              " Row(userId='1138', firstname='Kelly', page='NextSong', level='paid', song='Killing Me Softly With His Song'),\n",
              " Row(userId='1138', firstname='Kelly', page='NextSong', level='paid', song='The Razor (Album Version)'),\n",
              " Row(userId='1138', firstname='Kelly', page='NextSong', level='paid', song='Idols and Anchors'),\n",
              " Row(userId='1138', firstname='Kelly', page='Downgrade', level='paid', song=None),\n",
              " Row(userId='1138', firstname='Kelly', page='Submit Downgrade', level='paid', song=None),\n",
              " Row(userId='1138', firstname='Kelly', page='Home', level='free', song=None),\n",
              " Row(userId='1138', firstname='Kelly', page='NextSong', level='free', song='Bones'),\n",
              " Row(userId='1138', firstname='Kelly', page='Home', level='free', song=None)]"
            ]
          },
          "metadata": {},
          "execution_count": 55
        }
      ]
    },
    {
      "cell_type": "code",
      "metadata": {
        "id": "FZrJDorvhvRf"
      },
      "source": [
        "flag_downgrade_event = udf(lambda x: 1 if x == \"Submit Downgrade\" else 0, IntegerType())"
      ],
      "execution_count": 56,
      "outputs": []
    },
    {
      "cell_type": "code",
      "metadata": {
        "id": "MUOZ-eKGhyLo"
      },
      "source": [
        "user_log_valid = user_log_valid.withColumn(\"downgraded\", flag_downgrade_event(\"page\"))"
      ],
      "execution_count": 58,
      "outputs": []
    },
    {
      "cell_type": "code",
      "metadata": {
        "colab": {
          "base_uri": "https://localhost:8080/"
        },
        "id": "aCdSaf0Qh0hG",
        "outputId": "12d7f99b-70e2-465f-d70b-d16a3f59b6c1"
      },
      "source": [
        "user_log_valid.head()"
      ],
      "execution_count": 59,
      "outputs": [
        {
          "output_type": "execute_result",
          "data": {
            "text/plain": [
              "Row(_corrupt_record=None, artist='Showaddywaddy', auth='Logged In', firstName='Kenneth', gender='M', itemInSession=112, lastName='Matthews', length=232.93342, level='paid', location='Charlotte-Concord-Gastonia, NC-SC', method='PUT', page='NextSong', registration=1509380319284, sessionId=5132, song='Christmas Tears Will Fall', status=200, ts=1513720872284, userAgent='\"Mozilla/5.0 (Windows NT 6.1) AppleWebKit/537.36 (KHTML, like Gecko) Chrome/36.0.1985.125 Safari/537.36\"', userId='1046', hour='22', downgraded=0)"
            ]
          },
          "metadata": {},
          "execution_count": 59
        }
      ]
    },
    {
      "cell_type": "code",
      "metadata": {
        "id": "KVxpBkRKh5Bh"
      },
      "source": [
        "from pyspark.sql import Window"
      ],
      "execution_count": 60,
      "outputs": []
    },
    {
      "cell_type": "markdown",
      "metadata": {
        "id": "wjdOLkyj1-m2"
      },
      "source": [
        "UNBOUNDED PRECEDING - the first row of the partition"
      ]
    },
    {
      "cell_type": "code",
      "metadata": {
        "id": "V-vHDk0hh67I"
      },
      "source": [
        "windowval = Window.partitionBy(\"userId\").orderBy(desc(\"ts\")).rangeBetween(Window.unboundedPreceding, 0)"
      ],
      "execution_count": 61,
      "outputs": []
    },
    {
      "cell_type": "code",
      "metadata": {
        "id": "fLdqPJbxh8oS"
      },
      "source": [
        "user_log_valid = user_log_valid.withColumn(\"phase\", Fsum(\"downgraded\").over(windowval))"
      ],
      "execution_count": 62,
      "outputs": []
    },
    {
      "cell_type": "code",
      "metadata": {
        "id": "nIMR-Wsuh-4X",
        "colab": {
          "base_uri": "https://localhost:8080/"
        },
        "outputId": "54382054-1811-41b7-ed0f-82b7e322add1"
      },
      "source": [
        "user_log_valid.select([\"userId\", \"firstname\", \"ts\", \"page\", \"level\", \"phase\"]).where(user_log.userId == \"1138\").sort(\"ts\").collect()"
      ],
      "execution_count": 63,
      "outputs": [
        {
          "output_type": "execute_result",
          "data": {
            "text/plain": [
              "[Row(userId='1138', firstname='Kelly', ts=1513729066284, page='Home', level='paid', phase=1),\n",
              " Row(userId='1138', firstname='Kelly', ts=1513729066284, page='NextSong', level='paid', phase=1),\n",
              " Row(userId='1138', firstname='Kelly', ts=1513729313284, page='NextSong', level='paid', phase=1),\n",
              " Row(userId='1138', firstname='Kelly', ts=1513729552284, page='NextSong', level='paid', phase=1),\n",
              " Row(userId='1138', firstname='Kelly', ts=1513729783284, page='NextSong', level='paid', phase=1),\n",
              " Row(userId='1138', firstname='Kelly', ts=1513730001284, page='NextSong', level='paid', phase=1),\n",
              " Row(userId='1138', firstname='Kelly', ts=1513730263284, page='NextSong', level='paid', phase=1),\n",
              " Row(userId='1138', firstname='Kelly', ts=1513730518284, page='NextSong', level='paid', phase=1),\n",
              " Row(userId='1138', firstname='Kelly', ts=1513730768284, page='NextSong', level='paid', phase=1),\n",
              " Row(userId='1138', firstname='Kelly', ts=1513731182284, page='NextSong', level='paid', phase=1),\n",
              " Row(userId='1138', firstname='Kelly', ts=1513731435284, page='NextSong', level='paid', phase=1),\n",
              " Row(userId='1138', firstname='Kelly', ts=1513731695284, page='NextSong', level='paid', phase=1),\n",
              " Row(userId='1138', firstname='Kelly', ts=1513731857284, page='NextSong', level='paid', phase=1),\n",
              " Row(userId='1138', firstname='Kelly', ts=1513732160284, page='NextSong', level='paid', phase=1),\n",
              " Row(userId='1138', firstname='Kelly', ts=1513732302284, page='NextSong', level='paid', phase=1),\n",
              " Row(userId='1138', firstname='Kelly', ts=1513732540284, page='NextSong', level='paid', phase=1),\n",
              " Row(userId='1138', firstname='Kelly', ts=1513732770284, page='NextSong', level='paid', phase=1),\n",
              " Row(userId='1138', firstname='Kelly', ts=1513732994284, page='NextSong', level='paid', phase=1),\n",
              " Row(userId='1138', firstname='Kelly', ts=1513733223284, page='NextSong', level='paid', phase=1),\n",
              " Row(userId='1138', firstname='Kelly', ts=1513733456284, page='NextSong', level='paid', phase=1),\n",
              " Row(userId='1138', firstname='Kelly', ts=1513733738284, page='NextSong', level='paid', phase=1),\n",
              " Row(userId='1138', firstname='Kelly', ts=1513734289284, page='NextSong', level='paid', phase=1),\n",
              " Row(userId='1138', firstname='Kelly', ts=1513734598284, page='NextSong', level='paid', phase=1),\n",
              " Row(userId='1138', firstname='Kelly', ts=1513734863284, page='NextSong', level='paid', phase=1),\n",
              " Row(userId='1138', firstname='Kelly', ts=1513735174284, page='NextSong', level='paid', phase=1),\n",
              " Row(userId='1138', firstname='Kelly', ts=1513735385284, page='NextSong', level='paid', phase=1),\n",
              " Row(userId='1138', firstname='Kelly', ts=1513736040284, page='NextSong', level='paid', phase=1),\n",
              " Row(userId='1138', firstname='Kelly', ts=1513736237284, page='NextSong', level='paid', phase=1),\n",
              " Row(userId='1138', firstname='Kelly', ts=1513736446284, page='NextSong', level='paid', phase=1),\n",
              " Row(userId='1138', firstname='Kelly', ts=1513736709284, page='NextSong', level='paid', phase=1),\n",
              " Row(userId='1138', firstname='Kelly', ts=1513736915284, page='NextSong', level='paid', phase=1),\n",
              " Row(userId='1138', firstname='Kelly', ts=1513737460284, page='NextSong', level='paid', phase=1),\n",
              " Row(userId='1138', firstname='Kelly', ts=1513737728284, page='NextSong', level='paid', phase=1),\n",
              " Row(userId='1138', firstname='Kelly', ts=1513737936284, page='NextSong', level='paid', phase=1),\n",
              " Row(userId='1138', firstname='Kelly', ts=1513738144284, page='NextSong', level='paid', phase=1),\n",
              " Row(userId='1138', firstname='Kelly', ts=1513738197284, page='Help', level='paid', phase=1),\n",
              " Row(userId='1138', firstname='Kelly', ts=1513738432284, page='NextSong', level='paid', phase=1),\n",
              " Row(userId='1138', firstname='Kelly', ts=1513763195284, page='NextSong', level='paid', phase=1),\n",
              " Row(userId='1138', firstname='Kelly', ts=1513763453284, page='NextSong', level='paid', phase=1),\n",
              " Row(userId='1138', firstname='Kelly', ts=1513763622284, page='NextSong', level='paid', phase=1),\n",
              " Row(userId='1138', firstname='Kelly', ts=1513764238284, page='NextSong', level='paid', phase=1),\n",
              " Row(userId='1138', firstname='Kelly', ts=1513764462284, page='NextSong', level='paid', phase=1),\n",
              " Row(userId='1138', firstname='Kelly', ts=1513764782284, page='NextSong', level='paid', phase=1),\n",
              " Row(userId='1138', firstname='Kelly', ts=1513765075284, page='NextSong', level='paid', phase=1),\n",
              " Row(userId='1138', firstname='Kelly', ts=1513765075284, page='Home', level='paid', phase=1),\n",
              " Row(userId='1138', firstname='Kelly', ts=1513765655284, page='NextSong', level='paid', phase=1),\n",
              " Row(userId='1138', firstname='Kelly', ts=1513765818284, page='NextSong', level='paid', phase=1),\n",
              " Row(userId='1138', firstname='Kelly', ts=1513766091284, page='NextSong', level='paid', phase=1),\n",
              " Row(userId='1138', firstname='Kelly', ts=1513766189284, page='NextSong', level='paid', phase=1),\n",
              " Row(userId='1138', firstname='Kelly', ts=1513766385284, page='NextSong', level='paid', phase=1),\n",
              " Row(userId='1138', firstname='Kelly', ts=1513766599284, page='NextSong', level='paid', phase=1),\n",
              " Row(userId='1138', firstname='Kelly', ts=1513766838284, page='NextSong', level='paid', phase=1),\n",
              " Row(userId='1138', firstname='Kelly', ts=1513767203284, page='NextSong', level='paid', phase=1),\n",
              " Row(userId='1138', firstname='Kelly', ts=1513767413284, page='NextSong', level='paid', phase=1),\n",
              " Row(userId='1138', firstname='Kelly', ts=1513767643284, page='NextSong', level='paid', phase=1),\n",
              " Row(userId='1138', firstname='Kelly', ts=1513768012284, page='NextSong', level='paid', phase=1),\n",
              " Row(userId='1138', firstname='Kelly', ts=1513768242284, page='NextSong', level='paid', phase=1),\n",
              " Row(userId='1138', firstname='Kelly', ts=1513768452284, page='NextSong', level='paid', phase=1),\n",
              " Row(userId='1138', firstname='Kelly', ts=1513768453284, page='Downgrade', level='paid', phase=1),\n",
              " Row(userId='1138', firstname='Kelly', ts=1513768454284, page='Submit Downgrade', level='paid', phase=1),\n",
              " Row(userId='1138', firstname='Kelly', ts=1513768456284, page='Home', level='free', phase=0),\n",
              " Row(userId='1138', firstname='Kelly', ts=1513814880284, page='NextSong', level='free', phase=0),\n",
              " Row(userId='1138', firstname='Kelly', ts=1513821430284, page='Home', level='free', phase=0)]"
            ]
          },
          "metadata": {},
          "execution_count": 63
        }
      ]
    },
    {
      "cell_type": "markdown",
      "metadata": {
        "id": "wNNAjNGa28Oj"
      },
      "source": [
        "## **Question 1**\n",
        "Which page did user id \"\" (empty string) NOT visit?"
      ]
    },
    {
      "cell_type": "code",
      "metadata": {
        "colab": {
          "base_uri": "https://localhost:8080/"
        },
        "id": "ln2HqM-w2_kN",
        "outputId": "cc15385f-3ace-4655-e91a-4c3706bf38ee"
      },
      "source": [
        "user_log.select([\"page\"]).where(user_log.userId == \"\").dropDuplicates().collect()"
      ],
      "execution_count": 66,
      "outputs": [
        {
          "output_type": "execute_result",
          "data": {
            "text/plain": [
              "[Row(page='Home'), Row(page='About'), Row(page='Login'), Row(page='Help')]"
            ]
          },
          "metadata": {},
          "execution_count": 66
        }
      ]
    },
    {
      "cell_type": "code",
      "metadata": {
        "colab": {
          "base_uri": "https://localhost:8080/"
        },
        "id": "ujGvcg3BChBX",
        "outputId": "c758c401-ed87-4c16-f881-35055f2f1408"
      },
      "source": [
        "# filter for users with blank user id\n",
        "blank_pages = user_log.filter(user_log.userId == '') \\\n",
        "    .select(['page']) \\\n",
        "    .alias('blank_pages') \\\n",
        "    .dropDuplicates()\n",
        "    \n",
        "# get a list of possible pages that could be visited\n",
        "all_pages = user_log.select('page').dropDuplicates()\n",
        "\n",
        "# find values in all_pages that are not in blank_pages\n",
        "# these are the pages that the blank user did not go to\n",
        "for row in set(all_pages.collect()) - set(blank_pages.collect()):\n",
        "    print(row.page)"
      ],
      "execution_count": 151,
      "outputs": [
        {
          "output_type": "stream",
          "name": "stdout",
          "text": [
            "Submit Downgrade\n",
            "NextSong\n",
            "None\n",
            "Submit Upgrade\n",
            "Error\n",
            "Downgrade\n",
            "Save Settings\n",
            "Upgrade\n",
            "Settings\n",
            "Logout\n"
          ]
        }
      ]
    },
    {
      "cell_type": "markdown",
      "metadata": {
        "id": "JNiTfxbz3e_F"
      },
      "source": [
        "## **Question 3**\n",
        "How many female users do we have in the data set?"
      ]
    },
    {
      "cell_type": "code",
      "metadata": {
        "colab": {
          "base_uri": "https://localhost:8080/"
        },
        "id": "4szGwhh234tO",
        "outputId": "ec22b5fd-795c-4a38-dc44-98479d1a6c81"
      },
      "source": [
        "user_log.select(['userId']).where(user_log.gender == 'F').dropDuplicates().count()"
      ],
      "execution_count": 76,
      "outputs": [
        {
          "output_type": "execute_result",
          "data": {
            "text/plain": [
              "460"
            ]
          },
          "metadata": {},
          "execution_count": 76
        }
      ]
    },
    {
      "cell_type": "markdown",
      "metadata": {
        "id": "qrDPMGxa4iLq"
      },
      "source": [
        "## **Question 4**\n",
        "How many songs were played from the most played artist?"
      ]
    },
    {
      "cell_type": "code",
      "metadata": {
        "id": "YxtdeNsbiArC",
        "colab": {
          "base_uri": "https://localhost:8080/"
        },
        "outputId": "a5f20636-e0ac-4482-9c85-a0763d145380"
      },
      "source": [
        "user_log_valid.select([\"userId\", \"artist\"]).where(user_log.artist != '').dropDuplicates().groupby(user_log_valid.artist).count().sort(desc(\"count\")).show()"
      ],
      "execution_count": 79,
      "outputs": [
        {
          "output_type": "stream",
          "name": "stdout",
          "text": [
            "+--------------------+-----+\n",
            "|              artist|count|\n",
            "+--------------------+-----+\n",
            "|            Coldplay|   60|\n",
            "|       Kings Of Leon|   54|\n",
            "|Florence + The Ma...|   48|\n",
            "|      The Black Keys|   39|\n",
            "|       Dwight Yoakam|   39|\n",
            "|       Justin Bieber|   35|\n",
            "|         OneRepublic|   32|\n",
            "|        Jack Johnson|   31|\n",
            "|                Muse|   31|\n",
            "|        Taylor Swift|   28|\n",
            "|           Radiohead|   28|\n",
            "|          Nickelback|   27|\n",
            "|Barry Tuckwell/Ac...|   27|\n",
            "|           Metallica|   26|\n",
            "|           Daft Punk|   23|\n",
            "|Red Hot Chili Pep...|   23|\n",
            "|               Train|   23|\n",
            "|          John Mayer|   22|\n",
            "|         The Killers|   22|\n",
            "|            Harmonia|   22|\n",
            "+--------------------+-----+\n",
            "only showing top 20 rows\n",
            "\n"
          ]
        }
      ]
    },
    {
      "cell_type": "code",
      "metadata": {
        "colab": {
          "base_uri": "https://localhost:8080/"
        },
        "id": "HhptQ0045ELX",
        "outputId": "d553d369-2986-4c68-9ed5-11ce65b6b537"
      },
      "source": [
        "user_log.select([\"song\", \"artist\"]).where(user_log.artist == \"Coldplay\").count()"
      ],
      "execution_count": 77,
      "outputs": [
        {
          "output_type": "execute_result",
          "data": {
            "text/plain": [
              "83"
            ]
          },
          "metadata": {},
          "execution_count": 77
        }
      ]
    },
    {
      "cell_type": "markdown",
      "metadata": {
        "id": "zbV2ExUK4vBr"
      },
      "source": [
        "## **Question 5**\n",
        "\n",
        "How many songs do users listen to on average between visiting our home page? Please round your answer to the closest integer."
      ]
    },
    {
      "cell_type": "code",
      "metadata": {
        "id": "KnbRCcCM7tDC"
      },
      "source": [
        "from pyspark.sql import functions as f"
      ],
      "execution_count": 120,
      "outputs": []
    },
    {
      "cell_type": "code",
      "metadata": {
        "id": "GmO9NO_K5pqx"
      },
      "source": [
        "function = udf(lambda ishome : int(ishome == 'Home'), IntegerType())\n",
        "\n",
        "user_window = Window.partitionBy('userId').orderBy(desc('ts')).rangeBetween(Window.unboundedPreceding, 0)\n",
        "\n",
        "cusum = user_log.filter((user_log.page == 'NextSong') | (user_log.page == 'Home')) \\\n",
        "    .select('userID', 'page', 'ts') \\\n",
        "    .withColumn('homevisit', f.col('page')) \\\n",
        "    .withColumn('period', Fsum('homevisit').over(user_window))"
      ],
      "execution_count": 121,
      "outputs": []
    },
    {
      "cell_type": "code",
      "metadata": {
        "colab": {
          "base_uri": "https://localhost:8080/"
        },
        "id": "d6go53Me8hY_",
        "outputId": "0f8c01b8-851f-42b4-c803-1571f3899760"
      },
      "source": [
        "cusum.show()"
      ],
      "execution_count": 122,
      "outputs": [
        {
          "output_type": "stream",
          "name": "stdout",
          "text": [
            "+------+----+-------------+---------+------+\n",
            "|userID|page|           ts|homevisit|period|\n",
            "+------+----+-------------+---------+------+\n",
            "|      |Home|1513846494284|     Home|  null|\n",
            "|      |Home|1513845761284|     Home|  null|\n",
            "|      |Home|1513845132284|     Home|  null|\n",
            "|      |Home|1513845055284|     Home|  null|\n",
            "|      |Home|1513844251284|     Home|  null|\n",
            "|      |Home|1513844026284|     Home|  null|\n",
            "|      |Home|1513843602284|     Home|  null|\n",
            "|      |Home|1513843098284|     Home|  null|\n",
            "|      |Home|1513842367284|     Home|  null|\n",
            "|      |Home|1513841138284|     Home|  null|\n",
            "|      |Home|1513841121284|     Home|  null|\n",
            "|      |Home|1513839824284|     Home|  null|\n",
            "|      |Home|1513838865284|     Home|  null|\n",
            "|      |Home|1513838857284|     Home|  null|\n",
            "|      |Home|1513838835284|     Home|  null|\n",
            "|      |Home|1513838141284|     Home|  null|\n",
            "|      |Home|1513838110284|     Home|  null|\n",
            "|      |Home|1513836104284|     Home|  null|\n",
            "|      |Home|1513835948284|     Home|  null|\n",
            "|      |Home|1513835945284|     Home|  null|\n",
            "+------+----+-------------+---------+------+\n",
            "only showing top 20 rows\n",
            "\n"
          ]
        }
      ]
    },
    {
      "cell_type": "code",
      "metadata": {
        "colab": {
          "base_uri": "https://localhost:8080/"
        },
        "id": "R_lwss3g8bEM",
        "outputId": "ad9e63c6-24d5-4d5a-8563-3944f3a960e4"
      },
      "source": [
        "cusum.filter((cusum.page == 'NextSong')) \\\n",
        "    .groupBy('userId', 'period') \\\n",
        "    .agg({'period':'count'}) \\\n",
        "    .agg({'count(period)':'avg'}).show()"
      ],
      "execution_count": 123,
      "outputs": [
        {
          "output_type": "stream",
          "name": "stdout",
          "text": [
            "+------------------+\n",
            "|avg(count(period))|\n",
            "+------------------+\n",
            "|               0.0|\n",
            "+------------------+\n",
            "\n"
          ]
        }
      ]
    },
    {
      "cell_type": "markdown",
      "metadata": {
        "id": "EehxkQT4_WYC"
      },
      "source": [
        "# **Spark SQL**\n",
        "\n",
        "* [Spark SQL built-in functions](https://spark.apache.org/docs/latest/api/sql/index.html)\n",
        "* [Spark SQL guide](https://spark.apache.org/docs/latest/sql-getting-started.html)\n",
        "\n",
        "Create a View And Run Queries"
      ]
    },
    {
      "cell_type": "code",
      "metadata": {
        "id": "HQqFn7fpAZMT"
      },
      "source": [
        "path = \"drive/MyDrive/Github/spark/data/sparkify_log_small.json\"\n",
        "user_log = spark.read.json(path)"
      ],
      "execution_count": 128,
      "outputs": []
    },
    {
      "cell_type": "code",
      "metadata": {
        "id": "nlETuMlbAOvj"
      },
      "source": [
        "user_log.createOrReplaceTempView(\"user_log_table\")"
      ],
      "execution_count": 129,
      "outputs": []
    },
    {
      "cell_type": "code",
      "metadata": {
        "colab": {
          "base_uri": "https://localhost:8080/"
        },
        "id": "kvcaRNAcAcsT",
        "outputId": "b6331b6d-ff17-4405-85a4-cc1ef25ecdfd"
      },
      "source": [
        "spark.sql(\"SELECT * FROM user_log_table LIMIT 2\").show()"
      ],
      "execution_count": 130,
      "outputs": [
        {
          "output_type": "stream",
          "name": "stdout",
          "text": [
            "+---------------+-------------+---------+---------+------+-------------+--------+---------+-----+--------------------+------+--------+-------------+---------+--------------------+------+-------------+--------------------+------+\n",
            "|_corrupt_record|       artist|     auth|firstName|gender|itemInSession|lastName|   length|level|            location|method|    page| registration|sessionId|                song|status|           ts|           userAgent|userId|\n",
            "+---------------+-------------+---------+---------+------+-------------+--------+---------+-----+--------------------+------+--------+-------------+---------+--------------------+------+-------------+--------------------+------+\n",
            "|           null|Showaddywaddy|Logged In|  Kenneth|     M|          112|Matthews|232.93342| paid|Charlotte-Concord...|   PUT|NextSong|1509380319284|     5132|Christmas Tears W...|   200|1513720872284|\"Mozilla/5.0 (Win...|  1046|\n",
            "|           null|   Lily Allen|Logged In|Elizabeth|     F|            7|   Chase|195.23873| free|Shreveport-Bossie...|   PUT|NextSong|1512718541284|     5027|       Cheryl Tweedy|   200|1513720878284|\"Mozilla/5.0 (Win...|  1000|\n",
            "+---------------+-------------+---------+---------+------+-------------+--------+---------+-----+--------------------+------+--------+-------------+---------+--------------------+------+-------------+--------------------+------+\n",
            "\n"
          ]
        }
      ]
    },
    {
      "cell_type": "code",
      "metadata": {
        "colab": {
          "base_uri": "https://localhost:8080/"
        },
        "id": "diZedzTaAiQp",
        "outputId": "bb33b3ee-2a0a-476c-9f9e-cee8a405086c"
      },
      "source": [
        "spark.sql('''\n",
        "          SELECT * \n",
        "          FROM user_log_table \n",
        "          LIMIT 2\n",
        "          '''\n",
        "          ).show()"
      ],
      "execution_count": 131,
      "outputs": [
        {
          "output_type": "stream",
          "name": "stdout",
          "text": [
            "+---------------+-------------+---------+---------+------+-------------+--------+---------+-----+--------------------+------+--------+-------------+---------+--------------------+------+-------------+--------------------+------+\n",
            "|_corrupt_record|       artist|     auth|firstName|gender|itemInSession|lastName|   length|level|            location|method|    page| registration|sessionId|                song|status|           ts|           userAgent|userId|\n",
            "+---------------+-------------+---------+---------+------+-------------+--------+---------+-----+--------------------+------+--------+-------------+---------+--------------------+------+-------------+--------------------+------+\n",
            "|           null|Showaddywaddy|Logged In|  Kenneth|     M|          112|Matthews|232.93342| paid|Charlotte-Concord...|   PUT|NextSong|1509380319284|     5132|Christmas Tears W...|   200|1513720872284|\"Mozilla/5.0 (Win...|  1046|\n",
            "|           null|   Lily Allen|Logged In|Elizabeth|     F|            7|   Chase|195.23873| free|Shreveport-Bossie...|   PUT|NextSong|1512718541284|     5027|       Cheryl Tweedy|   200|1513720878284|\"Mozilla/5.0 (Win...|  1000|\n",
            "+---------------+-------------+---------+---------+------+-------------+--------+---------+-----+--------------------+------+--------+-------------+---------+--------------------+------+-------------+--------------------+------+\n",
            "\n"
          ]
        }
      ]
    },
    {
      "cell_type": "code",
      "metadata": {
        "colab": {
          "base_uri": "https://localhost:8080/"
        },
        "id": "qMKe5tbcAlB2",
        "outputId": "9d95fcde-e369-46bb-a4ba-c2c88a9c026a"
      },
      "source": [
        "spark.sql('''\n",
        "          SELECT COUNT(*) \n",
        "          FROM user_log_table \n",
        "          '''\n",
        "          ).show()"
      ],
      "execution_count": 132,
      "outputs": [
        {
          "output_type": "stream",
          "name": "stdout",
          "text": [
            "+--------+\n",
            "|count(1)|\n",
            "+--------+\n",
            "|   10000|\n",
            "+--------+\n",
            "\n"
          ]
        }
      ]
    },
    {
      "cell_type": "code",
      "metadata": {
        "colab": {
          "base_uri": "https://localhost:8080/"
        },
        "id": "55tRiI5sAnrL",
        "outputId": "3bde3aeb-e113-4bd6-8072-34ff990b9f4c"
      },
      "source": [
        "spark.sql('''\n",
        "          SELECT userID, firstname, page, song\n",
        "          FROM user_log_table \n",
        "          WHERE userID == '1046'\n",
        "          '''\n",
        "          ).collect()"
      ],
      "execution_count": 133,
      "outputs": [
        {
          "output_type": "execute_result",
          "data": {
            "text/plain": [
              "[Row(userID='1046', firstname='Kenneth', page='NextSong', song='Christmas Tears Will Fall'),\n",
              " Row(userID='1046', firstname='Kenneth', page='NextSong', song='Be Wary Of A Woman'),\n",
              " Row(userID='1046', firstname='Kenneth', page='NextSong', song='Public Enemy No.1'),\n",
              " Row(userID='1046', firstname='Kenneth', page='NextSong', song='Reign Of The Tyrants'),\n",
              " Row(userID='1046', firstname='Kenneth', page='NextSong', song='Father And Son'),\n",
              " Row(userID='1046', firstname='Kenneth', page='NextSong', song='No. 5'),\n",
              " Row(userID='1046', firstname='Kenneth', page='NextSong', song='Seventeen'),\n",
              " Row(userID='1046', firstname='Kenneth', page='Home', song=None),\n",
              " Row(userID='1046', firstname='Kenneth', page='NextSong', song='War on war'),\n",
              " Row(userID='1046', firstname='Kenneth', page='NextSong', song='Killermont Street'),\n",
              " Row(userID='1046', firstname='Kenneth', page='NextSong', song='Black & Blue'),\n",
              " Row(userID='1046', firstname='Kenneth', page='Logout', song=None),\n",
              " Row(userID='1046', firstname='Kenneth', page='Home', song=None),\n",
              " Row(userID='1046', firstname='Kenneth', page='NextSong', song='Heads Will Roll'),\n",
              " Row(userID='1046', firstname='Kenneth', page='NextSong', song='Bleed It Out [Live At Milton Keynes]'),\n",
              " Row(userID='1046', firstname='Kenneth', page='NextSong', song='Clocks'),\n",
              " Row(userID='1046', firstname='Kenneth', page='NextSong', song='Love Rain'),\n",
              " Row(userID='1046', firstname='Kenneth', page='NextSong', song=\"Ry Ry's Song (Album Version)\"),\n",
              " Row(userID='1046', firstname='Kenneth', page='NextSong', song='The Invisible Man'),\n",
              " Row(userID='1046', firstname='Kenneth', page='NextSong', song='Catch You Baby (Steve Pitron & Max Sanna Radio Edit)'),\n",
              " Row(userID='1046', firstname='Kenneth', page='NextSong', song='Ask The Mountains'),\n",
              " Row(userID='1046', firstname='Kenneth', page='NextSong', song='Given Up (Album Version)'),\n",
              " Row(userID='1046', firstname='Kenneth', page='NextSong', song='El Cuatrero'),\n",
              " Row(userID='1046', firstname='Kenneth', page='NextSong', song='Hero/Heroine'),\n",
              " Row(userID='1046', firstname='Kenneth', page='NextSong', song='Spring'),\n",
              " Row(userID='1046', firstname='Kenneth', page='NextSong', song='Rising Moon'),\n",
              " Row(userID='1046', firstname='Kenneth', page='NextSong', song='Tough Little Boys'),\n",
              " Row(userID='1046', firstname='Kenneth', page='NextSong', song=\"Qu'Est-Ce Que T'Es Belle\"),\n",
              " Row(userID='1046', firstname='Kenneth', page='NextSong', song='Secrets'),\n",
              " Row(userID='1046', firstname='Kenneth', page='NextSong', song='Under The Gun')]"
            ]
          },
          "metadata": {},
          "execution_count": 133
        }
      ]
    },
    {
      "cell_type": "code",
      "metadata": {
        "colab": {
          "base_uri": "https://localhost:8080/"
        },
        "id": "SuoR8eAbAqrr",
        "outputId": "413f499b-7e91-4428-9668-5a980c3a85e3"
      },
      "source": [
        "spark.sql('''\n",
        "          SELECT DISTINCT page\n",
        "          FROM user_log_table \n",
        "          ORDER BY page ASC\n",
        "          '''\n",
        "          ).show()"
      ],
      "execution_count": 134,
      "outputs": [
        {
          "output_type": "stream",
          "name": "stdout",
          "text": [
            "+----------------+\n",
            "|            page|\n",
            "+----------------+\n",
            "|            null|\n",
            "|           About|\n",
            "|       Downgrade|\n",
            "|           Error|\n",
            "|            Help|\n",
            "|            Home|\n",
            "|           Login|\n",
            "|          Logout|\n",
            "|        NextSong|\n",
            "|   Save Settings|\n",
            "|        Settings|\n",
            "|Submit Downgrade|\n",
            "|  Submit Upgrade|\n",
            "|         Upgrade|\n",
            "+----------------+\n",
            "\n"
          ]
        }
      ]
    },
    {
      "cell_type": "markdown",
      "metadata": {
        "id": "z6vEFoV_AvxP"
      },
      "source": [
        "## **User Defined Functions**"
      ]
    },
    {
      "cell_type": "code",
      "metadata": {
        "colab": {
          "base_uri": "https://localhost:8080/"
        },
        "id": "3DO7hWZvA0SX",
        "outputId": "766d529b-ebf2-4908-dbfb-a939b8e09219"
      },
      "source": [
        "spark.udf.register(\"get_hour\", lambda x: int(datetime.datetime.fromtimestamp(x / 1000.0).hour))"
      ],
      "execution_count": 135,
      "outputs": [
        {
          "output_type": "execute_result",
          "data": {
            "text/plain": [
              "<function __main__.<lambda>>"
            ]
          },
          "metadata": {},
          "execution_count": 135
        }
      ]
    },
    {
      "cell_type": "code",
      "metadata": {
        "colab": {
          "base_uri": "https://localhost:8080/"
        },
        "id": "_ZteBWUPA4AA",
        "outputId": "5ad8bf43-3f84-4314-fcd7-e7fa7279f30d"
      },
      "source": [
        "spark.sql('''\n",
        "          SELECT *, get_hour(ts) AS hour\n",
        "          FROM user_log_table\n",
        "          WHERE ts is not NULL \n",
        "          LIMIT 1\n",
        "          '''\n",
        "          ).collect()"
      ],
      "execution_count": 137,
      "outputs": [
        {
          "output_type": "execute_result",
          "data": {
            "text/plain": [
              "[Row(_corrupt_record=None, artist='Showaddywaddy', auth='Logged In', firstName='Kenneth', gender='M', itemInSession=112, lastName='Matthews', length=232.93342, level='paid', location='Charlotte-Concord-Gastonia, NC-SC', method='PUT', page='NextSong', registration=1509380319284, sessionId=5132, song='Christmas Tears Will Fall', status=200, ts=1513720872284, userAgent='\"Mozilla/5.0 (Windows NT 6.1) AppleWebKit/537.36 (KHTML, like Gecko) Chrome/36.0.1985.125 Safari/537.36\"', userId='1046', hour='22')]"
            ]
          },
          "metadata": {},
          "execution_count": 137
        }
      ]
    },
    {
      "cell_type": "code",
      "metadata": {
        "id": "70P7sTM2BB2r"
      },
      "source": [
        "songs_in_hour = spark.sql('''\n",
        "          SELECT get_hour(ts) AS hour, COUNT(*) as plays_per_hour\n",
        "          FROM user_log_table\n",
        "          WHERE page = \"NextSong\"\n",
        "          GROUP BY hour\n",
        "          ORDER BY cast(hour as int) ASC\n",
        "          '''\n",
        "          )"
      ],
      "execution_count": 138,
      "outputs": []
    },
    {
      "cell_type": "code",
      "metadata": {
        "colab": {
          "base_uri": "https://localhost:8080/"
        },
        "id": "fyY_WWwKBEsw",
        "outputId": "e1b69e82-96f7-430f-d5ea-aed5b3f58a45"
      },
      "source": [
        "songs_in_hour.show()"
      ],
      "execution_count": 139,
      "outputs": [
        {
          "output_type": "stream",
          "name": "stdout",
          "text": [
            "+----+--------------+\n",
            "|hour|plays_per_hour|\n",
            "+----+--------------+\n",
            "|   0|           436|\n",
            "|   1|           438|\n",
            "|   2|           361|\n",
            "|   3|           290|\n",
            "|   4|           338|\n",
            "|   5|           266|\n",
            "|   6|           327|\n",
            "|   7|           343|\n",
            "|   8|           361|\n",
            "|   9|           229|\n",
            "|  10|           205|\n",
            "|  11|           218|\n",
            "|  12|           238|\n",
            "|  13|           322|\n",
            "|  14|           442|\n",
            "|  15|           462|\n",
            "|  16|           451|\n",
            "|  17|           408|\n",
            "|  18|           345|\n",
            "|  19|           280|\n",
            "+----+--------------+\n",
            "only showing top 20 rows\n",
            "\n"
          ]
        }
      ]
    },
    {
      "cell_type": "markdown",
      "metadata": {
        "id": "j-bMzXy7BIa_"
      },
      "source": [
        "## **Converting Results to Pandas**"
      ]
    },
    {
      "cell_type": "code",
      "metadata": {
        "id": "kwD9qfGpBLSp"
      },
      "source": [
        "songs_in_hour_pd = songs_in_hour.toPandas()"
      ],
      "execution_count": 140,
      "outputs": []
    },
    {
      "cell_type": "code",
      "metadata": {
        "colab": {
          "base_uri": "https://localhost:8080/"
        },
        "id": "QlfMoLcWBXmw",
        "outputId": "5a697d71-1da6-41ac-9b38-27b0b5d1bdbb"
      },
      "source": [
        "print(songs_in_hour_pd)"
      ],
      "execution_count": 141,
      "outputs": [
        {
          "output_type": "stream",
          "name": "stdout",
          "text": [
            "   hour  plays_per_hour\n",
            "0     0             436\n",
            "1     1             438\n",
            "2     2             361\n",
            "3     3             290\n",
            "4     4             338\n",
            "5     5             266\n",
            "6     6             327\n",
            "7     7             343\n",
            "8     8             361\n",
            "9     9             229\n",
            "10   10             205\n",
            "11   11             218\n",
            "12   12             238\n",
            "13   13             322\n",
            "14   14             442\n",
            "15   15             462\n",
            "16   16             451\n",
            "17   17             408\n",
            "18   18             345\n",
            "19   19             280\n",
            "20   20             238\n",
            "21   21             239\n",
            "22   22             355\n",
            "23   23             351\n"
          ]
        }
      ]
    },
    {
      "cell_type": "markdown",
      "metadata": {
        "id": "NC3uECsTBhRe"
      },
      "source": [
        "## **Question 1**\n",
        "Which page did user id \"\"(empty string) NOT visit?"
      ]
    },
    {
      "cell_type": "code",
      "metadata": {
        "colab": {
          "base_uri": "https://localhost:8080/"
        },
        "id": "EZtGsqgRBl_v",
        "outputId": "7a513321-525e-4e01-da01-008c50a268c6"
      },
      "source": [
        "blank_pg = spark.sql('''\n",
        "          SELECT distinct page\n",
        "          FROM user_log_table\n",
        "          WHERE page NOT IN (SELECT distinct page\n",
        "          FROM user_log_table \n",
        "          WHERE userId == '')\n",
        "          '''\n",
        "          ).show()"
      ],
      "execution_count": 142,
      "outputs": [
        {
          "output_type": "stream",
          "name": "stdout",
          "text": [
            "+----------------+\n",
            "|            page|\n",
            "+----------------+\n",
            "|Submit Downgrade|\n",
            "|       Downgrade|\n",
            "|          Logout|\n",
            "|   Save Settings|\n",
            "|        Settings|\n",
            "|        NextSong|\n",
            "|         Upgrade|\n",
            "|           Error|\n",
            "|  Submit Upgrade|\n",
            "+----------------+\n",
            "\n"
          ]
        }
      ]
    },
    {
      "cell_type": "markdown",
      "metadata": {
        "id": "XwyIbUP_B3Fm"
      },
      "source": [
        "## **Question 3**\n",
        "How many female users do we have in the data set?"
      ]
    },
    {
      "cell_type": "code",
      "metadata": {
        "colab": {
          "base_uri": "https://localhost:8080/"
        },
        "id": "qhHsnZOPCGBh",
        "outputId": "bad90c93-c032-479c-c5c0-aa9c8a1c8c6f"
      },
      "source": [
        "spark.sql('''\n",
        "          SELECT count(distinct userId)\n",
        "          FROM user_log_table \n",
        "          WHERE gender == 'F'\n",
        "          '''\n",
        "          ).collect()"
      ],
      "execution_count": 144,
      "outputs": [
        {
          "output_type": "execute_result",
          "data": {
            "text/plain": [
              "[Row(count(DISTINCT userId)=460)]"
            ]
          },
          "metadata": {},
          "execution_count": 144
        }
      ]
    },
    {
      "cell_type": "markdown",
      "metadata": {
        "id": "i4AFt6vpCOYI"
      },
      "source": [
        "## **Question 4**\n",
        "How many songs were played from the most played artist?"
      ]
    },
    {
      "cell_type": "code",
      "metadata": {
        "colab": {
          "base_uri": "https://localhost:8080/"
        },
        "id": "HKLre0sFCNoJ",
        "outputId": "7e1fbf6a-6cbe-466c-cbfd-416f2f805f28"
      },
      "source": [
        "spark.sql('''\n",
        "          SELECT count(Song) as total\n",
        "          FROM user_log_table \n",
        "          GROUP BY Artist\n",
        "          ORDER BY total desc\n",
        "          '''\n",
        "          ).show(1)"
      ],
      "execution_count": 145,
      "outputs": [
        {
          "output_type": "stream",
          "name": "stdout",
          "text": [
            "+-----+\n",
            "|total|\n",
            "+-----+\n",
            "|   83|\n",
            "+-----+\n",
            "only showing top 1 row\n",
            "\n"
          ]
        }
      ]
    },
    {
      "cell_type": "markdown",
      "metadata": {
        "id": "HGj2GwCGCZB2"
      },
      "source": [
        "## **Question 5 (challenge)**\n",
        "How many songs do users listen to on average between visiting our home page? Please round your answer to the closest integer."
      ]
    },
    {
      "cell_type": "code",
      "metadata": {
        "colab": {
          "base_uri": "https://localhost:8080/"
        },
        "id": "gLYkUHUIDi4y",
        "outputId": "fd1b6a2a-09f0-4ce5-c628-59d0df664925"
      },
      "source": [
        "# SELECT CASE WHEN 1 > 0 THEN 1 WHEN 2 > 0 THEN 2.0 ELSE 1.2 END;\n",
        "is_home = spark.sql(\"SELECT userId, page, ts, CASE WHEN page = 'Home' THEN 1 ELSE 0 END AS is_home FROM user_log_table \\\n",
        "            WHERE (page = 'NextSong') or (page = 'Home') \\\n",
        "            \")\n",
        "\n",
        "# keep the results in a new view\n",
        "is_home.createOrReplaceTempView(\"is_home_table\")\n",
        "\n",
        "# find the cumulative sum over the is_home column\n",
        "cumulative_sum = spark.sql(\"SELECT *, SUM(is_home) OVER \\\n",
        "    (PARTITION BY userID ORDER BY ts DESC ROWS BETWEEN UNBOUNDED PRECEDING AND CURRENT ROW) AS period \\\n",
        "    FROM is_home_table\")\n",
        "\n",
        "# keep the results in a view\n",
        "cumulative_sum.createOrReplaceTempView(\"period_table\")\n",
        "\n",
        "# find the average count for NextSong\n",
        "spark.sql(\"SELECT AVG(count_results) FROM \\\n",
        "          (SELECT COUNT(*) AS count_results FROM period_table \\\n",
        "GROUP BY userID, period, page HAVING page = 'NextSong') AS counts\").show()"
      ],
      "execution_count": 154,
      "outputs": [
        {
          "output_type": "stream",
          "name": "stdout",
          "text": [
            "+------------------+\n",
            "|avg(count_results)|\n",
            "+------------------+\n",
            "| 6.674789915966387|\n",
            "+------------------+\n",
            "\n"
          ]
        }
      ]
    }
  ]
}